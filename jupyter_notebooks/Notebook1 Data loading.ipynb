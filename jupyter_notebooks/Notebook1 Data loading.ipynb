{
  "cells": [
    {
      "source": [
        "# **Housing data - Feature Engineering Notebook**"
      ],
      "cell_type": "markdown",
      "metadata": {
        "id": "0aStgWSO0E0E"
      }
    },
    {
      "cell_type": "markdown",
      "metadata": {
        "id": "1eLEkw5O0ECa"
      },
      "source": [
        "## Objectives\n",
        "\n",
        "* Fetch data from Kaggle and save as raw data \n",
        "* Inspect data, match data types and handle missing variables\n",
        "* Save original datasets under outputs/datasets/collection and outputs/datasets/future_data (the latter is test dataset)\n",
        "* Save cleaned data under outputs/datasets/cleaned\n",
        "\n",
        "## Inputs\n",
        "\n",
        "* Kaggle csv file, downloaded directly from https://www.kaggle.com/datasets/codeinstitute/housing-prices-data\n",
        "\n",
        "## Outputs\n",
        "\n",
        "* Generate Dataset: outputs/datasets/collection/house_prices_records.csv\n",
        "* Generate cleaned dataset: outputs/datasets/cleaned/house_prices_records_cleaned.csv\n",
        "* Corresponding files for inherited houses, the small dataset that will later be used to predict the model, are in corresponding folders.\n",
        "\n",
        "## Additional Comments\n",
        "\n",
        "* In case you have any additional comments that don't fit in the previous bullets, please state them here. \n"
      ]
    },
    {
      "cell_type": "markdown",
      "metadata": {
        "id": "9uWZXH9LwoQg"
      },
      "source": [
        "---"
      ]
    },
    {
      "cell_type": "markdown",
      "metadata": {
        "id": "cqP-UeN-z3i2"
      },
      "source": [
        "# Change working directory"
      ]
    },
    {
      "cell_type": "markdown",
      "metadata": {},
      "source": [
        "* We are assuming you will store the notebooks in a subfolder, therefore when running the notebook in the editor, you will need to change the working directory"
      ]
    },
    {
      "cell_type": "markdown",
      "metadata": {
        "id": "aOGIGS-uz3i2"
      },
      "source": [
        "We need to change the working directory from its current folder to its parent folder\n",
        "* We access the current directory with os.getcwd()"
      ]
    },
    {
      "cell_type": "code",
      "execution_count": 1,
      "metadata": {
        "id": "wZfF_j-Bz3i4",
        "outputId": "66943449-1436-4c3d-85c7-b85f9f78349b"
      },
      "outputs": [
        {
          "output_type": "execute_result",
          "data": {
            "text/plain": "'/workspaces/housing/jupyter_notebooks'"
          },
          "metadata": {},
          "execution_count": 1
        }
      ],
      "source": [
        "import os\n",
        "current_dir = os.getcwd()\n",
        "current_dir"
      ]
    },
    {
      "cell_type": "markdown",
      "metadata": {
        "id": "9MWW8E7lz3i7"
      },
      "source": [
        "We want to make the parent of the current directory the new current directory\n",
        "* os.path.dirname() gets the parent directory\n",
        "* os.chir() defines the new current directory"
      ]
    },
    {
      "cell_type": "code",
      "execution_count": 2,
      "metadata": {
        "id": "TwHsQRWjz3i9",
        "outputId": "86849db3-cd2f-4cc5-ebb8-2d0caafa1a2c",
        "tags": []
      },
      "outputs": [
        {
          "output_type": "stream",
          "name": "stdout",
          "text": "You set a new current directory\n"
        }
      ],
      "source": [
        "os.chdir(os.path.dirname(current_dir))\n",
        "print(\"You set a new current directory\")"
      ]
    },
    {
      "cell_type": "markdown",
      "metadata": {
        "id": "M_xPk_Ijz3i-"
      },
      "source": [
        "Confirm the new current directory"
      ]
    },
    {
      "cell_type": "code",
      "execution_count": 3,
      "metadata": {
        "id": "vz3S-_kjz3jA",
        "outputId": "00b79ae4-75d0-4a96-d193-ac9ef9847ea2"
      },
      "outputs": [
        {
          "output_type": "execute_result",
          "data": {
            "text/plain": "'/workspaces/housing'"
          },
          "metadata": {},
          "execution_count": 3
        }
      ],
      "source": [
        "current_dir = os.getcwd()\n",
        "current_dir"
      ]
    },
    {
      "cell_type": "markdown",
      "metadata": {
        "id": "-mavJ8DibrcQ"
      },
      "source": [
        "# Section 1: Load and inspect the data"
      ]
    },
    {
      "cell_type": "markdown",
      "metadata": {},
      "source": [
        "Loading the data and showing first rows to get an idea of the data I'm working with."
      ]
    },
    {
      "cell_type": "code",
      "execution_count": 14,
      "metadata": {
        "tags": []
      },
      "outputs": [
        {
          "output_type": "stream",
          "name": "stdout",
          "text": "1stFlrSF  2ndFlrSF  BedroomAbvGr BsmtExposure  BsmtFinSF1 BsmtFinType1  \\\n0       856     854.0           3.0           No         706          GLQ   \n1      1262       0.0           3.0           Gd         978          ALQ   \n2       920     866.0           3.0           Mn         486          GLQ   \n3       961       NaN           NaN           No         216          ALQ   \n4      1145       NaN           4.0           Av         655          GLQ   \n\n   BsmtUnfSF  EnclosedPorch  GarageArea GarageFinish  ...  LotFrontage  \\\n0        150            0.0         548          RFn  ...         65.0   \n1        284            NaN         460          RFn  ...         80.0   \n2        434            0.0         608          RFn  ...         68.0   \n3        540            NaN         642          Unf  ...         60.0   \n4        490            0.0         836          RFn  ...         84.0   \n\n   MasVnrArea OpenPorchSF  OverallCond  OverallQual  TotalBsmtSF  WoodDeckSF  \\\n0       196.0          61            5            7          856         0.0   \n1         0.0           0            8            6         1262         NaN   \n2       162.0          42            5            7          920         NaN   \n3         0.0          35            5            7          756         NaN   \n4       350.0          84            5            8         1145         NaN   \n\n   YearBuilt  YearRemodAdd  SalePrice  \n0       2003          2003     208500  \n1       1976          1976     181500  \n2       2001          2002     223500  \n3       1915          1970     140000  \n4       2000          2000     250000  \n\n[5 rows x 24 columns]\n   1stFlrSF  2ndFlrSF  BedroomAbvGr BsmtExposure  BsmtFinSF1 BsmtFinType1  \\\n0       896         0             2           No       468.0          Rec   \n1      1329         0             3           No       923.0          ALQ   \n2       928       701             3           No       791.0          GLQ   \n3       926       678             3           No       602.0          GLQ   \n\n   BsmtUnfSF  EnclosedPorch  GarageArea GarageFinish  ...  LotArea  \\\n0      270.0              0       730.0          Unf  ...    11622   \n1      406.0              0       312.0          Unf  ...    14267   \n2      137.0              0       482.0          Fin  ...    13830   \n3      324.0              0       470.0          Fin  ...     9978   \n\n   LotFrontage MasVnrArea  OpenPorchSF  OverallCond  OverallQual  TotalBsmtSF  \\\n0         80.0        0.0            0            6            5        882.0   \n1         81.0      108.0           36            6            6       1329.0   \n2         74.0        0.0           34            5            5        928.0   \n3         78.0       20.0           36            6            6        926.0   \n\n   WoodDeckSF  YearBuilt  YearRemodAdd  \n0         140       1961          1961  \n1         393       1958          1958  \n2         212       1997          1998  \n3         360       1998          1998  \n\n[4 rows x 23 columns]\n"
        }
      ],
      "source": [
        "import pandas as pd\n",
        "\n",
        "# Load the historical house prices records data\n",
        "records_df = pd.read_csv('outputs/datasets/collection/house_prices_records.csv')\n",
        "\n",
        "# Load the inherited houses data\n",
        "inherited_df = pd.read_csv('outputs/datasets/future_data/inherited_houses.csv')\n",
        "\n",
        "# Check the first few rows of each DataFrame\n",
        "print(records_df.head())\n",
        "print(inherited_df.head())"
      ]
    },
    {
      "cell_type": "markdown",
      "metadata": {
        "id": "ZY3l0-AxO93d"
      },
      "source": [
        "---"
      ]
    },
    {
      "cell_type": "markdown",
      "metadata": {
        "id": "uFQo3ycuO-v6"
      },
      "source": [
        "# Section 2: Data overview"
      ]
    },
    {
      "cell_type": "markdown",
      "metadata": {},
      "source": [
        "Explore the data to spot any anomalies. First let's take a look at records_df:"
      ]
    },
    {
      "cell_type": "code",
      "execution_count": 15,
      "metadata": {
        "tags": []
      },
      "outputs": [
        {
          "output_type": "stream",
          "name": "stdout",
          "text": "<class 'pandas.core.frame.DataFrame'>\nRangeIndex: 1460 entries, 0 to 1459\nData columns (total 24 columns):\n #   Column         Non-Null Count  Dtype  \n---  ------         --------------  -----  \n 0   1stFlrSF       1460 non-null   int64  \n 1   2ndFlrSF       1374 non-null   float64\n 2   BedroomAbvGr   1361 non-null   float64\n 3   BsmtExposure   1460 non-null   object \n 4   BsmtFinSF1     1460 non-null   int64  \n 5   BsmtFinType1   1346 non-null   object \n 6   BsmtUnfSF      1460 non-null   int64  \n 7   EnclosedPorch  136 non-null    float64\n 8   GarageArea     1460 non-null   int64  \n 9   GarageFinish   1298 non-null   object \n 10  GarageYrBlt    1379 non-null   float64\n 11  GrLivArea      1460 non-null   int64  \n 12  KitchenQual    1460 non-null   object \n 13  LotArea        1460 non-null   int64  \n 14  LotFrontage    1201 non-null   float64\n 15  MasVnrArea     1452 non-null   float64\n 16  OpenPorchSF    1460 non-null   int64  \n 17  OverallCond    1460 non-null   int64  \n 18  OverallQual    1460 non-null   int64  \n 19  TotalBsmtSF    1460 non-null   int64  \n 20  WoodDeckSF     155 non-null    float64\n 21  YearBuilt      1460 non-null   int64  \n 22  YearRemodAdd   1460 non-null   int64  \n 23  SalePrice      1460 non-null   int64  \ndtypes: float64(7), int64(13), object(4)\nmemory usage: 273.9+ KB\nNone\n"
        }
      ],
      "source": [
        "print(records_df.info())\n"
      ]
    },
    {
      "source": [
        "And show missing values:"
      ],
      "cell_type": "markdown",
      "metadata": {}
    },
    {
      "cell_type": "code",
      "execution_count": 16,
      "metadata": {
        "tags": []
      },
      "outputs": [
        {
          "output_type": "stream",
          "name": "stdout",
          "text": "1stFlrSF            0\n2ndFlrSF           86\nBedroomAbvGr       99\nBsmtExposure        0\nBsmtFinSF1          0\nBsmtFinType1      114\nBsmtUnfSF           0\nEnclosedPorch    1324\nGarageArea          0\nGarageFinish      162\nGarageYrBlt        81\nGrLivArea           0\nKitchenQual         0\nLotArea             0\nLotFrontage       259\nMasVnrArea          8\nOpenPorchSF         0\nOverallCond         0\nOverallQual         0\nTotalBsmtSF         0\nWoodDeckSF       1305\nYearBuilt           0\nYearRemodAdd        0\nSalePrice           0\ndtype: int64\n"
        }
      ],
      "source": [
        "# Display the number of missing values in each column\n",
        "print(records_df.isnull().sum())"
      ]
    },
    {
      "source": [
        "Then we do the same for inherited_df:"
      ],
      "cell_type": "markdown",
      "metadata": {}
    },
    {
      "cell_type": "code",
      "execution_count": 17,
      "metadata": {
        "tags": []
      },
      "outputs": [
        {
          "output_type": "stream",
          "name": "stdout",
          "text": "<class 'pandas.core.frame.DataFrame'>\nRangeIndex: 4 entries, 0 to 3\nData columns (total 23 columns):\n #   Column         Non-Null Count  Dtype  \n---  ------         --------------  -----  \n 0   1stFlrSF       4 non-null      int64  \n 1   2ndFlrSF       4 non-null      int64  \n 2   BedroomAbvGr   4 non-null      int64  \n 3   BsmtExposure   4 non-null      object \n 4   BsmtFinSF1     4 non-null      float64\n 5   BsmtFinType1   4 non-null      object \n 6   BsmtUnfSF      4 non-null      float64\n 7   EnclosedPorch  4 non-null      int64  \n 8   GarageArea     4 non-null      float64\n 9   GarageFinish   4 non-null      object \n 10  GarageYrBlt    4 non-null      float64\n 11  GrLivArea      4 non-null      int64  \n 12  KitchenQual    4 non-null      object \n 13  LotArea        4 non-null      int64  \n 14  LotFrontage    4 non-null      float64\n 15  MasVnrArea     4 non-null      float64\n 16  OpenPorchSF    4 non-null      int64  \n 17  OverallCond    4 non-null      int64  \n 18  OverallQual    4 non-null      int64  \n 19  TotalBsmtSF    4 non-null      float64\n 20  WoodDeckSF     4 non-null      int64  \n 21  YearBuilt      4 non-null      int64  \n 22  YearRemodAdd   4 non-null      int64  \ndtypes: float64(7), int64(12), object(4)\nmemory usage: 864.0+ bytes\nNone\n"
        }
      ],
      "source": [
        "print(inherited_df.info())"
      ]
    },
    {
      "source": [
        "And explore missing values for inherited houses. There are none here!"
      ],
      "cell_type": "markdown",
      "metadata": {}
    },
    {
      "cell_type": "code",
      "execution_count": 18,
      "metadata": {
        "tags": []
      },
      "outputs": [
        {
          "output_type": "stream",
          "name": "stdout",
          "text": "1stFlrSF         0\n2ndFlrSF         0\nBedroomAbvGr     0\nBsmtExposure     0\nBsmtFinSF1       0\nBsmtFinType1     0\nBsmtUnfSF        0\nEnclosedPorch    0\nGarageArea       0\nGarageFinish     0\nGarageYrBlt      0\nGrLivArea        0\nKitchenQual      0\nLotArea          0\nLotFrontage      0\nMasVnrArea       0\nOpenPorchSF      0\nOverallCond      0\nOverallQual      0\nTotalBsmtSF      0\nWoodDeckSF       0\nYearBuilt        0\nYearRemodAdd     0\ndtype: int64\n"
        }
      ],
      "source": [
        "print(inherited_df.isnull().sum())"
      ]
    },
    {
      "source": [
        "Great, now we have taken a first look at the date and can start doing some initial cleaning."
      ],
      "cell_type": "markdown",
      "metadata": {}
    },
    {
      "source": [
        "# Section 3: Cleaning - Data types mismatch"
      ],
      "cell_type": "markdown",
      "metadata": {}
    },
    {
      "source": [
        "At this point, we spot that the data types vary between the records_df dataset and inherited_df dataset on numerous variables. Is this a problem?"
      ],
      "cell_type": "markdown",
      "metadata": {}
    },
    {
      "source": [
        "Well, discrepancies between the data types in records_df and inherited_df for the same variables can cause issues down the line, especially when building and using predictive models.\n",
        "\n",
        "Most machine learning algorithms require the input data to be in a consistent format. If a variable is represented as an integer in one dataset and as a float in another, the algorithm may get confused and produce unreliable results.\n",
        "\n",
        "To address this, we should make sure that the same variables have the same data types in both datasets. Given that these variables represent counts (i.e., the number of square feet, the number of bedrooms), it would make more sense for them to be integers."
      ],
      "cell_type": "markdown",
      "metadata": {}
    },
    {
      "source": [
        "First we take a look at a sample of the data (top 20 rows), and see that the floats seem to be whole numbers. \n",
        "\n",
        "Therefore, in the cases where a variable is a float in one dataset and an integer in the other, it will be converted into an integer in both."
      ],
      "cell_type": "markdown",
      "metadata": {}
    },
    {
      "cell_type": "code",
      "execution_count": 19,
      "metadata": {
        "tags": []
      },
      "outputs": [
        {
          "output_type": "stream",
          "name": "stdout",
          "text": "1stFlrSF  2ndFlrSF  BedroomAbvGr BsmtExposure  BsmtFinSF1 BsmtFinType1  \\\n0        856     854.0           3.0           No         706          GLQ   \n1       1262       0.0           3.0           Gd         978          ALQ   \n2        920     866.0           3.0           Mn         486          GLQ   \n3        961       NaN           NaN           No         216          ALQ   \n4       1145       NaN           4.0           Av         655          GLQ   \n5        796     566.0           1.0           No         732          GLQ   \n6       1694       0.0           3.0           Av        1369          GLQ   \n7       1107     983.0           3.0           Mn         859          ALQ   \n8       1022     752.0           2.0           No           0          Unf   \n9       1077       0.0           2.0           No         851          GLQ   \n10      1040       0.0           3.0           No         906          Rec   \n11      1182    1142.0           4.0           No         998          NaN   \n12       912       0.0           2.0           No         737          ALQ   \n13      1494       0.0           3.0           Av           0          Unf   \n14      1253       0.0           NaN           No         733          BLQ   \n15       854       0.0           2.0           No           0          Unf   \n16      1004       0.0           2.0           No         578          ALQ   \n17      1296       0.0           2.0         None           0         None   \n18      1114       NaN           NaN           No         646          GLQ   \n19      1339       0.0           3.0           No         504          LwQ   \n\n    BsmtUnfSF  EnclosedPorch  GarageArea GarageFinish  ...  LotFrontage  \\\n0         150            0.0         548          RFn  ...         65.0   \n1         284            NaN         460          RFn  ...         80.0   \n2         434            0.0         608          RFn  ...         68.0   \n3         540            NaN         642          Unf  ...         60.0   \n4         490            0.0         836          RFn  ...         84.0   \n5          64            NaN         480          Unf  ...         85.0   \n6         317            NaN         636          RFn  ...         75.0   \n7         216            NaN         484          NaN  ...          NaN   \n8         952            NaN         468          Unf  ...         51.0   \n9         140            NaN         205          RFn  ...         50.0   \n10        134            NaN         384          Unf  ...         70.0   \n11        177            NaN         736          Fin  ...         85.0   \n12        175            NaN         352          NaN  ...          NaN   \n13       1494            NaN         840          RFn  ...         91.0   \n14        520            NaN         352          RFn  ...          NaN   \n15        832            NaN         576          Unf  ...         51.0   \n16        426            NaN         480          Fin  ...          NaN   \n17          0            NaN         516          Unf  ...         72.0   \n18        468            NaN         576          Unf  ...         66.0   \n19        525            NaN         294          Unf  ...         70.0   \n\n    MasVnrArea OpenPorchSF  OverallCond  OverallQual  TotalBsmtSF  WoodDeckSF  \\\n0        196.0          61            5            7          856         0.0   \n1          0.0           0            8            6         1262         NaN   \n2        162.0          42            5            7          920         NaN   \n3          0.0          35            5            7          756         NaN   \n4        350.0          84            5            8         1145         NaN   \n5          0.0          30            5            5          796         NaN   \n6        186.0          57            5            8         1686         NaN   \n7        240.0         204            6            7         1107         NaN   \n8          0.0           0            5            7          952         NaN   \n9          0.0           4            6            5          991         NaN   \n10         0.0           0            5            5         1040         NaN   \n11       286.0          21            5            9         1175         NaN   \n12         0.0           0            6            5          912         NaN   \n13       306.0          33            5            7         1494       160.0   \n14       212.0         213            5            6         1253         NaN   \n15         0.0         112            8            7          832         NaN   \n16       180.0           0            7            6         1004         NaN   \n17         0.0           0            5            4            0         NaN   \n18         0.0         102            5            5         1114         NaN   \n19         0.0           0            6            5         1029         NaN   \n\n    YearBuilt  YearRemodAdd  SalePrice  \n0        2003          2003     208500  \n1        1976          1976     181500  \n2        2001          2002     223500  \n3        1915          1970     140000  \n4        2000          2000     250000  \n5        1993          1995     143000  \n6        2004          2005     307000  \n7        1973          1973     200000  \n8        1931          1950     129900  \n9        1939          1950     118000  \n10       1965          1965     129500  \n11       2005          2006     345000  \n12       1962          1962     144000  \n13       2006          2007     279500  \n14       1960          1960     157000  \n15       1929          2001     132000  \n16       1970          1970     149000  \n17       1967          1967      90000  \n18       2004          2004     159000  \n19       1958          1965     139000  \n\n[20 rows x 24 columns]\n   1stFlrSF  2ndFlrSF  BedroomAbvGr BsmtExposure  BsmtFinSF1 BsmtFinType1  \\\n0       896         0             2           No       468.0          Rec   \n1      1329         0             3           No       923.0          ALQ   \n2       928       701             3           No       791.0          GLQ   \n3       926       678             3           No       602.0          GLQ   \n\n   BsmtUnfSF  EnclosedPorch  GarageArea GarageFinish  ...  LotArea  \\\n0      270.0              0       730.0          Unf  ...    11622   \n1      406.0              0       312.0          Unf  ...    14267   \n2      137.0              0       482.0          Fin  ...    13830   \n3      324.0              0       470.0          Fin  ...     9978   \n\n   LotFrontage MasVnrArea  OpenPorchSF  OverallCond  OverallQual  TotalBsmtSF  \\\n0         80.0        0.0            0            6            5        882.0   \n1         81.0      108.0           36            6            6       1329.0   \n2         74.0        0.0           34            5            5        928.0   \n3         78.0       20.0           36            6            6        926.0   \n\n   WoodDeckSF  YearBuilt  YearRemodAdd  \n0         140       1961          1961  \n1         393       1958          1958  \n2         212       1997          1998  \n3         360       1998          1998  \n\n[4 rows x 23 columns]\n"
        }
      ],
      "source": [
        "print(records_df.head(20))\n",
        "print(inherited_df.head())"
      ]
    },
    {
      "source": [
        "So we convert the listed variables from the records_df dataframe to integers. Please note that the variable \"GarageYrBlt\" was also converted from a float to an integer in both datasets. This was not because of a data type mismatch, but because it made more sense to have the variable as an integer, as year values typically represent whole numbers and don't usually involve decimal points.\n",
        "\n",
        "Given that there are missing values in some of the columns that we want to convert, we'll use the nullable integer type \"Int64\". Note that this type is case sensitive."
      ],
      "cell_type": "markdown",
      "metadata": {}
    },
    {
      "cell_type": "code",
      "execution_count": 20,
      "metadata": {},
      "outputs": [],
      "source": [
        "float_cols_records = ['2ndFlrSF', 'BedroomAbvGr', 'EnclosedPorch', 'LotFrontage', 'MasVnrArea', 'WoodDeckSF', 'GarageYrBlt']\n",
        "\n",
        "for col in float_cols_records:\n",
        "    records_df[col] = records_df[col].astype('Int64')\n"
      ]
    },
    {
      "source": [
        "Now let's do the same for the inherited_df dataframe. In this case there are no missing values, so we can use the \"int64\" type."
      ],
      "cell_type": "markdown",
      "metadata": {}
    },
    {
      "cell_type": "code",
      "execution_count": 21,
      "metadata": {},
      "outputs": [],
      "source": [
        "float_cols_inherited = ['BsmtFinSF1', 'BsmtUnfSF', 'GarageArea', 'TotalBsmtSF', 'LotFrontage', 'MasVnrArea', 'GarageYrBlt']\n",
        "\n",
        "for col in float_cols_inherited:\n",
        "    inherited_df[col] = inherited_df[col].astype('int64')\n"
      ]
    },
    {
      "source": [
        "Now we check the data types again to ensure the conversion was successful. First for the records_df:"
      ],
      "cell_type": "markdown",
      "metadata": {}
    },
    {
      "cell_type": "code",
      "execution_count": 22,
      "metadata": {
        "tags": []
      },
      "outputs": [
        {
          "output_type": "stream",
          "name": "stdout",
          "text": "<class 'pandas.core.frame.DataFrame'>\nRangeIndex: 1460 entries, 0 to 1459\nData columns (total 24 columns):\n #   Column         Non-Null Count  Dtype \n---  ------         --------------  ----- \n 0   1stFlrSF       1460 non-null   int64 \n 1   2ndFlrSF       1374 non-null   Int64 \n 2   BedroomAbvGr   1361 non-null   Int64 \n 3   BsmtExposure   1460 non-null   object\n 4   BsmtFinSF1     1460 non-null   int64 \n 5   BsmtFinType1   1346 non-null   object\n 6   BsmtUnfSF      1460 non-null   int64 \n 7   EnclosedPorch  136 non-null    Int64 \n 8   GarageArea     1460 non-null   int64 \n 9   GarageFinish   1298 non-null   object\n 10  GarageYrBlt    1379 non-null   Int64 \n 11  GrLivArea      1460 non-null   int64 \n 12  KitchenQual    1460 non-null   object\n 13  LotArea        1460 non-null   int64 \n 14  LotFrontage    1201 non-null   Int64 \n 15  MasVnrArea     1452 non-null   Int64 \n 16  OpenPorchSF    1460 non-null   int64 \n 17  OverallCond    1460 non-null   int64 \n 18  OverallQual    1460 non-null   int64 \n 19  TotalBsmtSF    1460 non-null   int64 \n 20  WoodDeckSF     155 non-null    Int64 \n 21  YearBuilt      1460 non-null   int64 \n 22  YearRemodAdd   1460 non-null   int64 \n 23  SalePrice      1460 non-null   int64 \ndtypes: Int64(7), int64(13), object(4)\nmemory usage: 283.9+ KB\nNone\n"
        }
      ],
      "source": [
        "print(records_df.info())\n"
      ]
    },
    {
      "source": [
        "And here for inherited_df. Comparing them, we see that the data types for all variables match between the datasets, which will make analyses more reliable."
      ],
      "cell_type": "markdown",
      "metadata": {}
    },
    {
      "cell_type": "code",
      "execution_count": 23,
      "metadata": {
        "tags": []
      },
      "outputs": [
        {
          "output_type": "stream",
          "name": "stdout",
          "text": "<class 'pandas.core.frame.DataFrame'>\nRangeIndex: 4 entries, 0 to 3\nData columns (total 23 columns):\n #   Column         Non-Null Count  Dtype \n---  ------         --------------  ----- \n 0   1stFlrSF       4 non-null      int64 \n 1   2ndFlrSF       4 non-null      int64 \n 2   BedroomAbvGr   4 non-null      int64 \n 3   BsmtExposure   4 non-null      object\n 4   BsmtFinSF1     4 non-null      int64 \n 5   BsmtFinType1   4 non-null      object\n 6   BsmtUnfSF      4 non-null      int64 \n 7   EnclosedPorch  4 non-null      int64 \n 8   GarageArea     4 non-null      int64 \n 9   GarageFinish   4 non-null      object\n 10  GarageYrBlt    4 non-null      int64 \n 11  GrLivArea      4 non-null      int64 \n 12  KitchenQual    4 non-null      object\n 13  LotArea        4 non-null      int64 \n 14  LotFrontage    4 non-null      int64 \n 15  MasVnrArea     4 non-null      int64 \n 16  OpenPorchSF    4 non-null      int64 \n 17  OverallCond    4 non-null      int64 \n 18  OverallQual    4 non-null      int64 \n 19  TotalBsmtSF    4 non-null      int64 \n 20  WoodDeckSF     4 non-null      int64 \n 21  YearBuilt      4 non-null      int64 \n 22  YearRemodAdd   4 non-null      int64 \ndtypes: int64(19), object(4)\nmemory usage: 864.0+ bytes\nNone\n"
        }
      ],
      "source": [
        "print(inherited_df.info())"
      ]
    },
    {
      "source": [
        "# Section 4: Cleaning - Handle missing data values"
      ],
      "cell_type": "markdown",
      "metadata": {}
    },
    {
      "source": [
        "Moving on, we proceed with handling missing data values. To refresh, here are the numbers of missing data in records_df. There were no missing data values in the inherited_df."
      ],
      "cell_type": "markdown",
      "metadata": {}
    },
    {
      "cell_type": "code",
      "execution_count": 24,
      "metadata": {
        "tags": []
      },
      "outputs": [
        {
          "output_type": "stream",
          "name": "stdout",
          "text": "1stFlrSF            0\n2ndFlrSF           86\nBedroomAbvGr       99\nBsmtExposure        0\nBsmtFinSF1          0\nBsmtFinType1      114\nBsmtUnfSF           0\nEnclosedPorch    1324\nGarageArea          0\nGarageFinish      162\nGarageYrBlt        81\nGrLivArea           0\nKitchenQual         0\nLotArea             0\nLotFrontage       259\nMasVnrArea          8\nOpenPorchSF         0\nOverallCond         0\nOverallQual         0\nTotalBsmtSF         0\nWoodDeckSF       1305\nYearBuilt           0\nYearRemodAdd        0\nSalePrice           0\ndtype: int64\n"
        }
      ],
      "source": [
        "print(records_df.isnull().sum())"
      ]
    },
    {
      "source": [
        "Looking at the missing values in records_df, columns 'EnclosedPorch' and 'WoodDeckSF' have a lot of missing values (over 80% of the data). Filling these missing values may not give us reliable data, so we choose the approach of dropping these columns. \n",
        "\n",
        "For other columns, we could fill missing values with a reasonable strategy - for example, using the median value for numerical columns and the most frequent value for categorical columns."
      ],
      "cell_type": "markdown",
      "metadata": {}
    },
    {
      "cell_type": "code",
      "execution_count": 25,
      "metadata": {},
      "outputs": [],
      "source": [
        "# Drop columns with too many missing values\n",
        "records_df = records_df.drop(['EnclosedPorch', 'WoodDeckSF'], axis=1)\n",
        "inherited_df = inherited_df.drop(['EnclosedPorch', 'WoodDeckSF'], axis=1)"
      ]
    },
    {
      "cell_type": "code",
      "execution_count": 26,
      "metadata": {},
      "outputs": [],
      "source": [
        "# Fill missing values in numerical columns with the median\n",
        "for col in ['2ndFlrSF', 'BedroomAbvGr', 'GarageYrBlt', 'LotFrontage', 'MasVnrArea']:\n",
        "    records_df[col] = records_df[col].fillna(records_df[col].median())\n",
        "    inherited_df[col] = inherited_df[col].fillna(inherited_df[col].median())"
      ]
    },
    {
      "cell_type": "code",
      "execution_count": 27,
      "metadata": {},
      "outputs": [],
      "source": [
        "# Fill missing values in categorical columns with the most frequent value\n",
        "for col in ['BsmtFinType1', 'GarageFinish']:\n",
        "    records_df[col] = records_df[col].fillna(records_df[col].mode()[0])\n",
        "    inherited_df[col] = inherited_df[col].fillna(inherited_df[col].mode()[0])"
      ]
    },
    {
      "source": [
        "Then we print out the count of missing values in each column to confirm that there are no missing values left"
      ],
      "cell_type": "markdown",
      "metadata": {}
    },
    {
      "cell_type": "code",
      "execution_count": 28,
      "metadata": {
        "tags": []
      },
      "outputs": [
        {
          "output_type": "stream",
          "name": "stdout",
          "text": "1stFlrSF        0\n2ndFlrSF        0\nBedroomAbvGr    0\nBsmtExposure    0\nBsmtFinSF1      0\nBsmtFinType1    0\nBsmtUnfSF       0\nGarageArea      0\nGarageFinish    0\nGarageYrBlt     0\nGrLivArea       0\nKitchenQual     0\nLotArea         0\nLotFrontage     0\nMasVnrArea      0\nOpenPorchSF     0\nOverallCond     0\nOverallQual     0\nTotalBsmtSF     0\nYearBuilt       0\nYearRemodAdd    0\nSalePrice       0\ndtype: int64\n"
        }
      ],
      "source": [
        "print(records_df.isnull().sum())"
      ]
    },
    {
      "source": [
        "And for inherited_df also here below, just for consistency. We can see here that the dropped variables are no longer visible."
      ],
      "cell_type": "markdown",
      "metadata": {}
    },
    {
      "cell_type": "code",
      "execution_count": 29,
      "metadata": {
        "tags": []
      },
      "outputs": [
        {
          "output_type": "stream",
          "name": "stdout",
          "text": "1stFlrSF        0\n2ndFlrSF        0\nBedroomAbvGr    0\nBsmtExposure    0\nBsmtFinSF1      0\nBsmtFinType1    0\nBsmtUnfSF       0\nGarageArea      0\nGarageFinish    0\nGarageYrBlt     0\nGrLivArea       0\nKitchenQual     0\nLotArea         0\nLotFrontage     0\nMasVnrArea      0\nOpenPorchSF     0\nOverallCond     0\nOverallQual     0\nTotalBsmtSF     0\nYearBuilt       0\nYearRemodAdd    0\ndtype: int64\n"
        }
      ],
      "source": [
        "print(inherited_df.isnull().sum())"
      ]
    },
    {
      "source": [
        "Great! That's the initial data cleaning done. "
      ],
      "cell_type": "markdown",
      "metadata": {}
    },
    {
      "cell_type": "markdown",
      "metadata": {},
      "source": [
        "---"
      ]
    },
    {
      "source": [
        "Now we save the cleaned data to new CSV files so that we can load these files at the beginning of the next notebook."
      ],
      "cell_type": "markdown",
      "metadata": {}
    },
    {
      "cell_type": "code",
      "execution_count": 30,
      "metadata": {},
      "outputs": [],
      "source": [
        "# Save cleaned data to new CSV files\n",
        "records_df.to_csv('outputs/datasets/cleaned/house_prices_records_cleaned.csv', index=False)\n",
        "inherited_df.to_csv('outputs/datasets/cleaned/inherited_houses_cleaned.csv', index=False)"
      ]
    },
    {
      "cell_type": "markdown",
      "metadata": {},
      "source": [
        "---"
      ]
    },
    {
      "cell_type": "markdown",
      "metadata": {
        "id": "ltNetd085qHf"
      },
      "source": [
        "# Push files to Repo"
      ]
    },
    {
      "cell_type": "markdown",
      "metadata": {},
      "source": [
        "* If you do not need to push files to Repo, you may replace this section with \"Conclusions and Next Steps\" and state your conclusions and next steps."
      ]
    },
    {
      "cell_type": "code",
      "execution_count": null,
      "metadata": {
        "id": "aKlnIozA4eQO",
        "outputId": "fd09bc1f-adb1-4511-f6ce-492a6af570c0"
      },
      "outputs": [],
      "source": [
        "import os\n",
        "try:\n",
        "  os.makedirs(name='outputs/datasets/collection')\n",
        "  os.makedirs(name='outputs/datasets/future_data')\n",
        "except Exception as e:\n",
        "  print(e)\n"
      ]
    },
    {
      "source": [
        "Great! Now you can  push the changes to your GitHub Repo, using the Git commands (git add, git commit, git push)"
      ],
      "cell_type": "markdown",
      "metadata": {}
    },
    {
      "source": [
        "# Next step: Notebook 2"
      ],
      "cell_type": "markdown",
      "metadata": {}
    },
    {
      "source": [
        "In notebook 2 we will move on the the next next step in our data analysis process: Exploratory Data Analysis (EDA)."
      ],
      "cell_type": "markdown",
      "metadata": {}
    },
    {
      "source": [],
      "cell_type": "markdown",
      "metadata": {}
    }
  ],
  "metadata": {
    "accelerator": "GPU",
    "colab": {
      "name": "Data Practitioner Jupyter Notebook.ipynb",
      "provenance": [],
      "toc_visible": true
    },
    "interpreter": {
      "hash": "8b8334dab9339717f727a1deaf837b322d7a41c20d15cc86be99a8e69ceec8ce"
    },
    "kernelspec": {
      "display_name": "Python 3.8.12 64-bit ('3.8.12': pyenv)",
      "name": "python381264bit3812pyenvc44d0ba3d4d74926a1a78ae71e39f6ac"
    },
    "language_info": {
      "codemirror_mode": {
        "name": "ipython",
        "version": 3
      },
      "file_extension": ".py",
      "mimetype": "text/x-python",
      "name": "python",
      "nbconvert_exporter": "python",
      "pygments_lexer": "ipython3",
      "version": "3.8.12-final"
    },
    "orig_nbformat": 2
  },
  "nbformat": 4,
  "nbformat_minor": 2
}