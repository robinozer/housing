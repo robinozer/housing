{
  "cells": [
    {
      "source": [
        "# **Notebook 5: Modeling & Evaluation**"
      ],
      "cell_type": "markdown",
      "metadata": {
        "id": "0aStgWSO0E0E"
      }
    },
    {
      "cell_type": "markdown",
      "metadata": {
        "id": "1eLEkw5O0ECa"
      },
      "source": [
        "## Objectives\n",
        "\n",
        "* Fit and evaluate a regression model to predict prices on houses.\n",
        "\n",
        "## Inputs\n",
        "\n",
        "* outputs/datasets/collection/house_prices_records.csv\n",
        "* Instructions on which features to use for data cleaning and feature engineering can be found in respective notebooks.\n",
        "\n",
        "## Outputs\n",
        "\n",
        "* Train set (features and target)\n",
        "* Test set (features and target)\n",
        "* Data cleaning and Feature Engineering pipeline\n",
        "* Modeling pipeline\n",
        "* Feature importance plot\n",
        "\n"
      ]
    },
    {
      "cell_type": "markdown",
      "metadata": {
        "id": "9uWZXH9LwoQg"
      },
      "source": [
        "---"
      ]
    },
    {
      "cell_type": "markdown",
      "metadata": {
        "id": "cqP-UeN-z3i2"
      },
      "source": [
        "# Change working directory"
      ]
    },
    {
      "cell_type": "markdown",
      "metadata": {
        "id": "aOGIGS-uz3i2"
      },
      "source": [
        "We need to change the working directory from its current folder to its parent folder\n",
        "* We access the current directory with os.getcwd()"
      ]
    },
    {
      "cell_type": "code",
      "execution_count": 1,
      "metadata": {
        "id": "wZfF_j-Bz3i4",
        "outputId": "66943449-1436-4c3d-85c7-b85f9f78349b"
      },
      "outputs": [
        {
          "output_type": "execute_result",
          "data": {
            "text/plain": "'/workspaces/housing/jupyter_notebooks'"
          },
          "metadata": {},
          "execution_count": 1
        }
      ],
      "source": [
        "import os\n",
        "current_dir = os.getcwd()\n",
        "current_dir"
      ]
    },
    {
      "cell_type": "markdown",
      "metadata": {
        "id": "9MWW8E7lz3i7"
      },
      "source": [
        "We want to make the parent of the current directory the new current directory\n",
        "* os.path.dirname() gets the parent directory\n",
        "* os.chir() defines the new current directory"
      ]
    },
    {
      "cell_type": "code",
      "execution_count": 2,
      "metadata": {
        "id": "TwHsQRWjz3i9",
        "outputId": "86849db3-cd2f-4cc5-ebb8-2d0caafa1a2c",
        "tags": []
      },
      "outputs": [
        {
          "output_type": "stream",
          "name": "stdout",
          "text": "You set a new current directory\n"
        }
      ],
      "source": [
        "os.chdir(os.path.dirname(current_dir))\n",
        "print(\"You set a new current directory\")"
      ]
    },
    {
      "cell_type": "markdown",
      "metadata": {
        "id": "M_xPk_Ijz3i-"
      },
      "source": [
        "Confirm the new current directory"
      ]
    },
    {
      "cell_type": "code",
      "execution_count": 3,
      "metadata": {
        "id": "vz3S-_kjz3jA",
        "outputId": "00b79ae4-75d0-4a96-d193-ac9ef9847ea2"
      },
      "outputs": [
        {
          "output_type": "execute_result",
          "data": {
            "text/plain": "'/workspaces/housing'"
          },
          "metadata": {},
          "execution_count": 3
        }
      ],
      "source": [
        "current_dir = os.getcwd()\n",
        "current_dir"
      ]
    },
    {
      "cell_type": "markdown",
      "metadata": {
        "id": "-mavJ8DibrcQ"
      },
      "source": [
        "# Step 1: Load data"
      ]
    },
    {
      "source": [
        "Here we load the dataset and separate the target variable ('y') from the predictor variables ('X').\n",
        "\n"
      ],
      "cell_type": "markdown",
      "metadata": {}
    },
    {
      "cell_type": "code",
      "execution_count": 4,
      "metadata": {
        "tags": []
      },
      "outputs": [
        {
          "output_type": "stream",
          "name": "stdout",
          "text": "(1460, 23)\n"
        },
        {
          "output_type": "execute_result",
          "data": {
            "text/plain": "   1stFlrSF  2ndFlrSF  BedroomAbvGr BsmtExposure  BsmtFinSF1 BsmtFinType1  \\\n0       856     854.0           3.0           No         706          GLQ   \n1      1262       0.0           3.0           Gd         978          ALQ   \n2       920     866.0           3.0           Mn         486          GLQ   \n\n   BsmtUnfSF  EnclosedPorch  GarageArea GarageFinish  ...  LotArea  \\\n0        150            0.0         548          RFn  ...     8450   \n1        284            NaN         460          RFn  ...     9600   \n2        434            0.0         608          RFn  ...    11250   \n\n   LotFrontage MasVnrArea  OpenPorchSF  OverallCond  OverallQual  TotalBsmtSF  \\\n0         65.0      196.0           61            5            7          856   \n1         80.0        0.0            0            8            6         1262   \n2         68.0      162.0           42            5            7          920   \n\n   WoodDeckSF  YearBuilt  YearRemodAdd  \n0         0.0       2003          2003  \n1         NaN       1976          1976  \n2         NaN       2001          2002  \n\n[3 rows x 23 columns]",
            "text/html": "<div>\n<style scoped>\n    .dataframe tbody tr th:only-of-type {\n        vertical-align: middle;\n    }\n\n    .dataframe tbody tr th {\n        vertical-align: top;\n    }\n\n    .dataframe thead th {\n        text-align: right;\n    }\n</style>\n<table border=\"1\" class=\"dataframe\">\n  <thead>\n    <tr style=\"text-align: right;\">\n      <th></th>\n      <th>1stFlrSF</th>\n      <th>2ndFlrSF</th>\n      <th>BedroomAbvGr</th>\n      <th>BsmtExposure</th>\n      <th>BsmtFinSF1</th>\n      <th>BsmtFinType1</th>\n      <th>BsmtUnfSF</th>\n      <th>EnclosedPorch</th>\n      <th>GarageArea</th>\n      <th>GarageFinish</th>\n      <th>...</th>\n      <th>LotArea</th>\n      <th>LotFrontage</th>\n      <th>MasVnrArea</th>\n      <th>OpenPorchSF</th>\n      <th>OverallCond</th>\n      <th>OverallQual</th>\n      <th>TotalBsmtSF</th>\n      <th>WoodDeckSF</th>\n      <th>YearBuilt</th>\n      <th>YearRemodAdd</th>\n    </tr>\n  </thead>\n  <tbody>\n    <tr>\n      <th>0</th>\n      <td>856</td>\n      <td>854.0</td>\n      <td>3.0</td>\n      <td>No</td>\n      <td>706</td>\n      <td>GLQ</td>\n      <td>150</td>\n      <td>0.0</td>\n      <td>548</td>\n      <td>RFn</td>\n      <td>...</td>\n      <td>8450</td>\n      <td>65.0</td>\n      <td>196.0</td>\n      <td>61</td>\n      <td>5</td>\n      <td>7</td>\n      <td>856</td>\n      <td>0.0</td>\n      <td>2003</td>\n      <td>2003</td>\n    </tr>\n    <tr>\n      <th>1</th>\n      <td>1262</td>\n      <td>0.0</td>\n      <td>3.0</td>\n      <td>Gd</td>\n      <td>978</td>\n      <td>ALQ</td>\n      <td>284</td>\n      <td>NaN</td>\n      <td>460</td>\n      <td>RFn</td>\n      <td>...</td>\n      <td>9600</td>\n      <td>80.0</td>\n      <td>0.0</td>\n      <td>0</td>\n      <td>8</td>\n      <td>6</td>\n      <td>1262</td>\n      <td>NaN</td>\n      <td>1976</td>\n      <td>1976</td>\n    </tr>\n    <tr>\n      <th>2</th>\n      <td>920</td>\n      <td>866.0</td>\n      <td>3.0</td>\n      <td>Mn</td>\n      <td>486</td>\n      <td>GLQ</td>\n      <td>434</td>\n      <td>0.0</td>\n      <td>608</td>\n      <td>RFn</td>\n      <td>...</td>\n      <td>11250</td>\n      <td>68.0</td>\n      <td>162.0</td>\n      <td>42</td>\n      <td>5</td>\n      <td>7</td>\n      <td>920</td>\n      <td>NaN</td>\n      <td>2001</td>\n      <td>2002</td>\n    </tr>\n  </tbody>\n</table>\n<p>3 rows × 23 columns</p>\n</div>"
          },
          "metadata": {},
          "execution_count": 4
        }
      ],
      "source": [
        "import numpy as np\n",
        "import pandas as pd\n",
        "df = (pd.read_csv(\"outputs/datasets/collection/house_prices_records.csv\"))\n",
        "\n",
        "# Separate predictors and target\n",
        "X = df.drop(['SalePrice'], axis=1)\n",
        "y = df['SalePrice']\n",
        "\n",
        "print(X.shape)\n",
        "X.head(3)"
      ]
    },
    {
      "source": [
        "---"
      ],
      "cell_type": "markdown",
      "metadata": {}
    },
    {
      "source": [
        "# Step 2: ML Pipeline with all data"
      ],
      "cell_type": "markdown",
      "metadata": {}
    },
    {
      "source": [
        "## ML pipeline for Data Cleaning and Feature Engineering"
      ],
      "cell_type": "markdown",
      "metadata": {}
    },
    {
      "cell_type": "code",
      "execution_count": 5,
      "metadata": {},
      "outputs": [
        {
          "output_type": "execute_result",
          "data": {
            "text/plain": "Pipeline(steps=[('ConvertToInt64',\n                 ConvertToInt64(columns=['2ndFlrSF', 'BedroomAbvGr',\n                                         'GarageYrBlt', 'LotFrontage',\n                                         'MasVnrArea'])),\n                ('DropFeatures',\n                 DropFeatures(features_to_drop=['EnclosedPorch',\n                                                'WoodDeckSF'])),\n                ('MedianImputer',\n                 MeanMedianImputer(variables=['2ndFlrSF', 'BedroomAbvGr',\n                                              'GarageYrBlt', 'LotFrontage',\n                                              'MasVnrArea'])),\n                ('CategoricalImputer',\n                 Categ...\n                 OrdinalEncoder(encoding_method='arbitrary',\n                                variables=['BsmtExposure', 'BsmtFinType1',\n                                           'GarageFinish', 'KitchenQual'])),\n                ('YeoJohnsonTransformer',\n                 YeoJohnsonTransformer(variables=['1stFlrSF', 'BsmtUnfSF',\n                                                  'TotalBsmtSF', 'GarageArea',\n                                                  'GrLivArea', 'LotArea',\n                                                  'LotFrontage'])),\n                ('SmartCorrelatedSelection',\n                 SmartCorrelatedSelection(method='spearman',\n                                          selection_method='variance',\n                                          threshold=0.6))])"
          },
          "metadata": {},
          "execution_count": 5
        }
      ],
      "source": [
        "from sklearn.pipeline import Pipeline\n",
        "from feature_engine.encoding import OrdinalEncoder\n",
        "from feature_engine.transformation import YeoJohnsonTransformer\n",
        "from feature_engine.selection import SmartCorrelatedSelection\n",
        "from feature_engine.imputation import MeanMedianImputer, CategoricalImputer\n",
        "from feature_engine.selection import DropFeatures\n",
        "\n",
        "def PipelineDataCleaningAndFeatureEngineering():\n",
        "    from sklearn.base import BaseEstimator, TransformerMixin\n",
        "\n",
        "    class ConvertToInt64(BaseEstimator, TransformerMixin):\n",
        "        def __init__(self, columns):\n",
        "            self.columns = columns\n",
        "\n",
        "        def fit(self, X, y=None):\n",
        "            return self\n",
        "\n",
        "        def transform(self, X):\n",
        "            for col in self.columns:\n",
        "                X[col] = X[col].astype('Int64')\n",
        "            return X\n",
        "\n",
        "    pipeline_base = Pipeline([\n",
        "        \n",
        "        (\"ConvertToInt64\", ConvertToInt64(columns=['2ndFlrSF', 'BedroomAbvGr', 'GarageYrBlt', 'LotFrontage', 'MasVnrArea'])),\n",
        "        (\"DropFeatures\", DropFeatures(features_to_drop=['EnclosedPorch', 'WoodDeckSF'])),\n",
        "        \n",
        "        (\"MedianImputer\", MeanMedianImputer(imputation_method='median', \n",
        "                                             variables=['2ndFlrSF', 'BedroomAbvGr', 'GarageYrBlt', 'LotFrontage', 'MasVnrArea'])),\n",
        "        \n",
        "        (\"CategoricalImputer\", CategoricalImputer(variables=['BsmtFinType1', 'GarageFinish'])),\n",
        "        \n",
        "        (\"OrdinalCategoricalEncoder\", OrdinalEncoder(encoding_method='arbitrary',\n",
        "                                                     variables=['BsmtExposure', 'BsmtFinType1', 'GarageFinish', 'KitchenQual'])),\n",
        "        \n",
        "        (\"YeoJohnsonTransformer\", YeoJohnsonTransformer(variables=['1stFlrSF', 'BsmtUnfSF', 'TotalBsmtSF', 'GarageArea', 'GrLivArea', 'LotArea', 'LotFrontage'])),\n",
        "        \n",
        "        (\"SmartCorrelatedSelection\", SmartCorrelatedSelection(variables=None,\n",
        "         method=\"spearman\", threshold=0.6, selection_method=\"variance\")),\n",
        "\n",
        "    ])\n",
        "\n",
        "    return pipeline_base\n",
        "\n",
        "PipelineDataCleaningAndFeatureEngineering()\n",
        "\n"
      ]
    },
    {
      "source": [
        "## ML Pipeline for Modelling and Hyperparameter Optimisation"
      ],
      "cell_type": "markdown",
      "metadata": {}
    },
    {
      "cell_type": "code",
      "execution_count": 6,
      "metadata": {},
      "outputs": [],
      "source": [
        "from sklearn.preprocessing import StandardScaler\n",
        "from sklearn.feature_selection import SelectFromModel\n",
        "from sklearn.ensemble import RandomForestRegressor\n",
        "from sklearn.ensemble import GradientBoostingRegressor\n",
        "from sklearn.ensemble import ExtraTreesRegressor\n",
        "from xgboost import XGBRegressor\n",
        "\n",
        "def PipelineReg(model):\n",
        "    pipeline_base = Pipeline([\n",
        "        (\"scaler\", StandardScaler()),\n",
        "        (\"feat_selection\", SelectFromModel(model)),\n",
        "        (\"model\", model),\n",
        "    ])\n",
        "\n",
        "    return pipeline_base"
      ]
    },
    {
      "source": [
        "Custom Class for Hyperparameter Optimisation"
      ],
      "cell_type": "markdown",
      "metadata": {}
    },
    {
      "cell_type": "code",
      "execution_count": 7,
      "metadata": {},
      "outputs": [],
      "source": [
        "from sklearn.model_selection import GridSearchCV\n",
        "\n",
        "\n",
        "class HyperparameterOptimizationSearch:\n",
        "\n",
        "    def __init__(self, models, params):\n",
        "        self.models = models\n",
        "        self.params = params\n",
        "        self.keys = models.keys()\n",
        "        self.grid_searches = {}\n",
        "\n",
        "    def fit(self, X, y, cv, n_jobs, verbose=1, scoring=None, refit=False):\n",
        "        for key in self.keys:\n",
        "            print(f\"\\nRunning GridSearchCV for {key} \\n\")\n",
        "\n",
        "            model = PipelineReg(self.models[key])  # changed this to regression\n",
        "            params = self.params[key]\n",
        "            gs = GridSearchCV(model, params, cv=cv, n_jobs=n_jobs,\n",
        "                              verbose=verbose, scoring=scoring, )\n",
        "            gs.fit(X, y)\n",
        "            self.grid_searches[key] = gs\n",
        "\n",
        "    def score_summary(self, sort_by='mean_score'):\n",
        "        def row(key, scores, params):\n",
        "            d = {\n",
        "                'estimator': key,\n",
        "                'min_score': min(scores),\n",
        "                'max_score': max(scores),\n",
        "                'mean_score': np.mean(scores),\n",
        "                'std_score': np.std(scores),\n",
        "            }\n",
        "            return pd.Series({**params, **d})\n",
        "\n",
        "        rows = []\n",
        "        for k in self.grid_searches:\n",
        "            params = self.grid_searches[k].cv_results_['params']\n",
        "            scores = []\n",
        "            for i in range(self.grid_searches[k].cv):\n",
        "                key = \"split{}_test_score\".format(i)\n",
        "                r = self.grid_searches[k].cv_results_[key]\n",
        "                scores.append(r.reshape(len(params), 1))\n",
        "\n",
        "            all_scores = np.hstack(scores)\n",
        "            for p, s in zip(params, all_scores):\n",
        "                rows.append((row(k, s, p)))\n",
        "\n",
        "        df = pd.concat(rows, axis=1).T.sort_values([sort_by], ascending=False)\n",
        "        columns = ['estimator', 'min_score',\n",
        "                   'mean_score', 'max_score', 'std_score']\n",
        "        columns = columns + [c for c in df.columns if c not in columns]\n",
        "        return df[columns], self.grid_searches"
      ]
    },
    {
      "source": [
        "## Split Train and Test Set"
      ],
      "cell_type": "markdown",
      "metadata": {}
    },
    {
      "cell_type": "code",
      "execution_count": 8,
      "metadata": {
        "tags": []
      },
      "outputs": [
        {
          "output_type": "stream",
          "name": "stdout",
          "text": "(1168, 23) (1168,) (292, 23) (292,)\n"
        }
      ],
      "source": [
        "from sklearn.model_selection import train_test_split\n",
        "X_train, X_test, y_train, y_test = train_test_split(\n",
        "    X,\n",
        "    y,\n",
        "    test_size=0.2,\n",
        "    random_state=0,\n",
        ")\n",
        "\n",
        "print(X_train.shape, y_train.shape, X_test.shape, y_test.shape)\n"
      ]
    },
    {
      "source": [
        "## Extra step"
      ],
      "cell_type": "markdown",
      "metadata": {}
    },
    {
      "source": [
        "In the cell below, we are manually converting selected numerical columns to integer type after splitting the data, because that conversion step is not included in our pipeline (see notebook 1 for details). This step is separate from the data cleaning and transformation steps that will be applied during the pipeline fitting process."
      ],
      "cell_type": "markdown",
      "metadata": {}
    },
    {
      "source": [
        "We also do conversions from float to int type in the dataset inherited_df. However, the type conversions for inherited_df will be done separately because they are different from the ones used for records_df."
      ],
      "cell_type": "markdown",
      "metadata": {}
    },
    {
      "source": [
        "# First we load inherited_df dataset\n",
        "inherited_df = pd.read_csv(\"outputs/datasets/future_data/inherited_houses.csv\")\n",
        "\n",
        "# Then we drop columns 'EnclosedPorch' and 'WoodDeckSF' just like the main data\n",
        "inherited_df = inherited_df.drop(['EnclosedPorch', 'WoodDeckSF'], axis=1)\n",
        "\n",
        "# We perform data type conversion\n",
        "cols_to_convert_inherited = ['BsmtFinSF1', 'BsmtUnfSF', 'GarageArea', 'GarageYrBlt', 'TotalBsmtSF']\n",
        "for col in cols_to_convert_inherited:\n",
        "    inherited_df[col] = inherited_df[col].astype('int64')\n",
        "\n",
        "# Note that 'GarageYrBlt' is the only variable present in both lists \n",
        "# because it's the only one that needs to be converted to an integer in both dataframes."
      ],
      "cell_type": "code",
      "metadata": {},
      "execution_count": null,
      "outputs": []
    },
    {
      "source": [
        "Note: we do not handle target imbalance at this point since the target in this project is a continuous variable. It's possible to come back to this step later and add a cell to normalize the distribution of the target variable to fit the model better."
      ],
      "cell_type": "markdown",
      "metadata": {}
    },
    {
      "source": [
        "## Fit pipeline"
      ],
      "cell_type": "markdown",
      "metadata": {}
    },
    {
      "cell_type": "code",
      "execution_count": 9,
      "metadata": {
        "tags": []
      },
      "outputs": [
        {
          "output_type": "stream",
          "name": "stdout",
          "text": "(1168, 17) (292, 17) (1168,) (292,)\n"
        }
      ],
      "source": [
        "# Fit the PipelineDataCleaningAndFeatureEngineering pipeline\n",
        "pipeline_data_cleaning_feat_eng = PipelineDataCleaningAndFeatureEngineering()\n",
        "X_train = pipeline_data_cleaning_feat_eng.fit_transform(X_train)\n",
        "X_test = pipeline_data_cleaning_feat_eng.transform(X_test)\n",
        "print(X_train.shape, X_test.shape, y_train.shape, y_test.shape)"
      ]
    },
    {
      "source": [
        "## Grid Search CV - Sklearn"
      ],
      "cell_type": "markdown",
      "metadata": {}
    },
    {
      "source": [
        "Use standard hyperparameters to find most suitable algorithm"
      ],
      "cell_type": "markdown",
      "metadata": {}
    },
    {
      "cell_type": "code",
      "execution_count": 10,
      "metadata": {},
      "outputs": [],
      "source": [
        "from sklearn.ensemble import RandomForestRegressor\n",
        "from sklearn.ensemble import GradientBoostingRegressor\n",
        "from sklearn.ensemble import AdaBoostRegressor\n",
        "from xgboost import XGBRegressor\n",
        "from lightgbm import LGBMRegressor\n",
        "\n",
        "models_quick_search = {\n",
        "    \"RandomForestRegressor\": RandomForestRegressor(random_state=0),\n",
        "    \"GradientBoostingRegressor\": GradientBoostingRegressor(random_state=0),\n",
        "    \"AdaBoostRegressor\": AdaBoostRegressor(random_state=0),\n",
        "    \"XGBRegressor\": XGBRegressor(random_state=0),\n",
        "    \"LGBMRegressor\": LGBMRegressor(random_state=0),\n",
        "}\n",
        "\n",
        "params_quick_search = {\n",
        "    \"RandomForestRegressor\": {},\n",
        "    \"GradientBoostingRegressor\": {},\n",
        "    \"AdaBoostRegressor\": {},\n",
        "    \"XGBRegressor\": {},\n",
        "    \"LGBMRegressor\": {},\n",
        "}\n"
      ]
    },
    {
      "source": [
        "And then Quick GridSearch CV"
      ],
      "cell_type": "markdown",
      "metadata": {}
    },
    {
      "cell_type": "code",
      "execution_count": 11,
      "metadata": {
        "tags": []
      },
      "outputs": [
        {
          "output_type": "stream",
          "name": "stdout",
          "text": "\nRunning GridSearchCV for RandomForestRegressor \n\nFitting 5 folds for each of 1 candidates, totalling 5 fits\n\nRunning GridSearchCV for GradientBoostingRegressor \n\nFitting 5 folds for each of 1 candidates, totalling 5 fits\n\nRunning GridSearchCV for AdaBoostRegressor \n\nFitting 5 folds for each of 1 candidates, totalling 5 fits\n\nRunning GridSearchCV for XGBRegressor \n\nFitting 5 folds for each of 1 candidates, totalling 5 fits\n\nRunning GridSearchCV for LGBMRegressor \n\nFitting 5 folds for each of 1 candidates, totalling 5 fits\n"
        }
      ],
      "source": [
        "from sklearn.metrics import make_scorer, mean_absolute_error\n",
        "\n",
        "scorer = make_scorer(mean_absolute_error, greater_is_better=False)\n",
        "\n",
        "search = HyperparameterOptimizationSearch(models=models_quick_search, params=params_quick_search)\n",
        "search.fit(X_train, y_train, scoring=scorer, n_jobs=-1, cv=5)\n"
      ]
    },
    {
      "source": [
        "Check results"
      ],
      "cell_type": "markdown",
      "metadata": {}
    },
    {
      "cell_type": "code",
      "execution_count": 12,
      "metadata": {},
      "outputs": [
        {
          "output_type": "execute_result",
          "data": {
            "text/plain": "                   estimator     min_score    mean_score     max_score  \\\n1  GradientBoostingRegressor -26017.738008 -23275.533492 -20882.497828   \n4              LGBMRegressor -27324.763193 -23704.651367 -18903.899719   \n0      RandomForestRegressor -30478.201242 -27885.798355 -24012.150233   \n2          AdaBoostRegressor -33391.792249 -30494.340606 -26700.207193   \n3               XGBRegressor -33345.455429 -31342.340933 -28968.361353   \n\n     std_score  \n1  1798.470621  \n4  2944.679209  \n0  2182.091385  \n2  2408.047289  \n3  1794.742211  ",
            "text/html": "<div>\n<style scoped>\n    .dataframe tbody tr th:only-of-type {\n        vertical-align: middle;\n    }\n\n    .dataframe tbody tr th {\n        vertical-align: top;\n    }\n\n    .dataframe thead th {\n        text-align: right;\n    }\n</style>\n<table border=\"1\" class=\"dataframe\">\n  <thead>\n    <tr style=\"text-align: right;\">\n      <th></th>\n      <th>estimator</th>\n      <th>min_score</th>\n      <th>mean_score</th>\n      <th>max_score</th>\n      <th>std_score</th>\n    </tr>\n  </thead>\n  <tbody>\n    <tr>\n      <th>1</th>\n      <td>GradientBoostingRegressor</td>\n      <td>-26017.738008</td>\n      <td>-23275.533492</td>\n      <td>-20882.497828</td>\n      <td>1798.470621</td>\n    </tr>\n    <tr>\n      <th>4</th>\n      <td>LGBMRegressor</td>\n      <td>-27324.763193</td>\n      <td>-23704.651367</td>\n      <td>-18903.899719</td>\n      <td>2944.679209</td>\n    </tr>\n    <tr>\n      <th>0</th>\n      <td>RandomForestRegressor</td>\n      <td>-30478.201242</td>\n      <td>-27885.798355</td>\n      <td>-24012.150233</td>\n      <td>2182.091385</td>\n    </tr>\n    <tr>\n      <th>2</th>\n      <td>AdaBoostRegressor</td>\n      <td>-33391.792249</td>\n      <td>-30494.340606</td>\n      <td>-26700.207193</td>\n      <td>2408.047289</td>\n    </tr>\n    <tr>\n      <th>3</th>\n      <td>XGBRegressor</td>\n      <td>-33345.455429</td>\n      <td>-31342.340933</td>\n      <td>-28968.361353</td>\n      <td>1794.742211</td>\n    </tr>\n  </tbody>\n</table>\n</div>"
          },
          "metadata": {},
          "execution_count": 12
        }
      ],
      "source": [
        "grid_search_summary, grid_search_pipelines = search.score_summary(sort_by='mean_score')\n",
        "grid_search_summary "
      ]
    },
    {
      "source": [
        "### Do an extensive search on the most suitable algorithm to find the best hyperparameter configuration."
      ],
      "cell_type": "markdown",
      "metadata": {}
    },
    {
      "source": [
        "Define model and parameters, for Extensive Search\n",
        "* NB: The reason LGBMRegressor is not included here. When looking at metrics,  it appears that the model performed well on the train set, as indicated by low values of MAE, MSE, and RMSE, and a high value of R^2. However, there was a noticeable drop in performance on the test set, as indicated by higher values of MAE, MSE, and RMSE, and a lower value of R^2. This suggests that the model may be overfitting the training data and not generalizing well to unseen data. Therefore I have chosen two models with better fit here."
      ],
      "cell_type": "markdown",
      "metadata": {}
    },
    {
      "cell_type": "code",
      "execution_count": 13,
      "metadata": {},
      "outputs": [],
      "source": [
        "from sklearn.ensemble import RandomForestRegressor\n",
        "from sklearn.ensemble import GradientBoostingRegressor\n",
        "\n",
        "models_search = {\n",
        "    \"RandomForestRegressor\": RandomForestRegressor(random_state=0),\n",
        "    \"GradientBoostingRegressor\": GradientBoostingRegressor(random_state=0),\n",
        "}\n",
        "\n",
        "params_search = {\n",
        "    \"RandomForestRegressor\": {\n",
        "        'model__n_estimators': [100, 200],\n",
        "        'model__max_depth': [3, 6, None],\n",
        "        'model__min_samples_split': [2, 5],\n",
        "        'model__min_samples_leaf': [1, 2],\n",
        "    },\n",
        "    \"GradientBoostingRegressor\": {\n",
        "        'model__learning_rate': [0.01, 0.1],\n",
        "        'model__max_depth': [3, 6],\n",
        "        'model__n_estimators': [100, 200],\n",
        "    },\n",
        "}"
      ]
    },
    {
      "source": [
        "Extensive GridSearch CV"
      ],
      "cell_type": "markdown",
      "metadata": {}
    },
    {
      "cell_type": "code",
      "execution_count": 14,
      "metadata": {
        "tags": []
      },
      "outputs": [
        {
          "output_type": "stream",
          "name": "stdout",
          "text": "\nRunning GridSearchCV for RandomForestRegressor \n\nFitting 5 folds for each of 24 candidates, totalling 120 fits\n\nRunning GridSearchCV for GradientBoostingRegressor \n\nFitting 5 folds for each of 8 candidates, totalling 40 fits\n"
        }
      ],
      "source": [
        "from sklearn.metrics import mean_absolute_error, make_scorer\n",
        "\n",
        "scorer = make_scorer(mean_absolute_error, greater_is_better=False)\n",
        "\n",
        "search = HyperparameterOptimizationSearch(models=models_search, params=params_search)\n",
        "search.fit(X_train, y_train, scoring=scorer, n_jobs=-1, cv=5)"
      ]
    },
    {
      "source": [
        "Check results"
      ],
      "cell_type": "markdown",
      "metadata": {}
    },
    {
      "source": [
        "Here we get a summary table showing the results from the GridSearchCV operation. It includes the mean_score, which we can use to compare the performance of different hyperparameters configurations. The one with the lowest mean_score would be the optimal choice."
      ],
      "cell_type": "markdown",
      "metadata": {}
    },
    {
      "cell_type": "code",
      "execution_count": 15,
      "metadata": {},
      "outputs": [
        {
          "output_type": "execute_result",
          "data": {
            "text/plain": "                    estimator     min_score    mean_score     max_score  \\\n28  GradientBoostingRegressor -26017.738008 -23275.533492 -20882.497828   \n29  GradientBoostingRegressor -26852.828778  -23775.99235 -20596.025843   \n30  GradientBoostingRegressor -28182.164941  -24166.60657 -20175.154466   \n27  GradientBoostingRegressor -28585.881753 -24520.059771  -21992.98277   \n31  GradientBoostingRegressor -28520.726696 -24726.534705   -20570.2817   \n25  GradientBoostingRegressor  -27843.57585 -25074.160339 -23071.018609   \n14      RandomForestRegressor -29006.723573 -26346.450531 -23399.948546   \n12      RandomForestRegressor -29088.293502  -26354.48555 -23442.636783   \n15      RandomForestRegressor -28935.220332 -26359.011053 -23428.948502   \n13      RandomForestRegressor -29007.396486 -26377.107055 -23497.358914   \n11      RandomForestRegressor -29538.366172 -26496.585757 -23630.084378   \n10      RandomForestRegressor -29662.495441 -26505.765873 -23675.515845   \n8       RandomForestRegressor -29613.882685 -26567.394592 -23803.625691   \n9       RandomForestRegressor -29576.709088 -26570.631171 -23751.973138   \n23      RandomForestRegressor -28912.507336 -26827.970454 -23142.228486   \n22      RandomForestRegressor -28946.257938 -26858.207837 -23198.637812   \n21      RandomForestRegressor -29028.459769 -26923.642882 -23278.283947   \n20      RandomForestRegressor -29095.791564  -26947.50777 -23279.890233   \n18      RandomForestRegressor -29676.636464 -27244.642281 -23553.077705   \n19      RandomForestRegressor -29578.825715 -27260.557633 -23468.608368   \n16      RandomForestRegressor -30478.201242 -27885.798355 -24012.150233   \n17      RandomForestRegressor -30181.730568 -27901.134409 -24053.451031   \n7       RandomForestRegressor -31546.113582 -28771.617159 -26351.166592   \n5       RandomForestRegressor -31549.741836 -28772.845228 -26353.678684   \n3       RandomForestRegressor -31588.334317 -28776.880178  -26373.70779   \n1       RandomForestRegressor -31587.431079 -28777.374666 -26378.229556   \n6       RandomForestRegressor -31821.970506 -28805.430973 -26298.373474   \n4       RandomForestRegressor -31825.367837 -28806.110439 -26298.373474   \n2       RandomForestRegressor -31877.948479 -28809.782782  -26316.24247   \n0       RandomForestRegressor -31882.370665 -28813.617868  -26316.24247   \n26  GradientBoostingRegressor  -32891.56544 -30211.692968 -27865.149816   \n24  GradientBoostingRegressor  -35755.05786 -32688.374617  -29991.83607   \n\n      std_score model__max_depth model__min_samples_leaf  \\\n28  1798.470621                3                     NaN   \n29  2104.092471                3                     NaN   \n30  2577.804268                6                     NaN   \n27  2426.728119                6                     NaN   \n31  2603.853188                6                     NaN   \n25  1901.753515                3                     NaN   \n14  1796.144194                6                       2   \n12  1808.170436                6                       2   \n15  1781.981483                6                       2   \n13  1782.525663                6                       2   \n11  1896.664896                6                       1   \n10  1912.059811                6                       1   \n8   1852.641956                6                       1   \n9   1870.659146                6                       1   \n23  1983.989092             None                       2   \n22  1958.382922             None                       2   \n21  1955.392175             None                       2   \n20  1958.941369             None                       2   \n18   2041.65455             None                       1   \n19  2079.541297             None                       1   \n16  2182.091385             None                       1   \n17  2128.610421             None                       1   \n7   1673.961962                3                       2   \n5   1674.438864                3                       2   \n3   1683.205153                3                       1   \n1   1681.576909                3                       1   \n6   1783.608036                3                       2   \n4   1784.757335                3                       2   \n2   1798.717864                3                       1   \n0   1800.606585                3                       1   \n26  2228.002804                6                     NaN   \n24  2217.318945                3                     NaN   \n\n   model__min_samples_split model__n_estimators model__learning_rate  \n28                      NaN                 100                  0.1  \n29                      NaN                 200                  0.1  \n30                      NaN                 100                  0.1  \n27                      NaN                 200                 0.01  \n31                      NaN                 200                  0.1  \n25                      NaN                 200                 0.01  \n14                        5                 100                  NaN  \n12                        2                 100                  NaN  \n15                        5                 200                  NaN  \n13                        2                 200                  NaN  \n11                        5                 200                  NaN  \n10                        5                 100                  NaN  \n8                         2                 100                  NaN  \n9                         2                 200                  NaN  \n23                        5                 200                  NaN  \n22                        5                 100                  NaN  \n21                        2                 200                  NaN  \n20                        2                 100                  NaN  \n18                        5                 100                  NaN  \n19                        5                 200                  NaN  \n16                        2                 100                  NaN  \n17                        2                 200                  NaN  \n7                         5                 200                  NaN  \n5                         2                 200                  NaN  \n3                         5                 200                  NaN  \n1                         2                 200                  NaN  \n6                         5                 100                  NaN  \n4                         2                 100                  NaN  \n2                         5                 100                  NaN  \n0                         2                 100                  NaN  \n26                      NaN                 100                 0.01  \n24                      NaN                 100                 0.01  ",
            "text/html": "<div>\n<style scoped>\n    .dataframe tbody tr th:only-of-type {\n        vertical-align: middle;\n    }\n\n    .dataframe tbody tr th {\n        vertical-align: top;\n    }\n\n    .dataframe thead th {\n        text-align: right;\n    }\n</style>\n<table border=\"1\" class=\"dataframe\">\n  <thead>\n    <tr style=\"text-align: right;\">\n      <th></th>\n      <th>estimator</th>\n      <th>min_score</th>\n      <th>mean_score</th>\n      <th>max_score</th>\n      <th>std_score</th>\n      <th>model__max_depth</th>\n      <th>model__min_samples_leaf</th>\n      <th>model__min_samples_split</th>\n      <th>model__n_estimators</th>\n      <th>model__learning_rate</th>\n    </tr>\n  </thead>\n  <tbody>\n    <tr>\n      <th>28</th>\n      <td>GradientBoostingRegressor</td>\n      <td>-26017.738008</td>\n      <td>-23275.533492</td>\n      <td>-20882.497828</td>\n      <td>1798.470621</td>\n      <td>3</td>\n      <td>NaN</td>\n      <td>NaN</td>\n      <td>100</td>\n      <td>0.1</td>\n    </tr>\n    <tr>\n      <th>29</th>\n      <td>GradientBoostingRegressor</td>\n      <td>-26852.828778</td>\n      <td>-23775.99235</td>\n      <td>-20596.025843</td>\n      <td>2104.092471</td>\n      <td>3</td>\n      <td>NaN</td>\n      <td>NaN</td>\n      <td>200</td>\n      <td>0.1</td>\n    </tr>\n    <tr>\n      <th>30</th>\n      <td>GradientBoostingRegressor</td>\n      <td>-28182.164941</td>\n      <td>-24166.60657</td>\n      <td>-20175.154466</td>\n      <td>2577.804268</td>\n      <td>6</td>\n      <td>NaN</td>\n      <td>NaN</td>\n      <td>100</td>\n      <td>0.1</td>\n    </tr>\n    <tr>\n      <th>27</th>\n      <td>GradientBoostingRegressor</td>\n      <td>-28585.881753</td>\n      <td>-24520.059771</td>\n      <td>-21992.98277</td>\n      <td>2426.728119</td>\n      <td>6</td>\n      <td>NaN</td>\n      <td>NaN</td>\n      <td>200</td>\n      <td>0.01</td>\n    </tr>\n    <tr>\n      <th>31</th>\n      <td>GradientBoostingRegressor</td>\n      <td>-28520.726696</td>\n      <td>-24726.534705</td>\n      <td>-20570.2817</td>\n      <td>2603.853188</td>\n      <td>6</td>\n      <td>NaN</td>\n      <td>NaN</td>\n      <td>200</td>\n      <td>0.1</td>\n    </tr>\n    <tr>\n      <th>25</th>\n      <td>GradientBoostingRegressor</td>\n      <td>-27843.57585</td>\n      <td>-25074.160339</td>\n      <td>-23071.018609</td>\n      <td>1901.753515</td>\n      <td>3</td>\n      <td>NaN</td>\n      <td>NaN</td>\n      <td>200</td>\n      <td>0.01</td>\n    </tr>\n    <tr>\n      <th>14</th>\n      <td>RandomForestRegressor</td>\n      <td>-29006.723573</td>\n      <td>-26346.450531</td>\n      <td>-23399.948546</td>\n      <td>1796.144194</td>\n      <td>6</td>\n      <td>2</td>\n      <td>5</td>\n      <td>100</td>\n      <td>NaN</td>\n    </tr>\n    <tr>\n      <th>12</th>\n      <td>RandomForestRegressor</td>\n      <td>-29088.293502</td>\n      <td>-26354.48555</td>\n      <td>-23442.636783</td>\n      <td>1808.170436</td>\n      <td>6</td>\n      <td>2</td>\n      <td>2</td>\n      <td>100</td>\n      <td>NaN</td>\n    </tr>\n    <tr>\n      <th>15</th>\n      <td>RandomForestRegressor</td>\n      <td>-28935.220332</td>\n      <td>-26359.011053</td>\n      <td>-23428.948502</td>\n      <td>1781.981483</td>\n      <td>6</td>\n      <td>2</td>\n      <td>5</td>\n      <td>200</td>\n      <td>NaN</td>\n    </tr>\n    <tr>\n      <th>13</th>\n      <td>RandomForestRegressor</td>\n      <td>-29007.396486</td>\n      <td>-26377.107055</td>\n      <td>-23497.358914</td>\n      <td>1782.525663</td>\n      <td>6</td>\n      <td>2</td>\n      <td>2</td>\n      <td>200</td>\n      <td>NaN</td>\n    </tr>\n    <tr>\n      <th>11</th>\n      <td>RandomForestRegressor</td>\n      <td>-29538.366172</td>\n      <td>-26496.585757</td>\n      <td>-23630.084378</td>\n      <td>1896.664896</td>\n      <td>6</td>\n      <td>1</td>\n      <td>5</td>\n      <td>200</td>\n      <td>NaN</td>\n    </tr>\n    <tr>\n      <th>10</th>\n      <td>RandomForestRegressor</td>\n      <td>-29662.495441</td>\n      <td>-26505.765873</td>\n      <td>-23675.515845</td>\n      <td>1912.059811</td>\n      <td>6</td>\n      <td>1</td>\n      <td>5</td>\n      <td>100</td>\n      <td>NaN</td>\n    </tr>\n    <tr>\n      <th>8</th>\n      <td>RandomForestRegressor</td>\n      <td>-29613.882685</td>\n      <td>-26567.394592</td>\n      <td>-23803.625691</td>\n      <td>1852.641956</td>\n      <td>6</td>\n      <td>1</td>\n      <td>2</td>\n      <td>100</td>\n      <td>NaN</td>\n    </tr>\n    <tr>\n      <th>9</th>\n      <td>RandomForestRegressor</td>\n      <td>-29576.709088</td>\n      <td>-26570.631171</td>\n      <td>-23751.973138</td>\n      <td>1870.659146</td>\n      <td>6</td>\n      <td>1</td>\n      <td>2</td>\n      <td>200</td>\n      <td>NaN</td>\n    </tr>\n    <tr>\n      <th>23</th>\n      <td>RandomForestRegressor</td>\n      <td>-28912.507336</td>\n      <td>-26827.970454</td>\n      <td>-23142.228486</td>\n      <td>1983.989092</td>\n      <td>None</td>\n      <td>2</td>\n      <td>5</td>\n      <td>200</td>\n      <td>NaN</td>\n    </tr>\n    <tr>\n      <th>22</th>\n      <td>RandomForestRegressor</td>\n      <td>-28946.257938</td>\n      <td>-26858.207837</td>\n      <td>-23198.637812</td>\n      <td>1958.382922</td>\n      <td>None</td>\n      <td>2</td>\n      <td>5</td>\n      <td>100</td>\n      <td>NaN</td>\n    </tr>\n    <tr>\n      <th>21</th>\n      <td>RandomForestRegressor</td>\n      <td>-29028.459769</td>\n      <td>-26923.642882</td>\n      <td>-23278.283947</td>\n      <td>1955.392175</td>\n      <td>None</td>\n      <td>2</td>\n      <td>2</td>\n      <td>200</td>\n      <td>NaN</td>\n    </tr>\n    <tr>\n      <th>20</th>\n      <td>RandomForestRegressor</td>\n      <td>-29095.791564</td>\n      <td>-26947.50777</td>\n      <td>-23279.890233</td>\n      <td>1958.941369</td>\n      <td>None</td>\n      <td>2</td>\n      <td>2</td>\n      <td>100</td>\n      <td>NaN</td>\n    </tr>\n    <tr>\n      <th>18</th>\n      <td>RandomForestRegressor</td>\n      <td>-29676.636464</td>\n      <td>-27244.642281</td>\n      <td>-23553.077705</td>\n      <td>2041.65455</td>\n      <td>None</td>\n      <td>1</td>\n      <td>5</td>\n      <td>100</td>\n      <td>NaN</td>\n    </tr>\n    <tr>\n      <th>19</th>\n      <td>RandomForestRegressor</td>\n      <td>-29578.825715</td>\n      <td>-27260.557633</td>\n      <td>-23468.608368</td>\n      <td>2079.541297</td>\n      <td>None</td>\n      <td>1</td>\n      <td>5</td>\n      <td>200</td>\n      <td>NaN</td>\n    </tr>\n    <tr>\n      <th>16</th>\n      <td>RandomForestRegressor</td>\n      <td>-30478.201242</td>\n      <td>-27885.798355</td>\n      <td>-24012.150233</td>\n      <td>2182.091385</td>\n      <td>None</td>\n      <td>1</td>\n      <td>2</td>\n      <td>100</td>\n      <td>NaN</td>\n    </tr>\n    <tr>\n      <th>17</th>\n      <td>RandomForestRegressor</td>\n      <td>-30181.730568</td>\n      <td>-27901.134409</td>\n      <td>-24053.451031</td>\n      <td>2128.610421</td>\n      <td>None</td>\n      <td>1</td>\n      <td>2</td>\n      <td>200</td>\n      <td>NaN</td>\n    </tr>\n    <tr>\n      <th>7</th>\n      <td>RandomForestRegressor</td>\n      <td>-31546.113582</td>\n      <td>-28771.617159</td>\n      <td>-26351.166592</td>\n      <td>1673.961962</td>\n      <td>3</td>\n      <td>2</td>\n      <td>5</td>\n      <td>200</td>\n      <td>NaN</td>\n    </tr>\n    <tr>\n      <th>5</th>\n      <td>RandomForestRegressor</td>\n      <td>-31549.741836</td>\n      <td>-28772.845228</td>\n      <td>-26353.678684</td>\n      <td>1674.438864</td>\n      <td>3</td>\n      <td>2</td>\n      <td>2</td>\n      <td>200</td>\n      <td>NaN</td>\n    </tr>\n    <tr>\n      <th>3</th>\n      <td>RandomForestRegressor</td>\n      <td>-31588.334317</td>\n      <td>-28776.880178</td>\n      <td>-26373.70779</td>\n      <td>1683.205153</td>\n      <td>3</td>\n      <td>1</td>\n      <td>5</td>\n      <td>200</td>\n      <td>NaN</td>\n    </tr>\n    <tr>\n      <th>1</th>\n      <td>RandomForestRegressor</td>\n      <td>-31587.431079</td>\n      <td>-28777.374666</td>\n      <td>-26378.229556</td>\n      <td>1681.576909</td>\n      <td>3</td>\n      <td>1</td>\n      <td>2</td>\n      <td>200</td>\n      <td>NaN</td>\n    </tr>\n    <tr>\n      <th>6</th>\n      <td>RandomForestRegressor</td>\n      <td>-31821.970506</td>\n      <td>-28805.430973</td>\n      <td>-26298.373474</td>\n      <td>1783.608036</td>\n      <td>3</td>\n      <td>2</td>\n      <td>5</td>\n      <td>100</td>\n      <td>NaN</td>\n    </tr>\n    <tr>\n      <th>4</th>\n      <td>RandomForestRegressor</td>\n      <td>-31825.367837</td>\n      <td>-28806.110439</td>\n      <td>-26298.373474</td>\n      <td>1784.757335</td>\n      <td>3</td>\n      <td>2</td>\n      <td>2</td>\n      <td>100</td>\n      <td>NaN</td>\n    </tr>\n    <tr>\n      <th>2</th>\n      <td>RandomForestRegressor</td>\n      <td>-31877.948479</td>\n      <td>-28809.782782</td>\n      <td>-26316.24247</td>\n      <td>1798.717864</td>\n      <td>3</td>\n      <td>1</td>\n      <td>5</td>\n      <td>100</td>\n      <td>NaN</td>\n    </tr>\n    <tr>\n      <th>0</th>\n      <td>RandomForestRegressor</td>\n      <td>-31882.370665</td>\n      <td>-28813.617868</td>\n      <td>-26316.24247</td>\n      <td>1800.606585</td>\n      <td>3</td>\n      <td>1</td>\n      <td>2</td>\n      <td>100</td>\n      <td>NaN</td>\n    </tr>\n    <tr>\n      <th>26</th>\n      <td>GradientBoostingRegressor</td>\n      <td>-32891.56544</td>\n      <td>-30211.692968</td>\n      <td>-27865.149816</td>\n      <td>2228.002804</td>\n      <td>6</td>\n      <td>NaN</td>\n      <td>NaN</td>\n      <td>100</td>\n      <td>0.01</td>\n    </tr>\n    <tr>\n      <th>24</th>\n      <td>GradientBoostingRegressor</td>\n      <td>-35755.05786</td>\n      <td>-32688.374617</td>\n      <td>-29991.83607</td>\n      <td>2217.318945</td>\n      <td>3</td>\n      <td>NaN</td>\n      <td>NaN</td>\n      <td>100</td>\n      <td>0.01</td>\n    </tr>\n  </tbody>\n</table>\n</div>"
          },
          "metadata": {},
          "execution_count": 15
        }
      ],
      "source": [
        "grid_search_summary, grid_search_pipelines = search.score_summary(sort_by='mean_score')\n",
        "grid_search_summary "
      ]
    },
    {
      "source": [
        "Get best model name programmatically"
      ],
      "cell_type": "markdown",
      "metadata": {}
    },
    {
      "cell_type": "code",
      "execution_count": 16,
      "metadata": {},
      "outputs": [
        {
          "output_type": "execute_result",
          "data": {
            "text/plain": "'GradientBoostingRegressor'"
          },
          "metadata": {},
          "execution_count": 16
        }
      ],
      "source": [
        "best_model = grid_search_summary.iloc[0,0]\n",
        "best_model"
      ]
    },
    {
      "source": [
        "Parameters for best model. This contain a dictionary of the optimal hyperparameters for the best model as determined by the GridSearchCV. It doesn't contain the model itself, but only the parameters that gave the best performance during the cross-validation grid search"
      ],
      "cell_type": "markdown",
      "metadata": {}
    },
    {
      "cell_type": "code",
      "execution_count": 17,
      "metadata": {},
      "outputs": [
        {
          "output_type": "execute_result",
          "data": {
            "text/plain": "{'model__learning_rate': 0.1,\n 'model__max_depth': 3,\n 'model__n_estimators': 100}"
          },
          "metadata": {},
          "execution_count": 17
        }
      ],
      "source": [
        "best_parameters = grid_search_pipelines[best_model].best_params_\n",
        "best_parameters"
      ]
    },
    {
      "source": [
        "Get the complete pipeline of the best model, including all preprocessing steps and the estimator itself, with the parameters set to their optimal values:"
      ],
      "cell_type": "markdown",
      "metadata": {}
    },
    {
      "cell_type": "code",
      "execution_count": 18,
      "metadata": {},
      "outputs": [
        {
          "output_type": "execute_result",
          "data": {
            "text/plain": "Pipeline(steps=[('scaler', StandardScaler()),\n                ('feat_selection',\n                 SelectFromModel(estimator=GradientBoostingRegressor(random_state=0))),\n                ('model', GradientBoostingRegressor(random_state=0))])"
          },
          "metadata": {},
          "execution_count": 18
        }
      ],
      "source": [
        "pipeline_rgr = grid_search_pipelines[best_model].best_estimator_\n",
        "pipeline_rgr"
      ]
    },
    {
      "source": [
        "## Assess feature importance"
      ],
      "cell_type": "markdown",
      "metadata": {}
    },
    {
      "cell_type": "code",
      "execution_count": 19,
      "metadata": {},
      "outputs": [
        {
          "output_type": "execute_result",
          "data": {
            "text/plain": "     2ndFlrSF  BedroomAbvGr  BsmtExposure  BsmtFinSF1  BsmtFinType1  \\\n618         0             3             0          48             0   \n870         0             2             1           0             1   \n92          0             2             1         713             2   \n\n     BsmtUnfSF  GarageArea  GarageFinish  KitchenQual    LotArea LotFrontage  \\\n618  72.117860  285.045723             0            0   9.874667   17.923317   \n870  51.451694  133.391173             1            1   9.241645   14.220455   \n92   21.751877  176.329005             0            1  10.022651   16.765758   \n\n     MasVnrArea  OpenPorchSF  OverallCond  OverallQual  TotalBsmtSF  YearBuilt  \n618         452          108            5            9   495.850351       2007  \n870           0            0            5            5   280.785318       1962  \n92            0            0            7            5   276.257124       1921  ",
            "text/html": "<div>\n<style scoped>\n    .dataframe tbody tr th:only-of-type {\n        vertical-align: middle;\n    }\n\n    .dataframe tbody tr th {\n        vertical-align: top;\n    }\n\n    .dataframe thead th {\n        text-align: right;\n    }\n</style>\n<table border=\"1\" class=\"dataframe\">\n  <thead>\n    <tr style=\"text-align: right;\">\n      <th></th>\n      <th>2ndFlrSF</th>\n      <th>BedroomAbvGr</th>\n      <th>BsmtExposure</th>\n      <th>BsmtFinSF1</th>\n      <th>BsmtFinType1</th>\n      <th>BsmtUnfSF</th>\n      <th>GarageArea</th>\n      <th>GarageFinish</th>\n      <th>KitchenQual</th>\n      <th>LotArea</th>\n      <th>LotFrontage</th>\n      <th>MasVnrArea</th>\n      <th>OpenPorchSF</th>\n      <th>OverallCond</th>\n      <th>OverallQual</th>\n      <th>TotalBsmtSF</th>\n      <th>YearBuilt</th>\n    </tr>\n  </thead>\n  <tbody>\n    <tr>\n      <th>618</th>\n      <td>0</td>\n      <td>3</td>\n      <td>0</td>\n      <td>48</td>\n      <td>0</td>\n      <td>72.117860</td>\n      <td>285.045723</td>\n      <td>0</td>\n      <td>0</td>\n      <td>9.874667</td>\n      <td>17.923317</td>\n      <td>452</td>\n      <td>108</td>\n      <td>5</td>\n      <td>9</td>\n      <td>495.850351</td>\n      <td>2007</td>\n    </tr>\n    <tr>\n      <th>870</th>\n      <td>0</td>\n      <td>2</td>\n      <td>1</td>\n      <td>0</td>\n      <td>1</td>\n      <td>51.451694</td>\n      <td>133.391173</td>\n      <td>1</td>\n      <td>1</td>\n      <td>9.241645</td>\n      <td>14.220455</td>\n      <td>0</td>\n      <td>0</td>\n      <td>5</td>\n      <td>5</td>\n      <td>280.785318</td>\n      <td>1962</td>\n    </tr>\n    <tr>\n      <th>92</th>\n      <td>0</td>\n      <td>2</td>\n      <td>1</td>\n      <td>713</td>\n      <td>2</td>\n      <td>21.751877</td>\n      <td>176.329005</td>\n      <td>0</td>\n      <td>1</td>\n      <td>10.022651</td>\n      <td>16.765758</td>\n      <td>0</td>\n      <td>0</td>\n      <td>7</td>\n      <td>5</td>\n      <td>276.257124</td>\n      <td>1921</td>\n    </tr>\n  </tbody>\n</table>\n</div>"
          },
          "metadata": {},
          "execution_count": 19
        }
      ],
      "source": [
        "X_train.head(3)"
      ]
    },
    {
      "cell_type": "code",
      "execution_count": 20,
      "metadata": {
        "tags": []
      },
      "outputs": [
        {
          "output_type": "stream",
          "name": "stdout",
          "text": "* These are the 4 most important features in descending order. The model was trained on them: \n['OverallQual', 'TotalBsmtSF', '2ndFlrSF', 'GarageArea']\n"
        },
        {
          "output_type": "display_data",
          "data": {
            "text/plain": "<Figure size 640x480 with 1 Axes>",
            "image/svg+xml": "<?xml version=\"1.0\" encoding=\"utf-8\" standalone=\"no\"?>\n<!DOCTYPE svg PUBLIC \"-//W3C//DTD SVG 1.1//EN\"\n  \"http://www.w3.org/Graphics/SVG/1.1/DTD/svg11.dtd\">\n<!-- Created with matplotlib (https://matplotlib.org/) -->\n<svg height=\"362.3745pt\" version=\"1.1\" viewBox=\"0 0 394.423125 362.3745\" width=\"394.423125pt\" xmlns=\"http://www.w3.org/2000/svg\" xmlns:xlink=\"http://www.w3.org/1999/xlink\">\n <metadata>\n  <rdf:RDF xmlns:cc=\"http://creativecommons.org/ns#\" xmlns:dc=\"http://purl.org/dc/elements/1.1/\" xmlns:rdf=\"http://www.w3.org/1999/02/22-rdf-syntax-ns#\">\n   <cc:Work>\n    <dc:type rdf:resource=\"http://purl.org/dc/dcmitype/StillImage\"/>\n    <dc:date>2023-06-05T14:38:08.172683</dc:date>\n    <dc:format>image/svg+xml</dc:format>\n    <dc:creator>\n     <cc:Agent>\n      <dc:title>Matplotlib v3.3.1, https://matplotlib.org/</dc:title>\n     </cc:Agent>\n    </dc:creator>\n   </cc:Work>\n  </rdf:RDF>\n </metadata>\n <defs>\n  <style type=\"text/css\">*{stroke-linecap:butt;stroke-linejoin:round;}</style>\n </defs>\n <g id=\"figure_1\">\n  <g id=\"patch_1\">\n   <path d=\"M 0 362.3745 \nL 394.423125 362.3745 \nL 394.423125 0 \nL 0 0 \nz\n\" style=\"fill:#ffffff;\"/>\n  </g>\n  <g id=\"axes_1\">\n   <g id=\"patch_2\">\n    <path d=\"M 30.103125 273.312 \nL 387.223125 273.312 \nL 387.223125 7.2 \nL 30.103125 7.2 \nz\n\" style=\"fill:#ffffff;\"/>\n   </g>\n   <g id=\"patch_3\">\n    <path clip-path=\"url(#p569a7dc21f)\" d=\"M 52.423125 273.312 \nL 97.063125 273.312 \nL 97.063125 19.872 \nL 52.423125 19.872 \nz\n\" style=\"fill:#1f77b4;\"/>\n   </g>\n   <g id=\"patch_4\">\n    <path clip-path=\"url(#p569a7dc21f)\" d=\"M 141.703125 273.312 \nL 186.343125 273.312 \nL 186.343125 208.974827 \nL 141.703125 208.974827 \nz\n\" style=\"fill:#1f77b4;\"/>\n   </g>\n   <g id=\"patch_5\">\n    <path clip-path=\"url(#p569a7dc21f)\" d=\"M 230.983125 273.312 \nL 275.623125 273.312 \nL 275.623125 229.704892 \nL 230.983125 229.704892 \nz\n\" style=\"fill:#1f77b4;\"/>\n   </g>\n   <g id=\"patch_6\">\n    <path clip-path=\"url(#p569a7dc21f)\" d=\"M 320.263125 273.312 \nL 364.903125 273.312 \nL 364.903125 238.502387 \nL 320.263125 238.502387 \nz\n\" style=\"fill:#1f77b4;\"/>\n   </g>\n   <g id=\"matplotlib.axis_1\">\n    <g id=\"xtick_1\">\n     <g id=\"line2d_1\">\n      <defs>\n       <path d=\"M 0 0 \nL 0 3.5 \n\" id=\"m6ffefff157\" style=\"stroke:#000000;stroke-width:0.8;\"/>\n      </defs>\n      <g>\n       <use style=\"stroke:#000000;stroke-width:0.8;\" x=\"74.743125\" xlink:href=\"#m6ffefff157\" y=\"273.312\"/>\n      </g>\n     </g>\n     <g id=\"text_1\">\n      <!-- OverallQual -->\n      <g transform=\"translate(77.5025 339.166687)rotate(-90)scale(0.1 -0.1)\">\n       <defs>\n        <path d=\"M 39.40625 66.21875 \nQ 28.65625 66.21875 22.328125 58.203125 \nQ 16.015625 50.203125 16.015625 36.375 \nQ 16.015625 22.609375 22.328125 14.59375 \nQ 28.65625 6.59375 39.40625 6.59375 \nQ 50.140625 6.59375 56.421875 14.59375 \nQ 62.703125 22.609375 62.703125 36.375 \nQ 62.703125 50.203125 56.421875 58.203125 \nQ 50.140625 66.21875 39.40625 66.21875 \nz\nM 39.40625 74.21875 \nQ 54.734375 74.21875 63.90625 63.9375 \nQ 73.09375 53.65625 73.09375 36.375 \nQ 73.09375 19.140625 63.90625 8.859375 \nQ 54.734375 -1.421875 39.40625 -1.421875 \nQ 24.03125 -1.421875 14.8125 8.828125 \nQ 5.609375 19.09375 5.609375 36.375 \nQ 5.609375 53.65625 14.8125 63.9375 \nQ 24.03125 74.21875 39.40625 74.21875 \nz\n\" id=\"DejaVuSans-79\"/>\n        <path d=\"M 2.984375 54.6875 \nL 12.5 54.6875 \nL 29.59375 8.796875 \nL 46.6875 54.6875 \nL 56.203125 54.6875 \nL 35.6875 0 \nL 23.484375 0 \nz\n\" id=\"DejaVuSans-118\"/>\n        <path d=\"M 56.203125 29.59375 \nL 56.203125 25.203125 \nL 14.890625 25.203125 \nQ 15.484375 15.921875 20.484375 11.0625 \nQ 25.484375 6.203125 34.421875 6.203125 \nQ 39.59375 6.203125 44.453125 7.46875 \nQ 49.3125 8.734375 54.109375 11.28125 \nL 54.109375 2.78125 \nQ 49.265625 0.734375 44.1875 -0.34375 \nQ 39.109375 -1.421875 33.890625 -1.421875 \nQ 20.796875 -1.421875 13.15625 6.1875 \nQ 5.515625 13.8125 5.515625 26.8125 \nQ 5.515625 40.234375 12.765625 48.109375 \nQ 20.015625 56 32.328125 56 \nQ 43.359375 56 49.78125 48.890625 \nQ 56.203125 41.796875 56.203125 29.59375 \nz\nM 47.21875 32.234375 \nQ 47.125 39.59375 43.09375 43.984375 \nQ 39.0625 48.390625 32.421875 48.390625 \nQ 24.90625 48.390625 20.390625 44.140625 \nQ 15.875 39.890625 15.1875 32.171875 \nz\n\" id=\"DejaVuSans-101\"/>\n        <path d=\"M 41.109375 46.296875 \nQ 39.59375 47.171875 37.8125 47.578125 \nQ 36.03125 48 33.890625 48 \nQ 26.265625 48 22.1875 43.046875 \nQ 18.109375 38.09375 18.109375 28.8125 \nL 18.109375 0 \nL 9.078125 0 \nL 9.078125 54.6875 \nL 18.109375 54.6875 \nL 18.109375 46.1875 \nQ 20.953125 51.171875 25.484375 53.578125 \nQ 30.03125 56 36.53125 56 \nQ 37.453125 56 38.578125 55.875 \nQ 39.703125 55.765625 41.0625 55.515625 \nz\n\" id=\"DejaVuSans-114\"/>\n        <path d=\"M 34.28125 27.484375 \nQ 23.390625 27.484375 19.1875 25 \nQ 14.984375 22.515625 14.984375 16.5 \nQ 14.984375 11.71875 18.140625 8.90625 \nQ 21.296875 6.109375 26.703125 6.109375 \nQ 34.1875 6.109375 38.703125 11.40625 \nQ 43.21875 16.703125 43.21875 25.484375 \nL 43.21875 27.484375 \nz\nM 52.203125 31.203125 \nL 52.203125 0 \nL 43.21875 0 \nL 43.21875 8.296875 \nQ 40.140625 3.328125 35.546875 0.953125 \nQ 30.953125 -1.421875 24.3125 -1.421875 \nQ 15.921875 -1.421875 10.953125 3.296875 \nQ 6 8.015625 6 15.921875 \nQ 6 25.140625 12.171875 29.828125 \nQ 18.359375 34.515625 30.609375 34.515625 \nL 43.21875 34.515625 \nL 43.21875 35.40625 \nQ 43.21875 41.609375 39.140625 45 \nQ 35.0625 48.390625 27.6875 48.390625 \nQ 23 48.390625 18.546875 47.265625 \nQ 14.109375 46.140625 10.015625 43.890625 \nL 10.015625 52.203125 \nQ 14.9375 54.109375 19.578125 55.046875 \nQ 24.21875 56 28.609375 56 \nQ 40.484375 56 46.34375 49.84375 \nQ 52.203125 43.703125 52.203125 31.203125 \nz\n\" id=\"DejaVuSans-97\"/>\n        <path d=\"M 9.421875 75.984375 \nL 18.40625 75.984375 \nL 18.40625 0 \nL 9.421875 0 \nz\n\" id=\"DejaVuSans-108\"/>\n        <path d=\"M 39.40625 66.21875 \nQ 28.65625 66.21875 22.328125 58.203125 \nQ 16.015625 50.203125 16.015625 36.375 \nQ 16.015625 22.609375 22.328125 14.59375 \nQ 28.65625 6.59375 39.40625 6.59375 \nQ 50.140625 6.59375 56.421875 14.59375 \nQ 62.703125 22.609375 62.703125 36.375 \nQ 62.703125 50.203125 56.421875 58.203125 \nQ 50.140625 66.21875 39.40625 66.21875 \nz\nM 53.21875 1.3125 \nL 66.21875 -12.890625 \nL 54.296875 -12.890625 \nL 43.5 -1.21875 \nQ 41.890625 -1.3125 41.03125 -1.359375 \nQ 40.1875 -1.421875 39.40625 -1.421875 \nQ 24.03125 -1.421875 14.8125 8.859375 \nQ 5.609375 19.140625 5.609375 36.375 \nQ 5.609375 53.65625 14.8125 63.9375 \nQ 24.03125 74.21875 39.40625 74.21875 \nQ 54.734375 74.21875 63.90625 63.9375 \nQ 73.09375 53.65625 73.09375 36.375 \nQ 73.09375 23.6875 67.984375 14.640625 \nQ 62.890625 5.609375 53.21875 1.3125 \nz\n\" id=\"DejaVuSans-81\"/>\n        <path d=\"M 8.5 21.578125 \nL 8.5 54.6875 \nL 17.484375 54.6875 \nL 17.484375 21.921875 \nQ 17.484375 14.15625 20.5 10.265625 \nQ 23.53125 6.390625 29.59375 6.390625 \nQ 36.859375 6.390625 41.078125 11.03125 \nQ 45.3125 15.671875 45.3125 23.6875 \nL 45.3125 54.6875 \nL 54.296875 54.6875 \nL 54.296875 0 \nL 45.3125 0 \nL 45.3125 8.40625 \nQ 42.046875 3.421875 37.71875 1 \nQ 33.40625 -1.421875 27.6875 -1.421875 \nQ 18.265625 -1.421875 13.375 4.4375 \nQ 8.5 10.296875 8.5 21.578125 \nz\nM 31.109375 56 \nz\n\" id=\"DejaVuSans-117\"/>\n       </defs>\n       <use xlink:href=\"#DejaVuSans-79\"/>\n       <use x=\"78.710938\" xlink:href=\"#DejaVuSans-118\"/>\n       <use x=\"137.890625\" xlink:href=\"#DejaVuSans-101\"/>\n       <use x=\"199.414062\" xlink:href=\"#DejaVuSans-114\"/>\n       <use x=\"240.527344\" xlink:href=\"#DejaVuSans-97\"/>\n       <use x=\"301.806641\" xlink:href=\"#DejaVuSans-108\"/>\n       <use x=\"329.589844\" xlink:href=\"#DejaVuSans-108\"/>\n       <use x=\"357.373047\" xlink:href=\"#DejaVuSans-81\"/>\n       <use x=\"436.083984\" xlink:href=\"#DejaVuSans-117\"/>\n       <use x=\"499.462891\" xlink:href=\"#DejaVuSans-97\"/>\n       <use x=\"560.742188\" xlink:href=\"#DejaVuSans-108\"/>\n      </g>\n     </g>\n    </g>\n    <g id=\"xtick_2\">\n     <g id=\"line2d_2\">\n      <g>\n       <use style=\"stroke:#000000;stroke-width:0.8;\" x=\"164.023125\" xlink:href=\"#m6ffefff157\" y=\"273.312\"/>\n      </g>\n     </g>\n     <g id=\"text_2\">\n      <!-- TotalBsmtSF -->\n      <g transform=\"translate(166.7825 341.496375)rotate(-90)scale(0.1 -0.1)\">\n       <defs>\n        <path d=\"M -0.296875 72.90625 \nL 61.375 72.90625 \nL 61.375 64.59375 \nL 35.5 64.59375 \nL 35.5 0 \nL 25.59375 0 \nL 25.59375 64.59375 \nL -0.296875 64.59375 \nz\n\" id=\"DejaVuSans-84\"/>\n        <path d=\"M 30.609375 48.390625 \nQ 23.390625 48.390625 19.1875 42.75 \nQ 14.984375 37.109375 14.984375 27.296875 \nQ 14.984375 17.484375 19.15625 11.84375 \nQ 23.34375 6.203125 30.609375 6.203125 \nQ 37.796875 6.203125 41.984375 11.859375 \nQ 46.1875 17.53125 46.1875 27.296875 \nQ 46.1875 37.015625 41.984375 42.703125 \nQ 37.796875 48.390625 30.609375 48.390625 \nz\nM 30.609375 56 \nQ 42.328125 56 49.015625 48.375 \nQ 55.71875 40.765625 55.71875 27.296875 \nQ 55.71875 13.875 49.015625 6.21875 \nQ 42.328125 -1.421875 30.609375 -1.421875 \nQ 18.84375 -1.421875 12.171875 6.21875 \nQ 5.515625 13.875 5.515625 27.296875 \nQ 5.515625 40.765625 12.171875 48.375 \nQ 18.84375 56 30.609375 56 \nz\n\" id=\"DejaVuSans-111\"/>\n        <path d=\"M 18.3125 70.21875 \nL 18.3125 54.6875 \nL 36.8125 54.6875 \nL 36.8125 47.703125 \nL 18.3125 47.703125 \nL 18.3125 18.015625 \nQ 18.3125 11.328125 20.140625 9.421875 \nQ 21.96875 7.515625 27.59375 7.515625 \nL 36.8125 7.515625 \nL 36.8125 0 \nL 27.59375 0 \nQ 17.1875 0 13.234375 3.875 \nQ 9.28125 7.765625 9.28125 18.015625 \nL 9.28125 47.703125 \nL 2.6875 47.703125 \nL 2.6875 54.6875 \nL 9.28125 54.6875 \nL 9.28125 70.21875 \nz\n\" id=\"DejaVuSans-116\"/>\n        <path d=\"M 19.671875 34.8125 \nL 19.671875 8.109375 \nL 35.5 8.109375 \nQ 43.453125 8.109375 47.28125 11.40625 \nQ 51.125 14.703125 51.125 21.484375 \nQ 51.125 28.328125 47.28125 31.5625 \nQ 43.453125 34.8125 35.5 34.8125 \nz\nM 19.671875 64.796875 \nL 19.671875 42.828125 \nL 34.28125 42.828125 \nQ 41.5 42.828125 45.03125 45.53125 \nQ 48.578125 48.25 48.578125 53.8125 \nQ 48.578125 59.328125 45.03125 62.0625 \nQ 41.5 64.796875 34.28125 64.796875 \nz\nM 9.8125 72.90625 \nL 35.015625 72.90625 \nQ 46.296875 72.90625 52.390625 68.21875 \nQ 58.5 63.53125 58.5 54.890625 \nQ 58.5 48.1875 55.375 44.234375 \nQ 52.25 40.28125 46.1875 39.3125 \nQ 53.46875 37.75 57.5 32.78125 \nQ 61.53125 27.828125 61.53125 20.40625 \nQ 61.53125 10.640625 54.890625 5.3125 \nQ 48.25 0 35.984375 0 \nL 9.8125 0 \nz\n\" id=\"DejaVuSans-66\"/>\n        <path d=\"M 44.28125 53.078125 \nL 44.28125 44.578125 \nQ 40.484375 46.53125 36.375 47.5 \nQ 32.28125 48.484375 27.875 48.484375 \nQ 21.1875 48.484375 17.84375 46.4375 \nQ 14.5 44.390625 14.5 40.28125 \nQ 14.5 37.15625 16.890625 35.375 \nQ 19.28125 33.59375 26.515625 31.984375 \nL 29.59375 31.296875 \nQ 39.15625 29.25 43.1875 25.515625 \nQ 47.21875 21.78125 47.21875 15.09375 \nQ 47.21875 7.46875 41.1875 3.015625 \nQ 35.15625 -1.421875 24.609375 -1.421875 \nQ 20.21875 -1.421875 15.453125 -0.5625 \nQ 10.6875 0.296875 5.421875 2 \nL 5.421875 11.28125 \nQ 10.40625 8.6875 15.234375 7.390625 \nQ 20.0625 6.109375 24.8125 6.109375 \nQ 31.15625 6.109375 34.5625 8.28125 \nQ 37.984375 10.453125 37.984375 14.40625 \nQ 37.984375 18.0625 35.515625 20.015625 \nQ 33.0625 21.96875 24.703125 23.78125 \nL 21.578125 24.515625 \nQ 13.234375 26.265625 9.515625 29.90625 \nQ 5.8125 33.546875 5.8125 39.890625 \nQ 5.8125 47.609375 11.28125 51.796875 \nQ 16.75 56 26.8125 56 \nQ 31.78125 56 36.171875 55.265625 \nQ 40.578125 54.546875 44.28125 53.078125 \nz\n\" id=\"DejaVuSans-115\"/>\n        <path d=\"M 52 44.1875 \nQ 55.375 50.25 60.0625 53.125 \nQ 64.75 56 71.09375 56 \nQ 79.640625 56 84.28125 50.015625 \nQ 88.921875 44.046875 88.921875 33.015625 \nL 88.921875 0 \nL 79.890625 0 \nL 79.890625 32.71875 \nQ 79.890625 40.578125 77.09375 44.375 \nQ 74.3125 48.1875 68.609375 48.1875 \nQ 61.625 48.1875 57.5625 43.546875 \nQ 53.515625 38.921875 53.515625 30.90625 \nL 53.515625 0 \nL 44.484375 0 \nL 44.484375 32.71875 \nQ 44.484375 40.625 41.703125 44.40625 \nQ 38.921875 48.1875 33.109375 48.1875 \nQ 26.21875 48.1875 22.15625 43.53125 \nQ 18.109375 38.875 18.109375 30.90625 \nL 18.109375 0 \nL 9.078125 0 \nL 9.078125 54.6875 \nL 18.109375 54.6875 \nL 18.109375 46.1875 \nQ 21.1875 51.21875 25.484375 53.609375 \nQ 29.78125 56 35.6875 56 \nQ 41.65625 56 45.828125 52.96875 \nQ 50 49.953125 52 44.1875 \nz\n\" id=\"DejaVuSans-109\"/>\n        <path d=\"M 53.515625 70.515625 \nL 53.515625 60.890625 \nQ 47.90625 63.578125 42.921875 64.890625 \nQ 37.9375 66.21875 33.296875 66.21875 \nQ 25.25 66.21875 20.875 63.09375 \nQ 16.5 59.96875 16.5 54.203125 \nQ 16.5 49.359375 19.40625 46.890625 \nQ 22.3125 44.4375 30.421875 42.921875 \nL 36.375 41.703125 \nQ 47.40625 39.59375 52.65625 34.296875 \nQ 57.90625 29 57.90625 20.125 \nQ 57.90625 9.515625 50.796875 4.046875 \nQ 43.703125 -1.421875 29.984375 -1.421875 \nQ 24.8125 -1.421875 18.96875 -0.25 \nQ 13.140625 0.921875 6.890625 3.21875 \nL 6.890625 13.375 \nQ 12.890625 10.015625 18.65625 8.296875 \nQ 24.421875 6.59375 29.984375 6.59375 \nQ 38.421875 6.59375 43.015625 9.90625 \nQ 47.609375 13.234375 47.609375 19.390625 \nQ 47.609375 24.75 44.3125 27.78125 \nQ 41.015625 30.8125 33.5 32.328125 \nL 27.484375 33.5 \nQ 16.453125 35.6875 11.515625 40.375 \nQ 6.59375 45.0625 6.59375 53.421875 \nQ 6.59375 63.09375 13.40625 68.65625 \nQ 20.21875 74.21875 32.171875 74.21875 \nQ 37.3125 74.21875 42.625 73.28125 \nQ 47.953125 72.359375 53.515625 70.515625 \nz\n\" id=\"DejaVuSans-83\"/>\n        <path d=\"M 9.8125 72.90625 \nL 51.703125 72.90625 \nL 51.703125 64.59375 \nL 19.671875 64.59375 \nL 19.671875 43.109375 \nL 48.578125 43.109375 \nL 48.578125 34.8125 \nL 19.671875 34.8125 \nL 19.671875 0 \nL 9.8125 0 \nz\n\" id=\"DejaVuSans-70\"/>\n       </defs>\n       <use xlink:href=\"#DejaVuSans-84\"/>\n       <use x=\"44.083984\" xlink:href=\"#DejaVuSans-111\"/>\n       <use x=\"105.265625\" xlink:href=\"#DejaVuSans-116\"/>\n       <use x=\"144.474609\" xlink:href=\"#DejaVuSans-97\"/>\n       <use x=\"205.753906\" xlink:href=\"#DejaVuSans-108\"/>\n       <use x=\"233.537109\" xlink:href=\"#DejaVuSans-66\"/>\n       <use x=\"302.140625\" xlink:href=\"#DejaVuSans-115\"/>\n       <use x=\"354.240234\" xlink:href=\"#DejaVuSans-109\"/>\n       <use x=\"451.652344\" xlink:href=\"#DejaVuSans-116\"/>\n       <use x=\"490.861328\" xlink:href=\"#DejaVuSans-83\"/>\n       <use x=\"554.337891\" xlink:href=\"#DejaVuSans-70\"/>\n      </g>\n     </g>\n    </g>\n    <g id=\"xtick_3\">\n     <g id=\"line2d_3\">\n      <g>\n       <use style=\"stroke:#000000;stroke-width:0.8;\" x=\"253.303125\" xlink:href=\"#m6ffefff157\" y=\"273.312\"/>\n      </g>\n     </g>\n     <g id=\"text_3\">\n      <!-- 2ndFlrSF -->\n      <g transform=\"translate(256.0625 324.101062)rotate(-90)scale(0.1 -0.1)\">\n       <defs>\n        <path d=\"M 19.1875 8.296875 \nL 53.609375 8.296875 \nL 53.609375 0 \nL 7.328125 0 \nL 7.328125 8.296875 \nQ 12.9375 14.109375 22.625 23.890625 \nQ 32.328125 33.6875 34.8125 36.53125 \nQ 39.546875 41.84375 41.421875 45.53125 \nQ 43.3125 49.21875 43.3125 52.78125 \nQ 43.3125 58.59375 39.234375 62.25 \nQ 35.15625 65.921875 28.609375 65.921875 \nQ 23.96875 65.921875 18.8125 64.3125 \nQ 13.671875 62.703125 7.8125 59.421875 \nL 7.8125 69.390625 \nQ 13.765625 71.78125 18.9375 73 \nQ 24.125 74.21875 28.421875 74.21875 \nQ 39.75 74.21875 46.484375 68.546875 \nQ 53.21875 62.890625 53.21875 53.421875 \nQ 53.21875 48.921875 51.53125 44.890625 \nQ 49.859375 40.875 45.40625 35.40625 \nQ 44.1875 33.984375 37.640625 27.21875 \nQ 31.109375 20.453125 19.1875 8.296875 \nz\n\" id=\"DejaVuSans-50\"/>\n        <path d=\"M 54.890625 33.015625 \nL 54.890625 0 \nL 45.90625 0 \nL 45.90625 32.71875 \nQ 45.90625 40.484375 42.875 44.328125 \nQ 39.84375 48.1875 33.796875 48.1875 \nQ 26.515625 48.1875 22.3125 43.546875 \nQ 18.109375 38.921875 18.109375 30.90625 \nL 18.109375 0 \nL 9.078125 0 \nL 9.078125 54.6875 \nL 18.109375 54.6875 \nL 18.109375 46.1875 \nQ 21.34375 51.125 25.703125 53.5625 \nQ 30.078125 56 35.796875 56 \nQ 45.21875 56 50.046875 50.171875 \nQ 54.890625 44.34375 54.890625 33.015625 \nz\n\" id=\"DejaVuSans-110\"/>\n        <path d=\"M 45.40625 46.390625 \nL 45.40625 75.984375 \nL 54.390625 75.984375 \nL 54.390625 0 \nL 45.40625 0 \nL 45.40625 8.203125 \nQ 42.578125 3.328125 38.25 0.953125 \nQ 33.9375 -1.421875 27.875 -1.421875 \nQ 17.96875 -1.421875 11.734375 6.484375 \nQ 5.515625 14.40625 5.515625 27.296875 \nQ 5.515625 40.1875 11.734375 48.09375 \nQ 17.96875 56 27.875 56 \nQ 33.9375 56 38.25 53.625 \nQ 42.578125 51.265625 45.40625 46.390625 \nz\nM 14.796875 27.296875 \nQ 14.796875 17.390625 18.875 11.75 \nQ 22.953125 6.109375 30.078125 6.109375 \nQ 37.203125 6.109375 41.296875 11.75 \nQ 45.40625 17.390625 45.40625 27.296875 \nQ 45.40625 37.203125 41.296875 42.84375 \nQ 37.203125 48.484375 30.078125 48.484375 \nQ 22.953125 48.484375 18.875 42.84375 \nQ 14.796875 37.203125 14.796875 27.296875 \nz\n\" id=\"DejaVuSans-100\"/>\n       </defs>\n       <use xlink:href=\"#DejaVuSans-50\"/>\n       <use x=\"63.623047\" xlink:href=\"#DejaVuSans-110\"/>\n       <use x=\"127.001953\" xlink:href=\"#DejaVuSans-100\"/>\n       <use x=\"190.478516\" xlink:href=\"#DejaVuSans-70\"/>\n       <use x=\"247.998047\" xlink:href=\"#DejaVuSans-108\"/>\n       <use x=\"275.78125\" xlink:href=\"#DejaVuSans-114\"/>\n       <use x=\"316.894531\" xlink:href=\"#DejaVuSans-83\"/>\n       <use x=\"380.371094\" xlink:href=\"#DejaVuSans-70\"/>\n      </g>\n     </g>\n    </g>\n    <g id=\"xtick_4\">\n     <g id=\"line2d_4\">\n      <g>\n       <use style=\"stroke:#000000;stroke-width:0.8;\" x=\"342.583125\" xlink:href=\"#m6ffefff157\" y=\"273.312\"/>\n      </g>\n     </g>\n     <g id=\"text_4\">\n      <!-- GarageArea -->\n      <g transform=\"translate(345.3425 339.937)rotate(-90)scale(0.1 -0.1)\">\n       <defs>\n        <path d=\"M 59.515625 10.40625 \nL 59.515625 29.984375 \nL 43.40625 29.984375 \nL 43.40625 38.09375 \nL 69.28125 38.09375 \nL 69.28125 6.78125 \nQ 63.578125 2.734375 56.6875 0.65625 \nQ 49.8125 -1.421875 42 -1.421875 \nQ 24.90625 -1.421875 15.25 8.5625 \nQ 5.609375 18.5625 5.609375 36.375 \nQ 5.609375 54.25 15.25 64.234375 \nQ 24.90625 74.21875 42 74.21875 \nQ 49.125 74.21875 55.546875 72.453125 \nQ 61.96875 70.703125 67.390625 67.28125 \nL 67.390625 56.78125 \nQ 61.921875 61.421875 55.765625 63.765625 \nQ 49.609375 66.109375 42.828125 66.109375 \nQ 29.4375 66.109375 22.71875 58.640625 \nQ 16.015625 51.171875 16.015625 36.375 \nQ 16.015625 21.625 22.71875 14.15625 \nQ 29.4375 6.6875 42.828125 6.6875 \nQ 48.046875 6.6875 52.140625 7.59375 \nQ 56.25 8.5 59.515625 10.40625 \nz\n\" id=\"DejaVuSans-71\"/>\n        <path d=\"M 45.40625 27.984375 \nQ 45.40625 37.75 41.375 43.109375 \nQ 37.359375 48.484375 30.078125 48.484375 \nQ 22.859375 48.484375 18.828125 43.109375 \nQ 14.796875 37.75 14.796875 27.984375 \nQ 14.796875 18.265625 18.828125 12.890625 \nQ 22.859375 7.515625 30.078125 7.515625 \nQ 37.359375 7.515625 41.375 12.890625 \nQ 45.40625 18.265625 45.40625 27.984375 \nz\nM 54.390625 6.78125 \nQ 54.390625 -7.171875 48.1875 -13.984375 \nQ 42 -20.796875 29.203125 -20.796875 \nQ 24.46875 -20.796875 20.265625 -20.09375 \nQ 16.0625 -19.390625 12.109375 -17.921875 \nL 12.109375 -9.1875 \nQ 16.0625 -11.328125 19.921875 -12.34375 \nQ 23.78125 -13.375 27.78125 -13.375 \nQ 36.625 -13.375 41.015625 -8.765625 \nQ 45.40625 -4.15625 45.40625 5.171875 \nL 45.40625 9.625 \nQ 42.625 4.78125 38.28125 2.390625 \nQ 33.9375 0 27.875 0 \nQ 17.828125 0 11.671875 7.65625 \nQ 5.515625 15.328125 5.515625 27.984375 \nQ 5.515625 40.671875 11.671875 48.328125 \nQ 17.828125 56 27.875 56 \nQ 33.9375 56 38.28125 53.609375 \nQ 42.625 51.21875 45.40625 46.390625 \nL 45.40625 54.6875 \nL 54.390625 54.6875 \nz\n\" id=\"DejaVuSans-103\"/>\n        <path d=\"M 34.1875 63.1875 \nL 20.796875 26.90625 \nL 47.609375 26.90625 \nz\nM 28.609375 72.90625 \nL 39.796875 72.90625 \nL 67.578125 0 \nL 57.328125 0 \nL 50.6875 18.703125 \nL 17.828125 18.703125 \nL 11.1875 0 \nL 0.78125 0 \nz\n\" id=\"DejaVuSans-65\"/>\n       </defs>\n       <use xlink:href=\"#DejaVuSans-71\"/>\n       <use x=\"77.490234\" xlink:href=\"#DejaVuSans-97\"/>\n       <use x=\"138.769531\" xlink:href=\"#DejaVuSans-114\"/>\n       <use x=\"179.882812\" xlink:href=\"#DejaVuSans-97\"/>\n       <use x=\"241.162109\" xlink:href=\"#DejaVuSans-103\"/>\n       <use x=\"304.638672\" xlink:href=\"#DejaVuSans-101\"/>\n       <use x=\"366.162109\" xlink:href=\"#DejaVuSans-65\"/>\n       <use x=\"434.570312\" xlink:href=\"#DejaVuSans-114\"/>\n       <use x=\"473.433594\" xlink:href=\"#DejaVuSans-101\"/>\n       <use x=\"534.957031\" xlink:href=\"#DejaVuSans-97\"/>\n      </g>\n     </g>\n    </g>\n    <g id=\"text_5\">\n     <!-- Feature -->\n     <g transform=\"translate(189.773281 353.094812)scale(0.1 -0.1)\">\n      <use xlink:href=\"#DejaVuSans-70\"/>\n      <use x=\"52.019531\" xlink:href=\"#DejaVuSans-101\"/>\n      <use x=\"113.542969\" xlink:href=\"#DejaVuSans-97\"/>\n      <use x=\"174.822266\" xlink:href=\"#DejaVuSans-116\"/>\n      <use x=\"214.03125\" xlink:href=\"#DejaVuSans-117\"/>\n      <use x=\"277.410156\" xlink:href=\"#DejaVuSans-114\"/>\n      <use x=\"316.273438\" xlink:href=\"#DejaVuSans-101\"/>\n     </g>\n    </g>\n   </g>\n   <g id=\"matplotlib.axis_2\">\n    <g id=\"ytick_1\">\n     <g id=\"line2d_5\">\n      <defs>\n       <path d=\"M 0 0 \nL -3.5 0 \n\" id=\"md639b41e41\" style=\"stroke:#000000;stroke-width:0.8;\"/>\n      </defs>\n      <g>\n       <use style=\"stroke:#000000;stroke-width:0.8;\" x=\"30.103125\" xlink:href=\"#md639b41e41\" y=\"273.312\"/>\n      </g>\n     </g>\n     <g id=\"text_6\">\n      <!-- 0.0 -->\n      <g transform=\"translate(7.2 277.111219)scale(0.1 -0.1)\">\n       <defs>\n        <path d=\"M 31.78125 66.40625 \nQ 24.171875 66.40625 20.328125 58.90625 \nQ 16.5 51.421875 16.5 36.375 \nQ 16.5 21.390625 20.328125 13.890625 \nQ 24.171875 6.390625 31.78125 6.390625 \nQ 39.453125 6.390625 43.28125 13.890625 \nQ 47.125 21.390625 47.125 36.375 \nQ 47.125 51.421875 43.28125 58.90625 \nQ 39.453125 66.40625 31.78125 66.40625 \nz\nM 31.78125 74.21875 \nQ 44.046875 74.21875 50.515625 64.515625 \nQ 56.984375 54.828125 56.984375 36.375 \nQ 56.984375 17.96875 50.515625 8.265625 \nQ 44.046875 -1.421875 31.78125 -1.421875 \nQ 19.53125 -1.421875 13.0625 8.265625 \nQ 6.59375 17.96875 6.59375 36.375 \nQ 6.59375 54.828125 13.0625 64.515625 \nQ 19.53125 74.21875 31.78125 74.21875 \nz\n\" id=\"DejaVuSans-48\"/>\n        <path d=\"M 10.6875 12.40625 \nL 21 12.40625 \nL 21 0 \nL 10.6875 0 \nz\n\" id=\"DejaVuSans-46\"/>\n       </defs>\n       <use xlink:href=\"#DejaVuSans-48\"/>\n       <use x=\"63.623047\" xlink:href=\"#DejaVuSans-46\"/>\n       <use x=\"95.410156\" xlink:href=\"#DejaVuSans-48\"/>\n      </g>\n     </g>\n    </g>\n    <g id=\"ytick_2\">\n     <g id=\"line2d_6\">\n      <g>\n       <use style=\"stroke:#000000;stroke-width:0.8;\" x=\"30.103125\" xlink:href=\"#md639b41e41\" y=\"233.692611\"/>\n      </g>\n     </g>\n     <g id=\"text_7\">\n      <!-- 0.1 -->\n      <g transform=\"translate(7.2 237.491829)scale(0.1 -0.1)\">\n       <defs>\n        <path d=\"M 12.40625 8.296875 \nL 28.515625 8.296875 \nL 28.515625 63.921875 \nL 10.984375 60.40625 \nL 10.984375 69.390625 \nL 28.421875 72.90625 \nL 38.28125 72.90625 \nL 38.28125 8.296875 \nL 54.390625 8.296875 \nL 54.390625 0 \nL 12.40625 0 \nz\n\" id=\"DejaVuSans-49\"/>\n       </defs>\n       <use xlink:href=\"#DejaVuSans-48\"/>\n       <use x=\"63.623047\" xlink:href=\"#DejaVuSans-46\"/>\n       <use x=\"95.410156\" xlink:href=\"#DejaVuSans-49\"/>\n      </g>\n     </g>\n    </g>\n    <g id=\"ytick_3\">\n     <g id=\"line2d_7\">\n      <g>\n       <use style=\"stroke:#000000;stroke-width:0.8;\" x=\"30.103125\" xlink:href=\"#md639b41e41\" y=\"194.073221\"/>\n      </g>\n     </g>\n     <g id=\"text_8\">\n      <!-- 0.2 -->\n      <g transform=\"translate(7.2 197.87244)scale(0.1 -0.1)\">\n       <use xlink:href=\"#DejaVuSans-48\"/>\n       <use x=\"63.623047\" xlink:href=\"#DejaVuSans-46\"/>\n       <use x=\"95.410156\" xlink:href=\"#DejaVuSans-50\"/>\n      </g>\n     </g>\n    </g>\n    <g id=\"ytick_4\">\n     <g id=\"line2d_8\">\n      <g>\n       <use style=\"stroke:#000000;stroke-width:0.8;\" x=\"30.103125\" xlink:href=\"#md639b41e41\" y=\"154.453832\"/>\n      </g>\n     </g>\n     <g id=\"text_9\">\n      <!-- 0.3 -->\n      <g transform=\"translate(7.2 158.25305)scale(0.1 -0.1)\">\n       <defs>\n        <path d=\"M 40.578125 39.3125 \nQ 47.65625 37.796875 51.625 33 \nQ 55.609375 28.21875 55.609375 21.1875 \nQ 55.609375 10.40625 48.1875 4.484375 \nQ 40.765625 -1.421875 27.09375 -1.421875 \nQ 22.515625 -1.421875 17.65625 -0.515625 \nQ 12.796875 0.390625 7.625 2.203125 \nL 7.625 11.71875 \nQ 11.71875 9.328125 16.59375 8.109375 \nQ 21.484375 6.890625 26.8125 6.890625 \nQ 36.078125 6.890625 40.9375 10.546875 \nQ 45.796875 14.203125 45.796875 21.1875 \nQ 45.796875 27.640625 41.28125 31.265625 \nQ 36.765625 34.90625 28.71875 34.90625 \nL 20.21875 34.90625 \nL 20.21875 43.015625 \nL 29.109375 43.015625 \nQ 36.375 43.015625 40.234375 45.921875 \nQ 44.09375 48.828125 44.09375 54.296875 \nQ 44.09375 59.90625 40.109375 62.90625 \nQ 36.140625 65.921875 28.71875 65.921875 \nQ 24.65625 65.921875 20.015625 65.03125 \nQ 15.375 64.15625 9.8125 62.3125 \nL 9.8125 71.09375 \nQ 15.4375 72.65625 20.34375 73.4375 \nQ 25.25 74.21875 29.59375 74.21875 \nQ 40.828125 74.21875 47.359375 69.109375 \nQ 53.90625 64.015625 53.90625 55.328125 \nQ 53.90625 49.265625 50.4375 45.09375 \nQ 46.96875 40.921875 40.578125 39.3125 \nz\n\" id=\"DejaVuSans-51\"/>\n       </defs>\n       <use xlink:href=\"#DejaVuSans-48\"/>\n       <use x=\"63.623047\" xlink:href=\"#DejaVuSans-46\"/>\n       <use x=\"95.410156\" xlink:href=\"#DejaVuSans-51\"/>\n      </g>\n     </g>\n    </g>\n    <g id=\"ytick_5\">\n     <g id=\"line2d_9\">\n      <g>\n       <use style=\"stroke:#000000;stroke-width:0.8;\" x=\"30.103125\" xlink:href=\"#md639b41e41\" y=\"114.834442\"/>\n      </g>\n     </g>\n     <g id=\"text_10\">\n      <!-- 0.4 -->\n      <g transform=\"translate(7.2 118.633661)scale(0.1 -0.1)\">\n       <defs>\n        <path d=\"M 37.796875 64.3125 \nL 12.890625 25.390625 \nL 37.796875 25.390625 \nz\nM 35.203125 72.90625 \nL 47.609375 72.90625 \nL 47.609375 25.390625 \nL 58.015625 25.390625 \nL 58.015625 17.1875 \nL 47.609375 17.1875 \nL 47.609375 0 \nL 37.796875 0 \nL 37.796875 17.1875 \nL 4.890625 17.1875 \nL 4.890625 26.703125 \nz\n\" id=\"DejaVuSans-52\"/>\n       </defs>\n       <use xlink:href=\"#DejaVuSans-48\"/>\n       <use x=\"63.623047\" xlink:href=\"#DejaVuSans-46\"/>\n       <use x=\"95.410156\" xlink:href=\"#DejaVuSans-52\"/>\n      </g>\n     </g>\n    </g>\n    <g id=\"ytick_6\">\n     <g id=\"line2d_10\">\n      <g>\n       <use style=\"stroke:#000000;stroke-width:0.8;\" x=\"30.103125\" xlink:href=\"#md639b41e41\" y=\"75.215053\"/>\n      </g>\n     </g>\n     <g id=\"text_11\">\n      <!-- 0.5 -->\n      <g transform=\"translate(7.2 79.014271)scale(0.1 -0.1)\">\n       <defs>\n        <path d=\"M 10.796875 72.90625 \nL 49.515625 72.90625 \nL 49.515625 64.59375 \nL 19.828125 64.59375 \nL 19.828125 46.734375 \nQ 21.96875 47.46875 24.109375 47.828125 \nQ 26.265625 48.1875 28.421875 48.1875 \nQ 40.625 48.1875 47.75 41.5 \nQ 54.890625 34.8125 54.890625 23.390625 \nQ 54.890625 11.625 47.5625 5.09375 \nQ 40.234375 -1.421875 26.90625 -1.421875 \nQ 22.3125 -1.421875 17.546875 -0.640625 \nQ 12.796875 0.140625 7.71875 1.703125 \nL 7.71875 11.625 \nQ 12.109375 9.234375 16.796875 8.0625 \nQ 21.484375 6.890625 26.703125 6.890625 \nQ 35.15625 6.890625 40.078125 11.328125 \nQ 45.015625 15.765625 45.015625 23.390625 \nQ 45.015625 31 40.078125 35.4375 \nQ 35.15625 39.890625 26.703125 39.890625 \nQ 22.75 39.890625 18.8125 39.015625 \nQ 14.890625 38.140625 10.796875 36.28125 \nz\n\" id=\"DejaVuSans-53\"/>\n       </defs>\n       <use xlink:href=\"#DejaVuSans-48\"/>\n       <use x=\"63.623047\" xlink:href=\"#DejaVuSans-46\"/>\n       <use x=\"95.410156\" xlink:href=\"#DejaVuSans-53\"/>\n      </g>\n     </g>\n    </g>\n    <g id=\"ytick_7\">\n     <g id=\"line2d_11\">\n      <g>\n       <use style=\"stroke:#000000;stroke-width:0.8;\" x=\"30.103125\" xlink:href=\"#md639b41e41\" y=\"35.595663\"/>\n      </g>\n     </g>\n     <g id=\"text_12\">\n      <!-- 0.6 -->\n      <g transform=\"translate(7.2 39.394882)scale(0.1 -0.1)\">\n       <defs>\n        <path d=\"M 33.015625 40.375 \nQ 26.375 40.375 22.484375 35.828125 \nQ 18.609375 31.296875 18.609375 23.390625 \nQ 18.609375 15.53125 22.484375 10.953125 \nQ 26.375 6.390625 33.015625 6.390625 \nQ 39.65625 6.390625 43.53125 10.953125 \nQ 47.40625 15.53125 47.40625 23.390625 \nQ 47.40625 31.296875 43.53125 35.828125 \nQ 39.65625 40.375 33.015625 40.375 \nz\nM 52.59375 71.296875 \nL 52.59375 62.3125 \nQ 48.875 64.0625 45.09375 64.984375 \nQ 41.3125 65.921875 37.59375 65.921875 \nQ 27.828125 65.921875 22.671875 59.328125 \nQ 17.53125 52.734375 16.796875 39.40625 \nQ 19.671875 43.65625 24.015625 45.921875 \nQ 28.375 48.1875 33.59375 48.1875 \nQ 44.578125 48.1875 50.953125 41.515625 \nQ 57.328125 34.859375 57.328125 23.390625 \nQ 57.328125 12.15625 50.6875 5.359375 \nQ 44.046875 -1.421875 33.015625 -1.421875 \nQ 20.359375 -1.421875 13.671875 8.265625 \nQ 6.984375 17.96875 6.984375 36.375 \nQ 6.984375 53.65625 15.1875 63.9375 \nQ 23.390625 74.21875 37.203125 74.21875 \nQ 40.921875 74.21875 44.703125 73.484375 \nQ 48.484375 72.75 52.59375 71.296875 \nz\n\" id=\"DejaVuSans-54\"/>\n       </defs>\n       <use xlink:href=\"#DejaVuSans-48\"/>\n       <use x=\"63.623047\" xlink:href=\"#DejaVuSans-46\"/>\n       <use x=\"95.410156\" xlink:href=\"#DejaVuSans-54\"/>\n      </g>\n     </g>\n    </g>\n   </g>\n   <g id=\"patch_7\">\n    <path d=\"M 30.103125 273.312 \nL 30.103125 7.2 \n\" style=\"fill:none;stroke:#000000;stroke-linecap:square;stroke-linejoin:miter;stroke-width:0.8;\"/>\n   </g>\n   <g id=\"patch_8\">\n    <path d=\"M 387.223125 273.312 \nL 387.223125 7.2 \n\" style=\"fill:none;stroke:#000000;stroke-linecap:square;stroke-linejoin:miter;stroke-width:0.8;\"/>\n   </g>\n   <g id=\"patch_9\">\n    <path d=\"M 30.103125 273.312 \nL 387.223125 273.312 \n\" style=\"fill:none;stroke:#000000;stroke-linecap:square;stroke-linejoin:miter;stroke-width:0.8;\"/>\n   </g>\n   <g id=\"patch_10\">\n    <path d=\"M 30.103125 7.2 \nL 387.223125 7.2 \n\" style=\"fill:none;stroke:#000000;stroke-linecap:square;stroke-linejoin:miter;stroke-width:0.8;\"/>\n   </g>\n   <g id=\"legend_1\">\n    <g id=\"patch_11\">\n     <path d=\"M 290.916875 29.878125 \nL 380.223125 29.878125 \nQ 382.223125 29.878125 382.223125 27.878125 \nL 382.223125 14.2 \nQ 382.223125 12.2 380.223125 12.2 \nL 290.916875 12.2 \nQ 288.916875 12.2 288.916875 14.2 \nL 288.916875 27.878125 \nQ 288.916875 29.878125 290.916875 29.878125 \nz\n\" style=\"fill:#ffffff;opacity:0.8;stroke:#cccccc;stroke-linejoin:miter;\"/>\n    </g>\n    <g id=\"patch_12\">\n     <path d=\"M 292.916875 23.798437 \nL 312.916875 23.798437 \nL 312.916875 16.798437 \nL 292.916875 16.798437 \nz\n\" style=\"fill:#1f77b4;\"/>\n    </g>\n    <g id=\"text_13\">\n     <!-- Importance -->\n     <g transform=\"translate(320.916875 23.798437)scale(0.1 -0.1)\">\n      <defs>\n       <path d=\"M 9.8125 72.90625 \nL 19.671875 72.90625 \nL 19.671875 0 \nL 9.8125 0 \nz\n\" id=\"DejaVuSans-73\"/>\n       <path d=\"M 18.109375 8.203125 \nL 18.109375 -20.796875 \nL 9.078125 -20.796875 \nL 9.078125 54.6875 \nL 18.109375 54.6875 \nL 18.109375 46.390625 \nQ 20.953125 51.265625 25.265625 53.625 \nQ 29.59375 56 35.59375 56 \nQ 45.5625 56 51.78125 48.09375 \nQ 58.015625 40.1875 58.015625 27.296875 \nQ 58.015625 14.40625 51.78125 6.484375 \nQ 45.5625 -1.421875 35.59375 -1.421875 \nQ 29.59375 -1.421875 25.265625 0.953125 \nQ 20.953125 3.328125 18.109375 8.203125 \nz\nM 48.6875 27.296875 \nQ 48.6875 37.203125 44.609375 42.84375 \nQ 40.53125 48.484375 33.40625 48.484375 \nQ 26.265625 48.484375 22.1875 42.84375 \nQ 18.109375 37.203125 18.109375 27.296875 \nQ 18.109375 17.390625 22.1875 11.75 \nQ 26.265625 6.109375 33.40625 6.109375 \nQ 40.53125 6.109375 44.609375 11.75 \nQ 48.6875 17.390625 48.6875 27.296875 \nz\n\" id=\"DejaVuSans-112\"/>\n       <path d=\"M 48.78125 52.59375 \nL 48.78125 44.1875 \nQ 44.96875 46.296875 41.140625 47.34375 \nQ 37.3125 48.390625 33.40625 48.390625 \nQ 24.65625 48.390625 19.8125 42.84375 \nQ 14.984375 37.3125 14.984375 27.296875 \nQ 14.984375 17.28125 19.8125 11.734375 \nQ 24.65625 6.203125 33.40625 6.203125 \nQ 37.3125 6.203125 41.140625 7.25 \nQ 44.96875 8.296875 48.78125 10.40625 \nL 48.78125 2.09375 \nQ 45.015625 0.34375 40.984375 -0.53125 \nQ 36.96875 -1.421875 32.421875 -1.421875 \nQ 20.0625 -1.421875 12.78125 6.34375 \nQ 5.515625 14.109375 5.515625 27.296875 \nQ 5.515625 40.671875 12.859375 48.328125 \nQ 20.21875 56 33.015625 56 \nQ 37.15625 56 41.109375 55.140625 \nQ 45.0625 54.296875 48.78125 52.59375 \nz\n\" id=\"DejaVuSans-99\"/>\n      </defs>\n      <use xlink:href=\"#DejaVuSans-73\"/>\n      <use x=\"29.492188\" xlink:href=\"#DejaVuSans-109\"/>\n      <use x=\"126.904297\" xlink:href=\"#DejaVuSans-112\"/>\n      <use x=\"190.380859\" xlink:href=\"#DejaVuSans-111\"/>\n      <use x=\"251.5625\" xlink:href=\"#DejaVuSans-114\"/>\n      <use x=\"292.675781\" xlink:href=\"#DejaVuSans-116\"/>\n      <use x=\"331.884766\" xlink:href=\"#DejaVuSans-97\"/>\n      <use x=\"393.164062\" xlink:href=\"#DejaVuSans-110\"/>\n      <use x=\"456.542969\" xlink:href=\"#DejaVuSans-99\"/>\n      <use x=\"511.523438\" xlink:href=\"#DejaVuSans-101\"/>\n     </g>\n    </g>\n   </g>\n  </g>\n </g>\n <defs>\n  <clipPath id=\"p569a7dc21f\">\n   <rect height=\"266.112\" width=\"357.12\" x=\"30.103125\" y=\"7.2\"/>\n  </clipPath>\n </defs>\n</svg>\n",
            "image/png": "[encoded data removed]"
          },
          "metadata": {}
        }
      ],
      "source": [
        "import matplotlib.pyplot as plt\n",
        "\n",
        "# create DataFrame to display feature importance\n",
        "df_feature_importance = (pd.DataFrame(data={\n",
        "    'Feature': X_train.columns[pipeline_rgr['feat_selection'].get_support()],\n",
        "    'Importance': pipeline_rgr['model'].feature_importances_})\n",
        "    .sort_values(by='Importance', ascending=False)\n",
        ")\n",
        "\n",
        "# re-assign best_features order\n",
        "best_features = df_feature_importance['Feature'].to_list()\n",
        "\n",
        "# Most important features statement and plot\n",
        "print(f\"* These are the {len(best_features)} most important features in descending order. \"\n",
        "      f\"The model was trained on them: \\n{df_feature_importance['Feature'].to_list()}\")\n",
        "\n",
        "df_feature_importance.plot(kind='bar', x='Feature', y='Importance')\n",
        "plt.show()"
      ]
    },
    {
      "source": [
        "Note to self: This should create a bar plot of feature importances, showing the most important features on the top.\n",
        "\n",
        "Please note that the pipeline_rgr model's estimator ('model' step in your pipeline) indeed has a .feature_importances_ attribute. The XGBoost, RandomForest, and GradientBoosting regressors do, but others like SVMs and linear models do not. In the latter case, this cell will fail."
      ],
      "cell_type": "markdown",
      "metadata": {}
    },
    {
      "source": [
        "## Evaluate Pipeline on Train and Test Sets"
      ],
      "cell_type": "markdown",
      "metadata": {}
    },
    {
      "cell_type": "code",
      "execution_count": 21,
      "metadata": {},
      "outputs": [],
      "source": [
        "from sklearn.metrics import mean_absolute_error, mean_squared_error, r2_score\n",
        "\n",
        "def regression_metrics(X, y, pipeline):\n",
        "    prediction = pipeline.predict(X)\n",
        "\n",
        "    print('---  Regression Metrics  ---')\n",
        "    print(f\"Mean Absolute Error (MAE): {mean_absolute_error(y, prediction)}\")\n",
        "    print(f\"Mean Squared Error (MSE): {mean_squared_error(y, prediction)}\")\n",
        "    print(f\"Root Mean Squared Error (RMSE): {mean_squared_error(y, prediction, squared=False)}\")\n",
        "    print(f\"R-squared (R^2): {r2_score(y, prediction)}\")\n",
        "\n",
        "def reg_performance(X_train, y_train, X_test, y_test, pipeline):\n",
        "    print(\"#### Train Set #### \\n\")\n",
        "    regression_metrics(X_train, y_train, pipeline)\n",
        "\n",
        "    print(\"\\n#### Test Set ####\\n\")\n",
        "    regression_metrics(X_test, y_test, pipeline)\n"
      ]
    },
    {
      "source": [
        "This version of the function above calculates and prints out regression metrics, which are more relevant for evaluating how well a regression model performs. These include MAE, MSE, RMSE, and R^2.\n",
        "\n",
        "After running this function, we should see these metrics printed out for both our training set and test set. This will give us an idea of how well our model is doing on both the data it was trained on and on new, unseen data."
      ],
      "cell_type": "markdown",
      "metadata": {}
    },
    {
      "cell_type": "code",
      "execution_count": 22,
      "metadata": {
        "tags": []
      },
      "outputs": [
        {
          "output_type": "stream",
          "name": "stdout",
          "text": "#### Train Set #### \n\n---  Regression Metrics  ---\nMean Absolute Error (MAE): 17783.586852843655\nMean Squared Error (MSE): 580749250.1311158\nRoot Mean Squared Error (RMSE): 24098.739596317395\nR-squared (R^2): 0.905675977685939\n\n#### Test Set ####\n\n---  Regression Metrics  ---\nMean Absolute Error (MAE): 22484.657630538044\nMean Squared Error (MSE): 1158042518.860478\nRoot Mean Squared Error (RMSE): 34030.023785775964\nR-squared (R^2): 0.832309922037588\n"
        }
      ],
      "source": [
        "reg_performance(X_train=X_train, y_train=y_train,\n",
        "                X_test=X_test, y_test=y_test,\n",
        "                pipeline=pipeline_rgr)\n",
        "\n",
        "# The function reg_performance will print out the regression metrics \n",
        "# for our training and test datasets using the pipeline we trained."
      ]
    },
    {
      "source": [
        "Overall, these results indicate that the model is performing well, with relatively low MAE values and high R-squared scores, indicating good accuracy and fit to the data."
      ],
      "cell_type": "markdown",
      "metadata": {}
    },
    {
      "source": [
        "# Step 3: Refit pipeline with best features"
      ],
      "cell_type": "markdown",
      "metadata": {}
    },
    {
      "source": [
        "## Refit ML Pipeline and Resampling"
      ],
      "cell_type": "markdown",
      "metadata": {}
    },
    {
      "source": [
        "In theory, a pipeline fitted **using only the most important features** should give the same result as the one fitted with **all variables and feature selection**\n",
        "\n",
        "* However, in this project we have a step for feature augmentation, which is to balance the target Train Set using SMOTE()."
      ],
      "cell_type": "markdown",
      "metadata": {}
    },
    {
      "source": [
        "## Rewrite ML pipeline for Data Cleaning and Feature Engineering"
      ],
      "cell_type": "markdown",
      "metadata": {}
    },
    {
      "cell_type": "code",
      "execution_count": null,
      "metadata": {},
      "outputs": [],
      "source": [
        "best_features"
      ]
    },
    {
      "source": [
        "New Pipeline for DataCleaning And FeatureEngineering"
      ],
      "cell_type": "markdown",
      "metadata": {}
    },
    {
      "cell_type": "code",
      "execution_count": null,
      "metadata": {},
      "outputs": [],
      "source": [
        "def PipelineDataCleaningAndFeatureEngineering():\n",
        "    pipeline_base = Pipeline([\n",
        "\n",
        "        (\"OrdinalCategoricalEncoder\", OrdinalEncoder(encoding_method='arbitrary',\n",
        "                                                     variables=['OverallQual', 'TotalBsmtSF', '2ndFlrSF', 'GarageArea'])),\n",
        "\n",
        "\n",
        "        # we don't need SmartCorrelatedSelection\n",
        "    ])\n",
        "\n",
        "    return pipeline_base"
      ]
    },
    {
      "cell_type": "code",
      "execution_count": null,
      "metadata": {},
      "outputs": [],
      "source": [
        "def PipelineDataCleaningAndFeatureEngineering():\n",
        "    from sklearn.base import BaseEstimator, TransformerMixin\n",
        "\n",
        "    class ConvertToInt64(BaseEstimator, TransformerMixin):\n",
        "        def __init__(self, columns):\n",
        "            self.columns = columns\n",
        "\n",
        "        def fit(self, X, y=None):\n",
        "            return self\n",
        "\n",
        "        def transform(self, X):\n",
        "            for col in self.columns:\n",
        "                X[col] = X[col].astype('Int64')\n",
        "            return X\n",
        "\n",
        "    pipeline_base = Pipeline([\n",
        "        \n",
        "        (\"ConvertToInt64\", ConvertToInt64(columns=['2ndFlrSF'])),        \n",
        "        (\"MedianImputer\", MeanMedianImputer(imputation_method='median', \n",
        "                                             variables=['2ndFlrSF'])),\n",
        "        (\"YeoJohnsonTransformer\", YeoJohnsonTransformer(variables=['TotalBsmtSF', 'GarageArea'])),\n",
        "        \n",
        "\n",
        "    ])\n",
        "\n",
        "    return pipeline_base\n",
        "\n",
        "PipelineDataCleaningAndFeatureEngineering()"
      ]
    },
    {
      "source": [
        "## Rewrite ML Pipeline for Modelling"
      ],
      "cell_type": "markdown",
      "metadata": {}
    },
    {
      "source": [
        "Function for Pipeline optmisation"
      ],
      "cell_type": "markdown",
      "metadata": {}
    },
    {
      "cell_type": "code",
      "execution_count": null,
      "metadata": {},
      "outputs": [],
      "source": [
        "# Pipeline Optmization: Model\n",
        "def PipelineClf(model):\n",
        "    pipeline_base = Pipeline([\n",
        "        (\"scaler\", StandardScaler()),\n",
        "        # no feature selection needed anymore!!! We know which features to use already!\n",
        "        (\"model\", model),\n",
        "    ])\n",
        "\n",
        "    return pipeline_base"
      ]
    },
    {
      "source": [
        "## Split Train Test Set, considering only with best features\n"
      ],
      "cell_type": "markdown",
      "metadata": {}
    },
    {
      "cell_type": "code",
      "execution_count": null,
      "metadata": {
        "tags": []
      },
      "outputs": [],
      "source": [
        "from sklearn.model_selection import train_test_split\n",
        "X_train, X_test, y_train, y_test = train_test_split(\n",
        "    X,\n",
        "    y,\n",
        "    test_size=0.2,\n",
        "    random_state=0,\n",
        ")\n",
        "\n",
        "print(X_train.shape, y_train.shape, X_test.shape, y_test.shape)"
      ]
    },
    {
      "source": [
        "# paste in extra steps here!!!"
      ],
      "cell_type": "markdown",
      "metadata": {}
    },
    {
      "source": [
        "We filter only the most important variables"
      ],
      "cell_type": "markdown",
      "metadata": {}
    },
    {
      "cell_type": "code",
      "execution_count": null,
      "metadata": {
        "tags": []
      },
      "outputs": [],
      "source": [
        "X_train = X_train.filter(best_features)\n",
        "X_test = X_test.filter(best_features)\n",
        "\n",
        "print(X_train.shape, y_train.shape, X_test.shape, y_test.shape)\n",
        "X_train.head(3)"
      ]
    },
    {
      "source": [
        "## Fit pipeline (skip target imbalance)"
      ],
      "cell_type": "markdown",
      "metadata": {}
    },
    {
      "cell_type": "code",
      "execution_count": null,
      "metadata": {
        "tags": []
      },
      "outputs": [],
      "source": [
        "pipeline_data_cleaning_feat_eng = PipelineDataCleaningAndFeatureEngineering()\n",
        "X_train = pipeline_data_cleaning_feat_eng.fit_transform(X_train)\n",
        "X_test = pipeline_data_cleaning_feat_eng.transform(X_test)\n",
        "print(X_train.shape, X_test.shape, y_train.shape, y_test.shape)"
      ]
    },
    {
      "source": [
        "## Grid Search CV: Sklearn"
      ],
      "cell_type": "markdown",
      "metadata": {}
    },
    {
      "source": [
        "Using the most suitable model from the last section and its best hyperparameter configuration."
      ],
      "cell_type": "markdown",
      "metadata": {}
    },
    {
      "source": [
        "We are using the same model from  the last GridCV search"
      ],
      "cell_type": "markdown",
      "metadata": {}
    },
    {
      "cell_type": "code",
      "execution_count": null,
      "metadata": {},
      "outputs": [],
      "source": [
        "models_search #GradientBoostingRegressor"
      ]
    },
    {
      "source": [
        "And the best parameters from the last GridCV search "
      ],
      "cell_type": "markdown",
      "metadata": {}
    },
    {
      "cell_type": "code",
      "execution_count": null,
      "metadata": {},
      "outputs": [],
      "source": [
        "best_parameters"
      ]
    },
    {
      "source": [
        "You will need to type in manually since the hyperparameter values have to be a list. The previous dictionary is not in this format."
      ],
      "cell_type": "markdown",
      "metadata": {}
    },
    {
      "cell_type": "code",
      "execution_count": null,
      "metadata": {},
      "outputs": [],
      "source": [
        "params_search = {\n",
        "    'GradientBoostingRegressor': {\n",
        "        'model__learning_rate': [0.1],   \n",
        "        'model__max_depth': [3],  # Add comma here\n",
        "        'model__n_estimators': [100]\n",
        "    }\n",
        "}\n",
        "params_search"
      ]
    },
    {
      "source": [
        "GridSearch CV"
      ],
      "cell_type": "markdown",
      "metadata": {}
    },
    {
      "cell_type": "code",
      "execution_count": null,
      "metadata": {},
      "outputs": [],
      "source": [
        "from sklearn.metrics import recall_score, make_scorer\n",
        "quick_search = HyperparameterOptimizationSearch(\n",
        "    models=models_search, params=params_search)\n",
        "quick_search.fit(X_train, y_train,\n",
        "                 scoring=make_scorer(recall_score, pos_label=1),\n",
        "                 n_jobs=-1, cv=5)"
      ]
    },
    {
      "cell_type": "code",
      "execution_count": null,
      "metadata": {
        "tags": []
      },
      "outputs": [],
      "source": [
        "from sklearn.metrics import make_scorer, mean_absolute_error\n",
        "\n",
        "scorer = make_scorer(mean_absolute_error, greater_is_better=False)\n",
        "\n",
        "quick_search = HyperparameterOptimizationSearch(models=models_search, params=params_search)\n",
        "quick_search.fit(X_train, y_train, scoring=scorer, n_jobs=-1, cv=5)\n"
      ]
    },
    {
      "source": [
        "Check results"
      ],
      "cell_type": "markdown",
      "metadata": {}
    },
    {
      "cell_type": "code",
      "execution_count": null,
      "metadata": {},
      "outputs": [],
      "source": [
        "grid_search_summary, grid_search_pipelines = quick_search.score_summary(sort_by='mean_score')\n",
        "grid_search_summary "
      ]
    },
    {
      "source": [
        "Define the best clf pipeline"
      ],
      "cell_type": "markdown",
      "metadata": {}
    },
    {
      "cell_type": "code",
      "execution_count": null,
      "metadata": {},
      "outputs": [],
      "source": [
        "best_model = grid_search_summary.iloc[0, 0]\n",
        "pipeline_clf = grid_search_pipelines[best_model].best_estimator_\n",
        "pipeline_clf"
      ]
    },
    {
      "source": [
        "## Assess feature importance"
      ],
      "cell_type": "markdown",
      "metadata": {}
    },
    {
      "cell_type": "code",
      "execution_count": null,
      "metadata": {},
      "outputs": [],
      "source": [
        "best_features = X_train.columns\n",
        "\n",
        "# create DataFrame to display feature importance\n",
        "df_feature_importance = (pd.DataFrame(data={\n",
        "    'Feature': best_features,\n",
        "    'Importance': pipeline_clf['model'].feature_importances_})\n",
        "    .sort_values(by='Importance', ascending=False)\n",
        ")\n",
        "\n",
        "\n",
        "# Most important features statement and plot\n",
        "print(f\"* These are the {len(best_features)} most important features in descending order. \"\n",
        "      f\"The model was trained on them: \\n{df_feature_importance['Feature'].to_list()}\")\n",
        "\n",
        "df_feature_importance.plot(kind='bar', x='Feature', y='Importance')\n",
        "plt.show()"
      ]
    },
    {
      "source": [
        "## Evaluate Pipeline on Train and Test Sets"
      ],
      "cell_type": "markdown",
      "metadata": {}
    },
    {
      "source": [
        "Evaluation: We cross-check with metrics defined in the ML business case.\n",
        "* 80% Recall for Churn, on train and test set.\n",
        "* 80% Precision for no Churn on train and test set. "
      ],
      "cell_type": "markdown",
      "metadata": {}
    },
    {
      "cell_type": "code",
      "execution_count": null,
      "metadata": {},
      "outputs": [],
      "source": [
        "clf_performance(X_train=X_train, y_train=y_train,\n",
        "                X_test=X_test, y_test=y_test,\n",
        "                pipeline=pipeline_clf,\n",
        "                label_map= ['No Churn', 'Churn'] \n",
        "                )"
      ]
    },
    {
      "source": [
        "# Step 4: push files to repo"
      ],
      "cell_type": "markdown",
      "metadata": {}
    },
    {
      "source": [
        "We will generate the following files\n",
        "* Train set\n",
        "* Test set\n",
        "* Data cleaning and Feature Engineering pipeline\n",
        "* Modeling pipeline\n",
        "* features importance plot"
      ],
      "cell_type": "markdown",
      "metadata": {}
    },
    {
      "cell_type": "code",
      "execution_count": null,
      "metadata": {},
      "outputs": [],
      "source": [
        "import joblib\n",
        "import os\n",
        "\n",
        "version = 'v1'\n",
        "file_path = f'outputs/ml_pipeline/predict_churn/{version}'\n",
        "\n",
        "try:\n",
        "    os.makedirs(name=file_path)\n",
        "except Exception as e:\n",
        "    print(e)"
      ]
    },
    {
      "source": [
        "## Train Set"
      ],
      "cell_type": "markdown",
      "metadata": {}
    },
    {
      "source": [
        "* note that the variables **are transformed already** in X_train and the shape is 8266 - after SMOTE was applied."
      ],
      "cell_type": "markdown",
      "metadata": {}
    },
    {
      "cell_type": "code",
      "execution_count": null,
      "metadata": {},
      "outputs": [],
      "source": [
        "print(X_train.shape)\n",
        "X_train.head()"
      ]
    },
    {
      "cell_type": "code",
      "execution_count": null,
      "metadata": {},
      "outputs": [],
      "source": [
        "X_train.to_csv(f\"{file_path}/X_train.csv\", index=False)"
      ]
    },
    {
      "cell_type": "code",
      "execution_count": null,
      "metadata": {},
      "outputs": [],
      "source": [
        "y_train"
      ]
    },
    {
      "cell_type": "code",
      "execution_count": null,
      "metadata": {},
      "outputs": [],
      "source": [
        "y_train.to_csv(f\"{file_path}/y_train.csv\", index=False)"
      ]
    },
    {
      "source": [
        "## Test Set"
      ],
      "cell_type": "markdown",
      "metadata": {}
    },
    {
      "source": [
        "* note that the variables are transformed already in X_test"
      ],
      "cell_type": "markdown",
      "metadata": {}
    },
    {
      "cell_type": "code",
      "execution_count": null,
      "metadata": {},
      "outputs": [],
      "source": [
        "print(X_test.shape)\n",
        "X_test.head()"
      ]
    },
    {
      "cell_type": "code",
      "execution_count": null,
      "metadata": {},
      "outputs": [],
      "source": [
        "X_test.to_csv(f\"{file_path}/X_test.csv\", index=False)"
      ]
    },
    {
      "cell_type": "code",
      "execution_count": null,
      "metadata": {},
      "outputs": [],
      "source": [
        "y_test"
      ]
    },
    {
      "cell_type": "code",
      "execution_count": null,
      "metadata": {},
      "outputs": [],
      "source": [
        "y_test.to_csv(f\"{file_path}/y_test.csv\", index=False)"
      ]
    },
    {
      "source": [
        "## ML Pipelines: Data Cleaning and Feat Eng pipeline and Modelling Pipeline"
      ],
      "cell_type": "markdown",
      "metadata": {}
    },
    {
      "source": [
        "We will save 2 pipelines: \n",
        "* Both should be used in conjunction to predict Live Data.\n",
        "* To predict on Train Set, Test Set we use only pipeline_clf, since the data is already processed.\n",
        "\n",
        "\n",
        "\n",
        "Pipeline responsible for Data Cleaning and Feature Engineering."
      ],
      "cell_type": "markdown",
      "metadata": {}
    },
    {
      "cell_type": "code",
      "execution_count": null,
      "metadata": {},
      "outputs": [],
      "source": [
        "pipeline_data_cleaning_feat_eng"
      ]
    },
    {
      "cell_type": "code",
      "execution_count": null,
      "metadata": {},
      "outputs": [],
      "source": [
        "joblib.dump(value=pipeline_data_cleaning_feat_eng ,\n",
        "            filename=f\"{file_path}/clf_pipeline_data_cleaning_feat_eng.pkl\")"
      ]
    },
    {
      "source": [
        "* Pipeline responsible for Feature Scaling, and Model"
      ],
      "cell_type": "markdown",
      "metadata": {}
    },
    {
      "cell_type": "code",
      "execution_count": null,
      "metadata": {},
      "outputs": [],
      "source": [
        "pipeline_clf"
      ]
    },
    {
      "cell_type": "code",
      "execution_count": null,
      "metadata": {},
      "outputs": [],
      "source": [
        "joblib.dump(value=pipeline_clf ,\n",
        "            filename=f\"{file_path}/clf_pipeline_model.pkl\")"
      ]
    },
    {
      "source": [
        "## Feature Importance plot"
      ],
      "cell_type": "markdown",
      "metadata": {}
    },
    {
      "source": [
        "df_feature_importance.plot(kind='bar',x='Feature',y='Importance')\n",
        "plt.show()"
      ],
      "cell_type": "code",
      "metadata": {},
      "execution_count": null,
      "outputs": []
    },
    {
      "cell_type": "code",
      "execution_count": null,
      "metadata": {},
      "outputs": [],
      "source": [
        "df_feature_importance.plot(kind='bar', x='Feature', y='Importance')\n",
        "plt.savefig(f'{file_path}/features_importance.png', bbox_inches='tight')"
      ]
    },
    {
      "source": [],
      "cell_type": "markdown",
      "metadata": {}
    },
    {
      "source": [
        "Good job, you should clear outputs, then run git commands to push files to the repo. Next, move on to Predict Tenure notebook"
      ],
      "cell_type": "markdown",
      "metadata": {}
    },
    {
      "source": [
        "---"
      ],
      "cell_type": "markdown",
      "metadata": {}
    }
  ],
  "metadata": {
    "accelerator": "GPU",
    "colab": {
      "name": "Data Practitioner Jupyter Notebook.ipynb",
      "provenance": [],
      "toc_visible": true
    },
    "interpreter": {
      "hash": "8b8334dab9339717f727a1deaf837b322d7a41c20d15cc86be99a8e69ceec8ce"
    },
    "kernelspec": {
      "display_name": "Python 3.8.12 64-bit ('3.8.12': pyenv)",
      "name": "python381264bit3812pyenvc44d0ba3d4d74926a1a78ae71e39f6ac"
    },
    "language_info": {
      "codemirror_mode": {
        "name": "ipython",
        "version": 3
      },
      "file_extension": ".py",
      "mimetype": "text/x-python",
      "name": "python",
      "nbconvert_exporter": "python",
      "pygments_lexer": "ipython3",
      "version": "3.8.12-final"
    },
    "orig_nbformat": 2
  },
  "nbformat": 4,
  "nbformat_minor": 2
}