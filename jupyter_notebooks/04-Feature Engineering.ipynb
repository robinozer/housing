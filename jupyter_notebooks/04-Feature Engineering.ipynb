{
  "cells": [
    {
      "source": [
        "# **Notebook 4: Feature Engineering**"
      ],
      "cell_type": "markdown",
      "metadata": {
        "id": "0aStgWSO0E0E"
      }
    },
    {
      "cell_type": "markdown",
      "metadata": {
        "id": "1eLEkw5O0ECa"
      },
      "source": [
        "## Objectives\n",
        "\n",
        "* Engineer features for Regression models\n",
        "\n",
        "## Inputs\n",
        "\n",
        "* outputs/datasets/cleaned/train/TrainSetCleaned.csv\n",
        "* outputs/datasets/cleaned/test/TestSetCleaned.csv\n",
        "\n",
        "## Outputs\n",
        "\n",
        "* Generate a list with variables to engineer\n",
        "\n",
        "## Conclusions\n",
        "\n",
        "* Feature Engineering Transformers\n",
        "  * Ordinal categorical encoding: `['BsmtExposure', 'BsmtFinType1', 'GarageFinish', 'KitchenQual']`\n",
        "  * Numerical transformation: `['1stFlrSF',\n",
        "    '2ndFlrSF',\n",
        "    'BedroomAbvGr',\n",
        "    'BsmtFinSF1',\n",
        "    'BsmtUnfSF',\n",
        "    'TotalBsmtSF',\n",
        "    'GarageArea',\n",
        "    'GarageYrBlt',\n",
        "    'GrLivArea',\n",
        "    'LotArea',\n",
        "    'LotFrontage',\n",
        "    'MasVnrArea',\n",
        "    'OpenPorchSF',\n",
        "    'OverallCond',\n",
        "    'OverallQual',\n",
        "    'YearBuilt',\n",
        "    'YearRemodAdd']`\n",
        "  * Smart Correlation Selection: `[]`\n",
        "\n"
      ]
    },
    {
      "cell_type": "markdown",
      "metadata": {
        "id": "9uWZXH9LwoQg"
      },
      "source": [
        "---"
      ]
    },
    {
      "cell_type": "markdown",
      "metadata": {
        "id": "cqP-UeN-z3i2"
      },
      "source": [
        "# Change working directory"
      ]
    },
    {
      "cell_type": "markdown",
      "metadata": {},
      "source": [
        "* We are assuming you will store the notebooks in a subfolder, therefore when running the notebook in the editor, you will need to change the working directory"
      ]
    },
    {
      "cell_type": "markdown",
      "metadata": {
        "id": "aOGIGS-uz3i2"
      },
      "source": [
        "We need to change the working directory from its current folder to its parent folder\n",
        "* We access the current directory with os.getcwd()"
      ]
    },
    {
      "cell_type": "code",
      "execution_count": 1,
      "metadata": {
        "id": "wZfF_j-Bz3i4",
        "outputId": "66943449-1436-4c3d-85c7-b85f9f78349b"
      },
      "outputs": [
        {
          "output_type": "execute_result",
          "data": {
            "text/plain": "'/workspaces/housing/jupyter_notebooks'"
          },
          "metadata": {},
          "execution_count": 1
        }
      ],
      "source": [
        "import os\n",
        "current_dir = os.getcwd()\n",
        "current_dir"
      ]
    },
    {
      "cell_type": "markdown",
      "metadata": {
        "id": "9MWW8E7lz3i7"
      },
      "source": [
        "We want to make the parent of the current directory the new current directory\n",
        "* os.path.dirname() gets the parent directory\n",
        "* os.chir() defines the new current directory"
      ]
    },
    {
      "cell_type": "code",
      "execution_count": 2,
      "metadata": {
        "id": "TwHsQRWjz3i9",
        "outputId": "86849db3-cd2f-4cc5-ebb8-2d0caafa1a2c",
        "tags": []
      },
      "outputs": [
        {
          "output_type": "stream",
          "name": "stdout",
          "text": "You set a new current directory\n"
        }
      ],
      "source": [
        "os.chdir(os.path.dirname(current_dir))\n",
        "print(\"You set a new current directory\")"
      ]
    },
    {
      "cell_type": "markdown",
      "metadata": {
        "id": "M_xPk_Ijz3i-"
      },
      "source": [
        "Confirm the new current directory"
      ]
    },
    {
      "cell_type": "code",
      "execution_count": 3,
      "metadata": {
        "id": "vz3S-_kjz3jA",
        "outputId": "00b79ae4-75d0-4a96-d193-ac9ef9847ea2"
      },
      "outputs": [
        {
          "output_type": "execute_result",
          "data": {
            "text/plain": "'/workspaces/housing'"
          },
          "metadata": {},
          "execution_count": 3
        }
      ],
      "source": [
        "current_dir = os.getcwd()\n",
        "current_dir"
      ]
    },
    {
      "cell_type": "markdown",
      "metadata": {
        "id": "-mavJ8DibrcQ"
      },
      "source": [
        "# Section 1: Load and inspect the data"
      ]
    },
    {
      "source": [
        "Train set"
      ],
      "cell_type": "markdown",
      "metadata": {}
    },
    {
      "cell_type": "code",
      "execution_count": 4,
      "metadata": {},
      "outputs": [
        {
          "output_type": "execute_result",
          "data": {
            "text/plain": "   1stFlrSF  2ndFlrSF  BedroomAbvGr BsmtExposure  BsmtFinSF1 BsmtFinType1  \\\n0      1828         0             3           Av          48          Unf   \n1       894         0             2           No           0          Unf   \n2       964         0             2           No         713          ALQ   \n\n   BsmtUnfSF  GarageArea GarageFinish  GarageYrBlt  ...  KitchenQual LotArea  \\\n0       1774         774          Unf         2007  ...           Gd   11694   \n1        894         308          Unf         1962  ...           TA    6600   \n2        163         432          Unf         1921  ...           TA   13360   \n\n   LotFrontage  MasVnrArea  OpenPorchSF  OverallCond  OverallQual  \\\n0           90         452          108            5            9   \n1           60           0            0            5            5   \n2           80           0            0            7            5   \n\n   TotalBsmtSF  YearBuilt  YearRemodAdd  \n0         1822       2007          2007  \n1          894       1962          1962  \n2          876       1921          2006  \n\n[3 rows x 21 columns]",
            "text/html": "<div>\n<style scoped>\n    .dataframe tbody tr th:only-of-type {\n        vertical-align: middle;\n    }\n\n    .dataframe tbody tr th {\n        vertical-align: top;\n    }\n\n    .dataframe thead th {\n        text-align: right;\n    }\n</style>\n<table border=\"1\" class=\"dataframe\">\n  <thead>\n    <tr style=\"text-align: right;\">\n      <th></th>\n      <th>1stFlrSF</th>\n      <th>2ndFlrSF</th>\n      <th>BedroomAbvGr</th>\n      <th>BsmtExposure</th>\n      <th>BsmtFinSF1</th>\n      <th>BsmtFinType1</th>\n      <th>BsmtUnfSF</th>\n      <th>GarageArea</th>\n      <th>GarageFinish</th>\n      <th>GarageYrBlt</th>\n      <th>...</th>\n      <th>KitchenQual</th>\n      <th>LotArea</th>\n      <th>LotFrontage</th>\n      <th>MasVnrArea</th>\n      <th>OpenPorchSF</th>\n      <th>OverallCond</th>\n      <th>OverallQual</th>\n      <th>TotalBsmtSF</th>\n      <th>YearBuilt</th>\n      <th>YearRemodAdd</th>\n    </tr>\n  </thead>\n  <tbody>\n    <tr>\n      <th>0</th>\n      <td>1828</td>\n      <td>0</td>\n      <td>3</td>\n      <td>Av</td>\n      <td>48</td>\n      <td>Unf</td>\n      <td>1774</td>\n      <td>774</td>\n      <td>Unf</td>\n      <td>2007</td>\n      <td>...</td>\n      <td>Gd</td>\n      <td>11694</td>\n      <td>90</td>\n      <td>452</td>\n      <td>108</td>\n      <td>5</td>\n      <td>9</td>\n      <td>1822</td>\n      <td>2007</td>\n      <td>2007</td>\n    </tr>\n    <tr>\n      <th>1</th>\n      <td>894</td>\n      <td>0</td>\n      <td>2</td>\n      <td>No</td>\n      <td>0</td>\n      <td>Unf</td>\n      <td>894</td>\n      <td>308</td>\n      <td>Unf</td>\n      <td>1962</td>\n      <td>...</td>\n      <td>TA</td>\n      <td>6600</td>\n      <td>60</td>\n      <td>0</td>\n      <td>0</td>\n      <td>5</td>\n      <td>5</td>\n      <td>894</td>\n      <td>1962</td>\n      <td>1962</td>\n    </tr>\n    <tr>\n      <th>2</th>\n      <td>964</td>\n      <td>0</td>\n      <td>2</td>\n      <td>No</td>\n      <td>713</td>\n      <td>ALQ</td>\n      <td>163</td>\n      <td>432</td>\n      <td>Unf</td>\n      <td>1921</td>\n      <td>...</td>\n      <td>TA</td>\n      <td>13360</td>\n      <td>80</td>\n      <td>0</td>\n      <td>0</td>\n      <td>7</td>\n      <td>5</td>\n      <td>876</td>\n      <td>1921</td>\n      <td>2006</td>\n    </tr>\n  </tbody>\n</table>\n<p>3 rows × 21 columns</p>\n</div>"
          },
          "metadata": {},
          "execution_count": 4
        }
      ],
      "source": [
        "import pandas as pd\n",
        "\n",
        "TrainSet = pd.read_csv(\"outputs/datasets/cleaned/train/TrainSetCleaned.csv\")\n",
        "TrainSet.head(3)"
      ]
    },
    {
      "source": [
        "Test set"
      ],
      "cell_type": "markdown",
      "metadata": {}
    },
    {
      "cell_type": "code",
      "execution_count": 5,
      "metadata": {},
      "outputs": [
        {
          "output_type": "execute_result",
          "data": {
            "text/plain": "   1stFlrSF  2ndFlrSF  BedroomAbvGr BsmtExposure  BsmtFinSF1 BsmtFinType1  \\\n0      2515         0             4           No        1219          Rec   \n1       958       620             3           No         403          BLQ   \n2       979       224             3           No         185          LwQ   \n\n   BsmtUnfSF  GarageArea GarageFinish  GarageYrBlt  ...  KitchenQual LotArea  \\\n0        816         484          Unf         1975  ...           TA   32668   \n1        238         240          Unf         1941  ...           Fa    9490   \n2        524         352          Unf         1950  ...           Gd    7015   \n\n   LotFrontage  MasVnrArea  OpenPorchSF  OverallCond  OverallQual  \\\n0           69           0            0            3            6   \n1           79           0            0            7            6   \n2           69         161            0            4            5   \n\n   TotalBsmtSF  YearBuilt  YearRemodAdd  \n0         2035       1957          1975  \n1          806       1941          1950  \n2          709       1950          1950  \n\n[3 rows x 21 columns]",
            "text/html": "<div>\n<style scoped>\n    .dataframe tbody tr th:only-of-type {\n        vertical-align: middle;\n    }\n\n    .dataframe tbody tr th {\n        vertical-align: top;\n    }\n\n    .dataframe thead th {\n        text-align: right;\n    }\n</style>\n<table border=\"1\" class=\"dataframe\">\n  <thead>\n    <tr style=\"text-align: right;\">\n      <th></th>\n      <th>1stFlrSF</th>\n      <th>2ndFlrSF</th>\n      <th>BedroomAbvGr</th>\n      <th>BsmtExposure</th>\n      <th>BsmtFinSF1</th>\n      <th>BsmtFinType1</th>\n      <th>BsmtUnfSF</th>\n      <th>GarageArea</th>\n      <th>GarageFinish</th>\n      <th>GarageYrBlt</th>\n      <th>...</th>\n      <th>KitchenQual</th>\n      <th>LotArea</th>\n      <th>LotFrontage</th>\n      <th>MasVnrArea</th>\n      <th>OpenPorchSF</th>\n      <th>OverallCond</th>\n      <th>OverallQual</th>\n      <th>TotalBsmtSF</th>\n      <th>YearBuilt</th>\n      <th>YearRemodAdd</th>\n    </tr>\n  </thead>\n  <tbody>\n    <tr>\n      <th>0</th>\n      <td>2515</td>\n      <td>0</td>\n      <td>4</td>\n      <td>No</td>\n      <td>1219</td>\n      <td>Rec</td>\n      <td>816</td>\n      <td>484</td>\n      <td>Unf</td>\n      <td>1975</td>\n      <td>...</td>\n      <td>TA</td>\n      <td>32668</td>\n      <td>69</td>\n      <td>0</td>\n      <td>0</td>\n      <td>3</td>\n      <td>6</td>\n      <td>2035</td>\n      <td>1957</td>\n      <td>1975</td>\n    </tr>\n    <tr>\n      <th>1</th>\n      <td>958</td>\n      <td>620</td>\n      <td>3</td>\n      <td>No</td>\n      <td>403</td>\n      <td>BLQ</td>\n      <td>238</td>\n      <td>240</td>\n      <td>Unf</td>\n      <td>1941</td>\n      <td>...</td>\n      <td>Fa</td>\n      <td>9490</td>\n      <td>79</td>\n      <td>0</td>\n      <td>0</td>\n      <td>7</td>\n      <td>6</td>\n      <td>806</td>\n      <td>1941</td>\n      <td>1950</td>\n    </tr>\n    <tr>\n      <th>2</th>\n      <td>979</td>\n      <td>224</td>\n      <td>3</td>\n      <td>No</td>\n      <td>185</td>\n      <td>LwQ</td>\n      <td>524</td>\n      <td>352</td>\n      <td>Unf</td>\n      <td>1950</td>\n      <td>...</td>\n      <td>Gd</td>\n      <td>7015</td>\n      <td>69</td>\n      <td>161</td>\n      <td>0</td>\n      <td>4</td>\n      <td>5</td>\n      <td>709</td>\n      <td>1950</td>\n      <td>1950</td>\n    </tr>\n  </tbody>\n</table>\n<p>3 rows × 21 columns</p>\n</div>"
          },
          "metadata": {},
          "execution_count": 5
        }
      ],
      "source": [
        "TestSet = pd.read_csv(\"outputs/datasets/cleaned/test/TestSetCleaned.csv\")\n",
        "TestSet.head(3)"
      ]
    },
    {
      "source": [],
      "cell_type": "markdown",
      "metadata": {}
    },
    {
      "source": [
        "# Feature Engineering Analysis"
      ],
      "cell_type": "markdown",
      "metadata": {}
    },
    {
      "source": [
        "### Custom function:"
      ],
      "cell_type": "markdown",
      "metadata": {}
    },
    {
      "cell_type": "code",
      "execution_count": 6,
      "metadata": {},
      "outputs": [],
      "source": [
        "import scipy.stats as stats\n",
        "import matplotlib.pyplot as plt\n",
        "import seaborn as sns\n",
        "import pandas as pd\n",
        "import warnings\n",
        "from feature_engine import transformation as vt\n",
        "from feature_engine.outliers import Winsorizer\n",
        "from feature_engine.encoding import OrdinalEncoder\n",
        "sns.set(style=\"whitegrid\")\n",
        "warnings.filterwarnings('ignore')\n",
        "\n",
        "\n",
        "def FeatureEngineeringAnalysis(df, analysis_type='numerical'):\n",
        "    \"\"\"\n",
        "    - used for quick feature engineering on numerical and categorical variables\n",
        "    to decide which transformation can better transform the distribution shape\n",
        "    - Once transformed, use a reporting tool, like pandas-profiling, to evaluate distributions\n",
        "    \"\"\"\n",
        "    check_missing_values(df)\n",
        "    allowed_types = ['numerical', 'ordinal_encoder', 'outlier_winsorizer']\n",
        "    check_user_entry_on_analysis_type(analysis_type, allowed_types)\n",
        "    list_column_transformers = define_list_column_transformers(analysis_type)\n",
        "\n",
        "    # Loop in each variable and engineer the data according to the analysis type\n",
        "    df_feat_eng = pd.DataFrame([])\n",
        "    for column in df.columns:\n",
        "        # create additional columns (column_method) to apply the methods\n",
        "        df_feat_eng = pd.concat([df_feat_eng, df[column]], axis=1)\n",
        "        for method in list_column_transformers:\n",
        "            df_feat_eng[f\"{column}_{method}\"] = df[column]\n",
        "\n",
        "        # Apply transformers in respective column_transformers\n",
        "        df_feat_eng, list_applied_transformers = apply_transformers(\n",
        "            analysis_type, df_feat_eng, column)\n",
        "\n",
        "        # For each variable, assess how the transformations perform\n",
        "        transformer_evaluation(\n",
        "            column, list_applied_transformers, analysis_type, df_feat_eng)\n",
        "\n",
        "    return df_feat_eng\n",
        "\n",
        "\n",
        "def check_user_entry_on_analysis_type(analysis_type, allowed_types):\n",
        "    \"\"\" Check analysis type \"\"\"\n",
        "    if analysis_type is None:\n",
        "        raise SystemExit(\n",
        "            f\"You should pass analysis_type parameter as one of the following options: {allowed_types}\")\n",
        "    if analysis_type not in allowed_types:\n",
        "        raise SystemExit(\n",
        "            f\"analysis_type argument should be one of these options: {allowed_types}\")\n",
        "\n",
        "\n",
        "def check_missing_values(df):\n",
        "    if df.isna().sum().sum() != 0:\n",
        "        raise SystemExit(\n",
        "            f\"There is a missing value in your dataset. Please handle that before getting into feature engineering.\")\n",
        "\n",
        "\n",
        "def define_list_column_transformers(analysis_type):\n",
        "    \"\"\" Set suffix columns according to analysis_type\"\"\"\n",
        "    if analysis_type == 'numerical':\n",
        "        list_column_transformers = [\n",
        "            \"log_e\", \"log_10\", \"reciprocal\", \"power\", \"box_cox\", \"yeo_johnson\"]\n",
        "\n",
        "    elif analysis_type == 'ordinal_encoder':\n",
        "        list_column_transformers = [\"ordinal_encoder\"]\n",
        "\n",
        "    elif analysis_type == 'outlier_winsorizer':\n",
        "        list_column_transformers = ['iqr']\n",
        "\n",
        "    return list_column_transformers\n",
        "\n",
        "\n",
        "def apply_transformers(analysis_type, df_feat_eng, column):\n",
        "    for col in df_feat_eng.select_dtypes(include='category').columns:\n",
        "        df_feat_eng[col] = df_feat_eng[col].astype('object')\n",
        "\n",
        "    if analysis_type == 'numerical':\n",
        "        df_feat_eng, list_applied_transformers = FeatEngineering_Numerical(\n",
        "            df_feat_eng, column)\n",
        "\n",
        "    elif analysis_type == 'outlier_winsorizer':\n",
        "        df_feat_eng, list_applied_transformers = FeatEngineering_OutlierWinsorizer(\n",
        "            df_feat_eng, column)\n",
        "\n",
        "    elif analysis_type == 'ordinal_encoder':\n",
        "        df_feat_eng, list_applied_transformers = FeatEngineering_CategoricalEncoder(\n",
        "            df_feat_eng, column)\n",
        "\n",
        "    return df_feat_eng, list_applied_transformers\n",
        "\n",
        "\n",
        "def transformer_evaluation(column, list_applied_transformers, analysis_type, df_feat_eng):\n",
        "    # For each variable, assess how the transformations perform\n",
        "    print(f\"* Variable Analyzed: {column}\")\n",
        "    print(f\"* Applied transformation: {list_applied_transformers} \\n\")\n",
        "    for col in [column] + list_applied_transformers:\n",
        "\n",
        "        if analysis_type != 'ordinal_encoder':\n",
        "            DiagnosticPlots_Numerical(df_feat_eng, col)\n",
        "\n",
        "        else:\n",
        "            if col == column:\n",
        "                DiagnosticPlots_Categories(df_feat_eng, col)\n",
        "            else:\n",
        "                DiagnosticPlots_Numerical(df_feat_eng, col)\n",
        "\n",
        "        print(\"\\n\")\n",
        "\n",
        "\n",
        "def DiagnosticPlots_Categories(df_feat_eng, col):\n",
        "    plt.figure(figsize=(4, 3))\n",
        "    sns.countplot(data=df_feat_eng, x=col, palette=[\n",
        "                  '#432371'], order=df_feat_eng[col].value_counts().index)\n",
        "    plt.xticks(rotation=90)\n",
        "    plt.suptitle(f\"{col}\", fontsize=30, y=1.05)\n",
        "    plt.show()\n",
        "    print(\"\\n\")\n",
        "\n",
        "\n",
        "def DiagnosticPlots_Numerical(df, variable):\n",
        "    fig, axes = plt.subplots(1, 3, figsize=(12, 4))\n",
        "    sns.histplot(data=df, x=variable, kde=True, element=\"step\", ax=axes[0])\n",
        "    stats.probplot(df[variable], dist=\"norm\", plot=axes[1])\n",
        "    sns.boxplot(x=df[variable], ax=axes[2])\n",
        "\n",
        "    axes[0].set_title('Histogram')\n",
        "    axes[1].set_title('QQ Plot')\n",
        "    axes[2].set_title('Boxplot')\n",
        "    fig.suptitle(f\"{variable}\", fontsize=30, y=1.05)\n",
        "    plt.tight_layout()\n",
        "    plt.show()\n",
        "\n",
        "\n",
        "def FeatEngineering_CategoricalEncoder(df_feat_eng, column):\n",
        "    list_methods_worked = []\n",
        "    try:\n",
        "        encoder = OrdinalEncoder(encoding_method='arbitrary', variables=[\n",
        "                                 f\"{column}_ordinal_encoder\"])\n",
        "        df_feat_eng = encoder.fit_transform(df_feat_eng)\n",
        "        list_methods_worked.append(f\"{column}_ordinal_encoder\")\n",
        "\n",
        "    except Exception:\n",
        "        df_feat_eng.drop([f\"{column}_ordinal_encoder\"], axis=1, inplace=True)\n",
        "\n",
        "    return df_feat_eng, list_methods_worked\n",
        "\n",
        "\n",
        "def FeatEngineering_OutlierWinsorizer(df_feat_eng, column):\n",
        "    list_methods_worked = []\n",
        "\n",
        "    # Winsorizer iqr\n",
        "    try:\n",
        "        disc = Winsorizer(\n",
        "            capping_method='iqr', tail='both', fold=1.5, variables=[f\"{column}_iqr\"])\n",
        "        df_feat_eng = disc.fit_transform(df_feat_eng)\n",
        "        list_methods_worked.append(f\"{column}_iqr\")\n",
        "    except Exception:\n",
        "        df_feat_eng.drop([f\"{column}_iqr\"], axis=1, inplace=True)\n",
        "\n",
        "    return df_feat_eng, list_methods_worked\n",
        "\n",
        "\n",
        "def FeatEngineering_Numerical(df_feat_eng, column):\n",
        "    list_methods_worked = []\n",
        "\n",
        "    # LogTransformer base e\n",
        "    try:\n",
        "        lt = vt.LogTransformer(variables=[f\"{column}_log_e\"])\n",
        "        df_feat_eng = lt.fit_transform(df_feat_eng)\n",
        "        list_methods_worked.append(f\"{column}_log_e\")\n",
        "    except Exception:\n",
        "        df_feat_eng.drop([f\"{column}_log_e\"], axis=1, inplace=True)\n",
        "\n",
        "    # LogTransformer base 10\n",
        "    try:\n",
        "        lt = vt.LogTransformer(variables=[f\"{column}_log_10\"], base='10')\n",
        "        df_feat_eng = lt.fit_transform(df_feat_eng)\n",
        "        list_methods_worked.append(f\"{column}_log_10\")\n",
        "    except Exception:\n",
        "        df_feat_eng.drop([f\"{column}_log_10\"], axis=1, inplace=True)\n",
        "\n",
        "    # ReciprocalTransformer\n",
        "    try:\n",
        "        rt = vt.ReciprocalTransformer(variables=[f\"{column}_reciprocal\"])\n",
        "        df_feat_eng = rt.fit_transform(df_feat_eng)\n",
        "        list_methods_worked.append(f\"{column}_reciprocal\")\n",
        "    except Exception:\n",
        "        df_feat_eng.drop([f\"{column}_reciprocal\"], axis=1, inplace=True)\n",
        "\n",
        "    # PowerTransformer\n",
        "    try:\n",
        "        pt = vt.PowerTransformer(variables=[f\"{column}_power\"])\n",
        "        df_feat_eng = pt.fit_transform(df_feat_eng)\n",
        "        list_methods_worked.append(f\"{column}_power\")\n",
        "    except Exception:\n",
        "        df_feat_eng.drop([f\"{column}_power\"], axis=1, inplace=True)\n",
        "\n",
        "    # BoxCoxTransformer\n",
        "    try:\n",
        "        bct = vt.BoxCoxTransformer(variables=[f\"{column}_box_cox\"])\n",
        "        df_feat_eng = bct.fit_transform(df_feat_eng)\n",
        "        list_methods_worked.append(f\"{column}_box_cox\")\n",
        "    except Exception:\n",
        "        df_feat_eng.drop([f\"{column}_box_cox\"], axis=1, inplace=True)\n",
        "\n",
        "    # YeoJohnsonTransformer\n",
        "    try:\n",
        "        yjt = vt.YeoJohnsonTransformer(variables=[f\"{column}_yeo_johnson\"])\n",
        "        df_feat_eng = yjt.fit_transform(df_feat_eng)\n",
        "        list_methods_worked.append(f\"{column}_yeo_johnson\")\n",
        "    except Exception:\n",
        "        df_feat_eng.drop([f\"{column}_yeo_johnson\"], axis=1, inplace=True)\n",
        "\n",
        "    return df_feat_eng, list_methods_worked"
      ]
    },
    {
      "source": [],
      "cell_type": "markdown",
      "metadata": {}
    },
    {
      "source": [
        "## Feature Engineering Spreadsheet Summary\n"
      ],
      "cell_type": "markdown",
      "metadata": {}
    },
    {
      "source": [
        "We will use\n",
        "- Categorical Encoding on all 4 categorical variables\n",
        "- Numerical Transformation on all 17 numerical variables\n",
        "- Smart Correlated Selection on all variables"
      ],
      "cell_type": "markdown",
      "metadata": {}
    },
    {
      "source": [
        "## Dealing with Feature Engineering"
      ],
      "cell_type": "markdown",
      "metadata": {}
    },
    {
      "source": [
        "### Categorical Encoding - Ordinal: replaces categories with ordinal numbers "
      ],
      "cell_type": "markdown",
      "metadata": {}
    },
    {
      "source": [
        "* Step 1: Select variable(s)"
      ],
      "cell_type": "markdown",
      "metadata": {}
    },
    {
      "cell_type": "code",
      "execution_count": null,
      "metadata": {},
      "outputs": [],
      "source": [
        "%matplotlib inline"
      ]
    },
    {
      "cell_type": "code",
      "execution_count": null,
      "metadata": {},
      "outputs": [],
      "source": [
        "variables_engineering= ['BsmtExposure', 'BsmtFinType1', 'GarageFinish', 'KitchenQual']\n",
        "\n",
        "variables_engineering"
      ]
    },
    {
      "source": [
        "* Step 2: Create a separate DataFrame, with your variable(s)"
      ],
      "cell_type": "markdown",
      "metadata": {}
    },
    {
      "cell_type": "code",
      "execution_count": null,
      "metadata": {},
      "outputs": [],
      "source": [
        "df_engineering = TrainSet[variables_engineering].copy()\n",
        "df_engineering.head(3)"
      ]
    },
    {
      "source": [
        "- Step 3: Create engineered variables(s) by applying the transformation(s), assess engineered variables distribution and select the most suitable method for each variable."
      ],
      "cell_type": "markdown",
      "metadata": {}
    },
    {
      "cell_type": "code",
      "execution_count": null,
      "metadata": {},
      "outputs": [],
      "source": [
        "%matplotlib inline"
      ]
    },
    {
      "cell_type": "code",
      "execution_count": null,
      "metadata": {
        "tags": []
      },
      "outputs": [],
      "source": [
        "df_engineering = FeatureEngineeringAnalysis(df=df_engineering, analysis_type='ordinal_encoder')"
      ]
    },
    {
      "source": [
        " - For all variables, the transformation is effective, since it converted categories to numbers.\n",
        " - None of the variables seem to be normally distributed."
      ],
      "cell_type": "markdown",
      "metadata": {}
    },
    {
      "source": [
        "- Step 4 - Apply the selected transformation to the Train and Test set"
      ],
      "cell_type": "markdown",
      "metadata": {}
    },
    {
      "cell_type": "code",
      "execution_count": null,
      "metadata": {
        "tags": []
      },
      "outputs": [],
      "source": [
        "# the steps are: \n",
        "# 1 - create a transformer\n",
        "# 2 - fit_transform into TrainSet\n",
        "# 3 - transform into TestSet \n",
        "encoder = OrdinalEncoder(encoding_method='arbitrary', variables = variables_engineering)\n",
        "TrainSet = encoder.fit_transform(TrainSet)\n",
        "TestSet = encoder.transform(TestSet)\n",
        "\n",
        "print(\"* Categorical encoding - ordinal transformation done!\")"
      ]
    },
    {
      "source": [],
      "cell_type": "markdown",
      "metadata": {}
    },
    {
      "source": [
        "### Numerical Transformation"
      ],
      "cell_type": "markdown",
      "metadata": {}
    },
    {
      "source": [
        "* Step 1: Select variable(s)"
      ],
      "cell_type": "markdown",
      "metadata": {}
    },
    {
      "cell_type": "code",
      "execution_count": 7,
      "metadata": {},
      "outputs": [
        {
          "output_type": "execute_result",
          "data": {
            "text/plain": "['1stFlrSF',\n '2ndFlrSF',\n 'BedroomAbvGr',\n 'BsmtFinSF1',\n 'BsmtUnfSF',\n 'TotalBsmtSF',\n 'GarageArea',\n 'GarageYrBlt',\n 'GrLivArea',\n 'LotArea',\n 'LotFrontage',\n 'MasVnrArea',\n 'OpenPorchSF',\n 'OverallCond',\n 'OverallQual',\n 'YearBuilt',\n 'YearRemodAdd']"
          },
          "metadata": {},
          "execution_count": 7
        }
      ],
      "source": [
        "variables_engineering = ['1stFlrSF',\n",
        "    '2ndFlrSF',\n",
        "    'BedroomAbvGr',\n",
        "    'BsmtFinSF1',\n",
        "    'BsmtUnfSF',\n",
        "    'TotalBsmtSF',\n",
        "    'GarageArea',\n",
        "    'GarageYrBlt',\n",
        "    'GrLivArea',\n",
        "    'LotArea',\n",
        "    'LotFrontage',\n",
        "    'MasVnrArea',\n",
        "    'OpenPorchSF',\n",
        "    'OverallCond',\n",
        "    'OverallQual',\n",
        "    'YearBuilt',\n",
        "    'YearRemodAdd'\n",
        "]\n",
        "\n",
        "variables_engineering"
      ]
    },
    {
      "source": [
        "* Step 2: Divide my variables into three chunks (I was experiencing issues with the transformation because of the large number of variables processed simultaneously)."
      ],
      "cell_type": "markdown",
      "metadata": {}
    },
    {
      "cell_type": "code",
      "execution_count": 8,
      "metadata": {},
      "outputs": [],
      "source": [
        "# Get the total number of variables\n",
        "total_variables = len(variables_engineering)\n",
        "\n",
        "# Split the variables into three chunks\n",
        "variables_engineering_1 = variables_engineering[:total_variables//3]\n",
        "variables_engineering_2 = variables_engineering[total_variables//3:(total_variables//3)*2]\n",
        "variables_engineering_3 = variables_engineering[(total_variables//3)*2:]"
      ]
    },
    {
      "source": [
        "* Step 3: Create separate DataFrames and run the feature engineering function on each subset of data\n",
        "In this code, after processing each chunk, we delete the dataframe to clear up memory and then call the garbage collector (gc.collect()) to free up memory that's no longer in use. This is to help to prevent the notebook from running out of resources.\n",
        "- For users of this notebook, clear the cell output before running the next chunk in order to avoid crashing the notebook."
      ],
      "cell_type": "markdown",
      "metadata": {}
    },
    {
      "cell_type": "code",
      "execution_count": null,
      "metadata": {
        "tags": []
      },
      "outputs": [],
      "source": [
        "#Create the first dataframe and run the transformations\n",
        "df_engineering_1 = TrainSet[variables_engineering_1].copy()\n",
        "df_engineering_1 = FeatureEngineeringAnalysis(df=df_engineering_1, analysis_type='numerical')"
      ]
    },
    {
      "source": [
        "* Assess engineered variables distribution and select the most suitable method\n",
        "* For each variable, write your conclusion on how the transformation(s) look(s) to be effective :\n",
        "1. '1stFlrSF' = log-e and log-10 shows similar results in normalizing the data, as do Box-Cox and Yeo-Johnson. Any of these transformations could be used. Since the latter two include the log transformation, we could use either of them.\n",
        "2. '2ndFlrSF' = only power and Yeo-Johnson were applied to this variable, none of which normalize the data. The reason seems to be that the variable contains a large number of zeros. Ordinarily Yeo-Johnson is equipped to handle zeros since the log transformation is undefined for zero. However, in this case it did not normalize the data.\n",
        "3. 'BedroomAbvGr' = neither power nor Yeo-Johnson helped normalize the data.\n",
        "4. 'BsmtFinSF1' = neither power nor Yeo-Johnson helped normalize the data.\n",
        "5. 'BsmtUnfSF' = both power and Yeo-Johnson normalized the data somewhat, although there is still a large number of zeros at the tail end of the curve."
      ],
      "cell_type": "markdown",
      "metadata": {}
    },
    {
      "cell_type": "code",
      "execution_count": null,
      "metadata": {},
      "outputs": [],
      "source": [
        "# Delete the first dataframe to free memory\n",
        "del df_engineering_1\n",
        "import gc\n",
        "gc.collect()"
      ]
    },
    {
      "cell_type": "code",
      "execution_count": null,
      "metadata": {
        "tags": []
      },
      "outputs": [],
      "source": [
        "# Create the second dataframe and run the transformations\n",
        "df_engineering_2 = TrainSet[variables_engineering_2].copy()\n",
        "df_engineering_2 = FeatureEngineeringAnalysis(df=df_engineering_2, analysis_type='numerical')"
      ]
    },
    {
      "source": [
        "* Assess engineered variables distribution and select the most suitable method\n",
        "* For each variable, write your conclusion on how the transformation(s) look(s) to be effective :\n",
        "1. 'TotalBsmtSF' = Power and Yeo-Johnson were applied, the latter of which improves normality somewhat.\n",
        "2. 'GarageArea' = Power and Yeo-Johnson were applied, the latter of which improves normality somewhat.\n",
        "3. 'GarageYrBlt' = A number of transformers were applied but none help normalize the data.\n",
        "4. 'GrLivArea' = both log transformations, as well as box-cox and Yeo-Johnson normalize the data.\n",
        "5. 'LotArea' = Again, both log transformations, as well as box-cox and Yeo-Johnson normalize the data."
      ],
      "cell_type": "markdown",
      "metadata": {}
    },
    {
      "cell_type": "code",
      "execution_count": null,
      "metadata": {},
      "outputs": [],
      "source": [
        "# Delete the second dataframe to free memory\n",
        "del df_engineering_2\n",
        "gc.collect()"
      ]
    },
    {
      "cell_type": "code",
      "execution_count": null,
      "metadata": {},
      "outputs": [],
      "source": [
        "# Create the third dataframe and run the transformations\n",
        "df_engineering_3 = TrainSet[variables_engineering_3].copy()\n",
        "df_engineering_3 = FeatureEngineeringAnalysis(df=df_engineering_3, analysis_type='numerical')"
      ]
    },
    {
      "source": [
        "* Assess engineered variables distribution and select the most suitable method\n",
        "* For each variable, write your conclusion on how the transformation(s) look(s) to be effective :\n",
        "1. 'LotFrontage' = Both log transformations show normalization of data, as do power, box-cox and Yeo-Johnson transformations.\n",
        "2. 'MasVnrArea' = Due to the very high number of zeros in the variable, no transformations are able to normalize the data.\n",
        "3. 'OpenPorchSF' = Due to the very high number of zeros in the variable, no transformations are able to normalize the data.\n",
        "4. 'OverallCond' = none of the transformations appear to normalize the data.\n",
        "5. 'OverallQual' = none of the transformations improve data normality much.\n",
        "6. 'YearBuilt' = none of the transformations normalize the data significantly.\n",
        "7. 'YearRemodAdd' = none of the transformations normalize the data significantly."
      ],
      "cell_type": "markdown",
      "metadata": {}
    },
    {
      "cell_type": "code",
      "execution_count": null,
      "metadata": {},
      "outputs": [],
      "source": [
        "# Delete the third dataframe to free memory\n",
        "del df_engineering_3\n",
        "gc.collect()"
      ]
    },
    {
      "source": [],
      "cell_type": "markdown",
      "metadata": {}
    },
    {
      "source": [
        "* Step 4 - Apply the selected transformation to the Train and Test set"
      ],
      "cell_type": "markdown",
      "metadata": {}
    },
    {
      "cell_type": "code",
      "execution_count": null,
      "metadata": {},
      "outputs": [],
      "source": [
        "# write code for transforming train and test set here."
      ]
    },
    {
      "source": [],
      "cell_type": "markdown",
      "metadata": {}
    },
    {
      "source": [
        "### SmartCorrelatedSelection Variables"
      ],
      "cell_type": "markdown",
      "metadata": {}
    },
    {
      "source": [
        "* Step 1: Select variable(s)"
      ],
      "cell_type": "markdown",
      "metadata": {}
    },
    {
      "cell_type": "code",
      "execution_count": null,
      "metadata": {},
      "outputs": [],
      "source": [
        "# for this transformer, you don't need to select variables, since you need all variables for this transformer"
      ]
    },
    {
      "source": [
        "* Step 2: Create a separate DataFrame, with your variable(s)"
      ],
      "cell_type": "markdown",
      "metadata": {}
    },
    {
      "cell_type": "code",
      "execution_count": null,
      "metadata": {},
      "outputs": [],
      "source": [
        "df_engineering = TrainSet.copy()\n",
        "df_engineering.head(3)"
      ]
    },
    {
      "source": [
        "* Step 3: Create engineered variables(s) applying the transformation(s)"
      ],
      "cell_type": "markdown",
      "metadata": {}
    },
    {
      "cell_type": "code",
      "execution_count": null,
      "metadata": {},
      "outputs": [],
      "source": [
        "from feature_engine.selection import SmartCorrelatedSelection\n",
        "corr_sel = SmartCorrelatedSelection(variables=None, method=\"spearman\", threshold=0.6, selection_method=\"variance\")\n",
        "\n",
        "corr_sel.fit_transform(df_engineering)\n",
        "corr_sel.correlated_feature_sets_"
      ]
    },
    {
      "cell_type": "code",
      "execution_count": null,
      "metadata": {},
      "outputs": [],
      "source": [
        "corr_sel.features_to_drop_"
      ]
    },
    {
      "source": [
        "----"
      ],
      "cell_type": "markdown",
      "metadata": {}
    },
    {
      "source": [
        "# Conclusion"
      ],
      "cell_type": "markdown",
      "metadata": {}
    },
    {
      "source": [
        "The list below shows the transformations needed for feature engineering.\n",
        "  * We will add these steps to the ML Pipeline"
      ],
      "cell_type": "markdown",
      "metadata": {}
    },
    {
      "source": [
        "Feature Engineering Transformers\n",
        "  * Ordinal categorical encoding: `['BsmtExposure', 'BsmtFinType1', 'GarageFinish', 'KitchenQual']`\n",
        "  * Numerical transformation: `['1stFlrSF',\n",
        "    '2ndFlrSF',\n",
        "    'BedroomAbvGr',\n",
        "    'BsmtFinSF1',\n",
        "    'BsmtUnfSF',\n",
        "    'TotalBsmtSF',\n",
        "    'GarageArea',\n",
        "    'GarageYrBlt',\n",
        "    'GrLivArea',\n",
        "    'LotArea',\n",
        "    'LotFrontage',\n",
        "    'MasVnrArea',\n",
        "    'OpenPorchSF',\n",
        "    'OverallCond',\n",
        "    'OverallQual',\n",
        "    'YearBuilt',\n",
        "    'YearRemodAdd']`\n",
        "  * Smart Correlation Selection: `[]`"
      ],
      "cell_type": "markdown",
      "metadata": {}
    }
  ],
  "metadata": {
    "accelerator": "GPU",
    "colab": {
      "name": "Data Practitioner Jupyter Notebook.ipynb",
      "provenance": [],
      "toc_visible": true
    },
    "interpreter": {
      "hash": "8b8334dab9339717f727a1deaf837b322d7a41c20d15cc86be99a8e69ceec8ce"
    },
    "kernelspec": {
      "display_name": "Python 3.8.12 64-bit ('3.8.12': pyenv)",
      "name": "python381264bit3812pyenvc44d0ba3d4d74926a1a78ae71e39f6ac"
    },
    "language_info": {
      "codemirror_mode": {
        "name": "ipython",
        "version": 3
      },
      "file_extension": ".py",
      "mimetype": "text/x-python",
      "name": "python",
      "nbconvert_exporter": "python",
      "pygments_lexer": "ipython3",
      "version": "3.8.12-final"
    },
    "orig_nbformat": 2
  },
  "nbformat": 4,
  "nbformat_minor": 2
}